{
 "cells": [
  {
   "cell_type": "markdown",
   "metadata": {},
   "source": [
    "## 使用 GET 抓取 Mobile01"
   ]
  },
  {
   "cell_type": "code",
   "execution_count": 1,
   "metadata": {},
   "outputs": [
    {
     "name": "stdout",
     "output_type": "stream",
     "text": [
      "<Response [200]>\n"
     ]
    }
   ],
   "source": [
    "import requests\n",
    "\n",
    "headers = {\n",
    "    'user-agent': 'Mozilla/5.0 (Windows NT 10.0; Win64; x64) AppleWebKit/537.36 (KHTML, like Gecko) Chrome/86.0.4240.75 Safari/537.36'\n",
    "}\n",
    "\n",
    "res = requests.get('https://www.mobile01.com/topiclist.php?f=18', headers = headers)\n",
    "print(res)\n",
    "#print(res.text)\n"
   ]
  },
  {
   "cell_type": "markdown",
   "metadata": {},
   "source": [
    "## 取得頁面清單連結"
   ]
  },
  {
   "cell_type": "code",
   "execution_count": null,
   "metadata": {},
   "outputs": [],
   "source": [
    "import requests\n",
    "from bs4 import BeautifulSoup\n",
    "headers = {\n",
    "    'user-agent': 'Mozilla/5.0 (Windows NT 10.0; Win64; x64) AppleWebKit/537.36 (KHTML, like Gecko) Chrome/86.0.4240.75 Safari/537.36'\n",
    "}\n",
    "res = requests.get('https://www.mobile01.com/topiclist.php?f=18', headers = headers)\n",
    "\n",
    "#用迴圈遍歷含有 div.l-listTable__tr 的元素\n",
    "soup = BeautifulSoup(res.text , 'lxml')\n",
    "for tr in soup.select('div.l-listTable__tr'):\n",
    "    print(tr)\n"
   ]
  },
  {
   "cell_type": "code",
   "execution_count": 3,
   "metadata": {},
   "outputs": [
    {
     "name": "stdout",
     "output_type": "stream",
     "text": [
      "亞太期間限定88資費 25 https://www.mobile01.com/topicdetail.php?f=18&t=6213108\n",
      "遠傳5G熱點分享2000G???? 0 https://www.mobile01.com/topicdetail.php?f=18&t=6213653\n",
      "台灣之星店員說 2020 不會有雙11優惠4G方案 84 https://www.mobile01.com/topicdetail.php?f=18&t=6208135\n",
      "中華電信母親節方案499即將到期,請問到期的朋友有找到代替方案了嗎? 30 https://www.mobile01.com/topicdetail.php?f=18&t=6212751\n",
      "中華 VS 遠傳 Speedtest PK 0 https://www.mobile01.com/topicdetail.php?f=18&t=6213586\n",
      "亞太11又出現了 170 https://www.mobile01.com/topicdetail.php?f=18&t=6195245\n",
      "請小心此類網友 46 https://www.mobile01.com/topicdetail.php?f=18&t=6210570\n",
      "遠傳不要網路有什麼便宜方案 ? 13 https://www.mobile01.com/topicdetail.php?f=18&t=6211826\n",
      "5G 實測蓋大樓囉~ 141 https://www.mobile01.com/topicdetail.php?f=18&t=6131068\n",
      "連手機熱點的設備能跑到100M嗎 11 https://www.mobile01.com/topicdetail.php?f=18&t=6208626\n",
      "台哥大299吃到飽留客方案! 731 https://www.mobile01.com/topicdetail.php?f=18&t=5797944\n",
      "今年的 5G iphone 亞太的 5G mmwave 無法使用了⋯⋯😭 23 https://www.mobile01.com/topicdetail.php?f=18&t=6212622\n",
      "中華電信預付卡未儲值被停掉變空號疑問 15 https://www.mobile01.com/topicdetail.php?f=18&t=6211193\n",
      "神奇的遠傳活動簡訊 5 https://www.mobile01.com/topicdetail.php?f=18&t=6212468\n",
      "1111 三大的5G 599應該會下殺到499吧! 16 https://www.mobile01.com/topicdetail.php?f=18&t=6207634\n",
      "費率一樣599要辦4G還是5G 22 https://www.mobile01.com/topicdetail.php?f=18&t=6212077\n",
      "分享後不會被電信業者偵測 判定為分享的5G usb純網卡, 發明出來了沒?  台灣何時上市? 25 https://www.mobile01.com/topicdetail.php?f=18&t=6212632\n",
      "期待699月租零元i12 3 https://www.mobile01.com/topicdetail.php?f=18&t=6213342\n",
      "台星iPhone 12預約優惠 AirPods Pro半價 6 https://www.mobile01.com/topicdetail.php?f=18&t=6213041\n",
      "電信門號退租，員工扣業績？ 30 https://www.mobile01.com/topicdetail.php?f=18&t=6210195\n",
      "[消失的收據] 幫備份：這版有人被告公然侮辱了。開放登記免費雞排50份 185 https://www.mobile01.com/topicdetail.php?f=18&t=6186791\n",
      "台灣大哥大 優惠方案(攜碼) 456 https://www.mobile01.com/topicdetail.php?f=18&t=5799167\n",
      "遠傳吃到飽319不降速電銷方案 542 https://www.mobile01.com/topicdetail.php?f=18&t=6008764\n",
      "亞太新朋友資費 30 https://www.mobile01.com/topicdetail.php?f=18&t=6211959\n",
      "電信會提供免費的5G試用嗎 315 https://www.mobile01.com/topicdetail.php?f=18&t=6130259\n",
      "關於簡訊費用  求教各方大能解答  謝謝 3 https://www.mobile01.com/topicdetail.php?f=18&t=6212389\n",
      "台灣之星過戶之超瞎經驗 28 https://www.mobile01.com/topicdetail.php?f=18&t=5562138\n",
      "google付款隱私問題 7 https://www.mobile01.com/topicdetail.php?f=18&t=6209322\n",
      "我也來抱怨一下好了 42 https://www.mobile01.com/topicdetail.php?f=18&t=6210755\n",
      "華為B525-65A 4G路由器鎖頻 換頻  選頻軟體,華為全系列理論上全部通用 164 https://www.mobile01.com/topicdetail.php?f=18&t=5779912\n"
     ]
    }
   ],
   "source": [
    "domain = 'https://www.mobile01.com/'\n",
    "\n",
    "for tr in soup.select('div.l-listTable__tr'):\n",
    "    if tr.select_one('.c-listTableTd__title a'):\n",
    "        title = tr.select_one('.c-listTableTd__title a').text.strip()\n",
    "        link = domain + tr.select_one('.c-listTableTd__title a').get('href')\n",
    "        cnt = tr.select_one('.o-fMini').text\n",
    "        print(title, cnt, link)\n"
   ]
  },
  {
   "cell_type": "markdown",
   "metadata": {},
   "source": [
    "## 爬取頁面內容"
   ]
  },
  {
   "cell_type": "code",
   "execution_count": 4,
   "metadata": {},
   "outputs": [
    {
     "data": {
      "text/plain": [
       "'台灣大哥大 優惠方案(攜碼)'"
      ]
     },
     "execution_count": 4,
     "metadata": {},
     "output_type": "execute_result"
    }
   ],
   "source": [
    "detailurl = 'https://www.mobile01.com/topicdetail.php?f=18&t=5799167'\n",
    "res = requests.get(detailurl, headers = headers)\n",
    "soup = BeautifulSoup(res.text, 'lxml')\n",
    "soup.select_one('h1.t2').text\n"
   ]
  },
  {
   "cell_type": "code",
   "execution_count": 5,
   "metadata": {},
   "outputs": [
    {
     "name": "stdout",
     "output_type": "stream",
     "text": [
      "紫夏嵐 2019-05-21 19:42 剛台灣大哥大電銷專員來電談攜碼合約\n",
      "原599元月租,每月減免200元, 還有1500元可抵扣月租 綁約24個月\n",
      "等於說1~15個月每月299元 , 16~24個月每月399元\n",
      "平均每月336元\n",
      "合約內容 :上網吃到飽不限速, 不降速\n",
      "網內免費 , 網外送45分鐘 超過0.033/秒 市話0.033/秒\n",
      "台灣之星388月租21m 剛好合約7月中到期,所以就辦攜碼了~\n",
      "台灣大哥大會在7月中生效~~~我覺得蠻值得的~\n",
      "\n",
      "\n",
      "\n",
      "ps.各位大大,如果有需要 , 我會私訊給你\n",
      "祝大家申辦順利 ~~~\n",
      "q13579.nomo 2019-05-21 20:05 遠傳也打台灣之星門號給我開相同的條件，我說我合約要到期的是中華電信不是你打的這門台星門號，結果條件立馬通通加+100\n",
      "\n",
      "電銷也表明他們要搶的是台星，只有台星攜碼才有前15個月299後9個月399這條件~~\n",
      "\n",
      "真不懂搶台灣之星的用戶有什麼意思？把老大哥的全搶過來多爽？\n",
      "紫夏嵐 2019-05-21 20:27 q13579.nomo wrote:\n",
      "遠傳也打台灣之星門號...(恕刪)\n",
      "\n",
      "\n",
      "各家電信除中華電信,5月份都在打價格戰\n",
      "合約內容越來越敢給\n",
      "最終受益的就是我們這群消費者\n",
      "至於為何針對台灣之星, 可能是它們的戰略\n",
      "老大哥不好打吧~~~\n",
      "snchris 2019-05-21 20:36 q13579.nomo wrote:\n",
      "遠傳也打台灣之星門號...(恕刪)\n",
      "\n",
      "打趴台星就可以開始提高價格啦,反正台星財務應該頗糟,兩大可能覺得能打到它5G出局,賤價出售最好\n",
      "打中華根本找死,大哥下海來戰肯定輕鬆把其他家收了,就是怕中華手癢,不然中華電鄭董事長怎麼在母親節前退休了\n",
      "q13579.nomo 2019-05-21 20:39 結果我不但沒接受遠傳的offer，還把中華的門號也攜來台星299吃到飽~~~現在二門台星門號了\n",
      "\n",
      "原本就有台星的月繳88誰在跟你399, 499啊？\n",
      "\n",
      "這三大不但沒打趴台星用戶還被台星洗走，再用這種老大姿態對付台星試看看啊~~\n",
      "法客 「懶人文」「討戰文」「風向文」「廢文」恕不回應，覺得不錯記得按讚 紫夏嵐 wrote:\n",
      "剛台灣大哥大電銷專...(恕刪)\n",
      "\n",
      "\n",
      "我也接到了\n",
      "299吃到飽\n",
      "我只聽她說幾秒我就掛電話了⋯⋯⋯🙄\n",
      "pcu 2019-05-21 22:29 q13579.nomo wrote:\n",
      "電銷也表明他們要搶的是台星...(恕刪)\n",
      "\n",
      "\n",
      "\n",
      "\n",
      "對喔 互打很明顯\n",
      "\n",
      "------------------------\n",
      "\n",
      "四月初 算是我奇幻簽約解約簽約解約..的初期\n",
      "最開始是問中華 都沒499之類的可辦\n",
      "後來問遠傳 兩家都開488 謝謝再聯絡 XD\n",
      "第一家試用的就是台星 約(25-35) (20-25) 大致這樣比21M快一咪咪\n",
      "所以我就跑回去說 讓我辦全速北漂399 不然全速499太吃虧\n",
      "而且 我是要放分享器 不適合NP過來\n",
      "\n",
      "結果 他說 盡量去紅色那家 弄個預付卡過來 不然不能辦@@\n",
      "100*12*2=2400(利益) > 300 (成本) 這樣\n",
      "我說這樣造成別家困擾\n",
      "他又說 不然NP來188 + 288降速21M吃到飽\n",
      "我就離開了\n",
      "\n",
      "當天跑了四家中華電 新辦了499\n",
      "既然都499了 幹嘛辦你台星 XD\n",
      "\n",
      "---------------------------\n",
      "\n",
      "4/15 看網路 鹿talk社 有送預付卡\n",
      "用一陣子 發現居然我家 是遠傳最快...埋下 換換 病的種子\n",
      "\n",
      "剛好中華的又出現一些誤會扣了一點錢\n",
      "主門號只有1G 似乎不大夠\n",
      "以及加掛HAMI..限用CHT-WIFI..等奇怪事件\n",
      "2之中華門號合成一支 然後變成奇杷合約\n",
      "\n",
      "乾脆就通通解得乾乾淨淨 門市繳了兩千多違約金\n",
      "櫃台先生臉很黑\n",
      "然後低資費剩下 199約 199無約 預付卡300 NP出去\n",
      "四種選項.....QQ\n",
      "打客服 也是沒救 還特別說 112併帳單 不必到門市了(沒想慰留..)\n",
      "\n",
      "剛好看到遠傳\n",
      "https://www.ptt.cc/bbs/MobileComm/M.1557575176.A.67F.html\n",
      "分兩次 一次新辦399 一個NP88 加上 每月約攤中華100的違約金\n",
      "主要是我都是在實體門市辦的 網路或電銷有機會再低一點\n",
      "例如亞太188限21M 299全速 都剛好此時推出也有試用過都OK\n",
      "\n",
      "本來沒遠傳的 變成遠傳3個號 @@ 不知有沒有氣一下台星!!\n",
      "\n",
      "相同條件 台哥原本也有\n",
      "https://www.vac.gov.tw/cp-2246-66966-105.html\n",
      "只是要網路辦 而且找到接頭人後\n",
      "說榮民證不行 @@ 所以兩號都到遠傳去了\n",
      "---------------------------------------------\n",
      "\n",
      "話說回來 一開始如果中華有辦成499 主號流量充足手機開分享 沒買分享器\n",
      "應該後續問題不會那樣大 13年老客戶 沒用\n",
      "zpippat 2019-05-21 22:36 紫夏嵐 wrote:\n",
      "剛台灣大哥大電銷專員...(恕刪)\n",
      "\n",
      "\n",
      "請問有專員代碼嗎。我也想攜碼\n",
      "感謝\n",
      "bob0123 2019-05-21 23:22 樓主這個台哥大不限速方案之前就有了，而且是 299*18個月 + 399*6個月，後來才改成只有前 15個月 299。\n",
      "\n",
      "倒是台星，我今天下午一點半左右第一次接到台星的電銷，就是要推薦現在的 299 不限速 + 送 299 分鐘的方案，有點意外，我本來以為這是網路門市專屬的方案。\n",
      "\n",
      "因為我之前就是台星用戶，我家不限速只能跑 23~27M，所以我就沒辦了，順便說了台星一大堆問題點應該要解決的。\n",
      "EX：\n",
      "低月租的超過 100GB 白天限速 10M、晚上限速 5M (晚上看 Youtube 新聞直播只能看 480P，再上去就轉圈圈)。\n",
      "開淘寶比其他業者慢很多，看大陸知名的影音網站、大陸網站追劇轉圈圈撥不動等等...\n",
      "股票軟體容易進不去，出現【連接逾時、連接失敗】的訊息，要求網路重新連接、軟體重開等等...\n",
      "\n",
      "他聽了這些問題之後，說我比他還內行，比他還要了解台星的缺點，他這通電話也只能提供我這個 299 促銷方案的訊息，讓我知道一下，不敢要求我辦方案了。\n",
      "zxc999999 2019-05-22 1:23 紫夏嵐 wrote:剛台灣大哥大電銷專員...(恕刪)\n",
      "\n",
      "打趴台灣之星之後咧？\n",
      "你就等著1399~1699吃到飽吧！支持兩小，才能繼續享有優惠，況且台灣之星跟亞太好用又便宜，雙卡機帶著有差嗎？現在連iphone也可辦esime卡啦！哈哈哈！變雙卡機了！\n",
      "別想太多，三大目前遠傳跟台哥大電銷合力打擊台灣之星，今天給你的甜頭，就1~2年約，司馬昭之心啦！這筆帳，早晚連本帶利跟你要回去啦！\n"
     ]
    }
   ],
   "source": [
    "for comment in soup.select('.l-articlePage'):\n",
    "    author = comment.select_one('.c-authorInfo__id a').text.strip()\n",
    "    dt = comment.select_one('.o-fNotes.o-fSubMini').text\n",
    "    article = comment.select_one('article').text.strip()\n",
    "    print(author, dt, article)\n"
   ]
  },
  {
   "cell_type": "code",
   "execution_count": 7,
   "metadata": {},
   "outputs": [],
   "source": [
    "def getPageComments(pageurl, title ,page):\n",
    "    comments_ary = []\n",
    "    # 抓取該頁資訊\n",
    "    detailurl = pageurl + f'&p={page}'\n",
    "    res = requests.get(detailurl, headers = headers)\n",
    "    soup = BeautifulSoup(res.text, 'lxml')\n",
    "    #取得該頁所有評論\n",
    "    for comment in soup.select('.l-articlePage'):\n",
    "        dic = {}\n",
    "        # 如果該篇文章存在\n",
    "        if comment.select_one('.c-authorInfo__id a'):\n",
    "            dic['title']  = title\n",
    "            dic['author'] = comment.select_one('.c-authorInfo__id a').text.strip()\n",
    "            dic['dt']   = comment.select_one('.o-fNotes.o-fSubMini').text\n",
    "            dic['comment'] = comment.select_one('article').text.strip()\n",
    "            # 新增評論\n",
    "            comments_ary.append(dic)\n",
    "    # 回傳評論\n",
    "    return comments_ary"
   ]
  },
  {
   "cell_type": "code",
   "execution_count": 8,
   "metadata": {},
   "outputs": [],
   "source": [
    "#取得標題\n",
    "title = soup.select_one('h1.t2').text\n",
    "\n",
    "#取得最後一頁\n",
    "last_page = int(soup.select('.l-navigation .l-pagination__page a')[-1].text)"
   ]
  },
  {
   "cell_type": "code",
   "execution_count": 9,
   "metadata": {},
   "outputs": [],
   "source": [
    "import time\n",
    "#用FOR 迴圈取得多頁評論\n",
    "import time\n",
    "pageurl = 'https://www.mobile01.com/topicdetail.php?f=18&t=5799167'\n",
    "comments_all = []\n",
    "for i in range(1, last_page + 1):\n",
    "    comments_all = comments_all + getPageComments(pageurl, title, i)\n",
    "    time.sleep(1)"
   ]
  },
  {
   "cell_type": "code",
   "execution_count": 10,
   "metadata": {},
   "outputs": [
    {
     "data": {
      "text/plain": [
       "{'title': '台灣大哥大 優惠方案(攜碼)',\n",
       " 'author': '紫夏嵐',\n",
       " 'dt': '2019-05-21 19:42',\n",
       " 'comment': '剛台灣大哥大電銷專員來電談攜碼合約\\n原599元月租,每月減免200元, 還有1500元可抵扣月租 綁約24個月\\n等於說1~15個月每月299元 , 16~24個月每月399元\\n平均每月336元\\n合約內容 :上網吃到飽不限速, 不降速\\n網內免費 , 網外送45分鐘 超過0.033/秒 市話0.033/秒\\n台灣之星388月租21m 剛好合約7月中到期,所以就辦攜碼了~\\n台灣大哥大會在7月中生效~~~我覺得蠻值得的~\\n\\n\\n\\nps.各位大大,如果有需要 , 我會私訊給你\\n祝大家申辦順利 ~~~'}"
      ]
     },
     "execution_count": 10,
     "metadata": {},
     "output_type": "execute_result"
    }
   ],
   "source": [
    "comments_all[0]"
   ]
  },
  {
   "cell_type": "code",
   "execution_count": 11,
   "metadata": {},
   "outputs": [],
   "source": [
    "def getAllComments(pageurl):\n",
    "    comments_all = []\n",
    "    res = requests.get(pageurl, headers = headers)\n",
    "    soup = BeautifulSoup(res.text, 'lxml')\n",
    "    title = soup.select_one('h1.t2').text\n",
    "    last_page = 0\n",
    "    if soup.select('.l-navigation .l-pagination__page a'):\n",
    "        last_page = int(soup.select('.l-navigation .l-pagination__page a')[-1].text)\n",
    "    \n",
    "    for i in range(1, last_page + 1):\n",
    "        comments_all = comments_all + getPageComments(pageurl, title, i)\n",
    "    return comments_all"
   ]
  },
  {
   "cell_type": "code",
   "execution_count": 12,
   "metadata": {},
   "outputs": [],
   "source": [
    "res = requests.get('https://www.mobile01.com/topiclist.php?f=18', headers = headers)\n",
    "soup = BeautifulSoup(res.text , 'lxml')\n",
    "\n",
    "comments_total = []\n",
    "for tr in soup.select('div.l-listTable__tr'):\n",
    "    if tr.select_one('.c-listTableTd__title a'):\n",
    "        link = domain + tr.select_one('.c-listTableTd__title a').get('href')\n",
    "        \n",
    "        comments_total = comments_total + getAllComments(link)\n",
    "        \n"
   ]
  },
  {
   "cell_type": "code",
   "execution_count": 13,
   "metadata": {},
   "outputs": [
    {
     "data": {
      "text/plain": [
       "{'title': '亞太期間限定88資費',\n",
       " 'author': '愛豬椅喔',\n",
       " 'dt': '2020-10-14 17:33',\n",
       " 'comment': '剛剛檢查簡訊的時候看到這封\\n\\n\\n申辦期間只到明天，月付88\\n每個月10GB不限速、用完降速到12M吃到飽\\n還有網外及市話30分鐘的優惠\\n\\n最近迷上手遊還有加入一些人多的影片群組流量用很兇\\n現在也是無綁約狀態想說要等雙11\\n到底是該續約這個就好還是等雙11?'}"
      ]
     },
     "execution_count": 13,
     "metadata": {},
     "output_type": "execute_result"
    }
   ],
   "source": [
    "comments_total[0]"
   ]
  },
  {
   "cell_type": "code",
   "execution_count": 14,
   "metadata": {},
   "outputs": [
    {
     "data": {
      "text/html": [
       "<div>\n",
       "<style scoped>\n",
       "    .dataframe tbody tr th:only-of-type {\n",
       "        vertical-align: middle;\n",
       "    }\n",
       "\n",
       "    .dataframe tbody tr th {\n",
       "        vertical-align: top;\n",
       "    }\n",
       "\n",
       "    .dataframe thead th {\n",
       "        text-align: right;\n",
       "    }\n",
       "</style>\n",
       "<table border=\"1\" class=\"dataframe\">\n",
       "  <thead>\n",
       "    <tr style=\"text-align: right;\">\n",
       "      <th></th>\n",
       "      <th>title</th>\n",
       "      <th>author</th>\n",
       "      <th>dt</th>\n",
       "      <th>comment</th>\n",
       "    </tr>\n",
       "  </thead>\n",
       "  <tbody>\n",
       "    <tr>\n",
       "      <th>0</th>\n",
       "      <td>亞太期間限定88資費</td>\n",
       "      <td>愛豬椅喔</td>\n",
       "      <td>2020-10-14 17:33</td>\n",
       "      <td>剛剛檢查簡訊的時候看到這封\\n\\n\\n申辦期間只到明天，月付88\\n每個月10GB不限速、用...</td>\n",
       "    </tr>\n",
       "    <tr>\n",
       "      <th>1</th>\n",
       "      <td>亞太期間限定88資費</td>\n",
       "      <td>par3838</td>\n",
       "      <td>2020-10-14 17:44</td>\n",
       "      <td>愛豬椅喔 wrote:\\n剛剛檢查簡訊的時候看(恕刪)\\n\\n\\n那種簡訊幾乎每月都有，雙1...</td>\n",
       "    </tr>\n",
       "    <tr>\n",
       "      <th>2</th>\n",
       "      <td>亞太期間限定88資費</td>\n",
       "      <td>cchh543</td>\n",
       "      <td>2020-10-14 18:38</td>\n",
       "      <td>感覺這個方案,\\n跟2年前雙11搞得人仰馬翻的台星88有得比,\\n最大的差異應該是優惠期,\\...</td>\n",
       "    </tr>\n",
       "    <tr>\n",
       "      <th>3</th>\n",
       "      <td>亞太期間限定88資費</td>\n",
       "      <td>herob</td>\n",
       "      <td>2020-10-14 18:43</td>\n",
       "      <td>愛豬椅喔 wrote:\\n剛剛檢查簡訊的時候看(恕刪)\\n\\n\\n88元已經很低了，除非你是...</td>\n",
       "    </tr>\n",
       "    <tr>\n",
       "      <th>4</th>\n",
       "      <td>亞太期間限定88資費</td>\n",
       "      <td>多弗朗明哥</td>\n",
       "      <td>2020-10-14 20:00</td>\n",
       "      <td>亞太限定88資費我是覺得挺划算(非亞太常態88資費)\\n跟台星88有得比\\n價格、網速、分鐘...</td>\n",
       "    </tr>\n",
       "  </tbody>\n",
       "</table>\n",
       "</div>"
      ],
      "text/plain": [
       "        title   author                dt  \\\n",
       "0  亞太期間限定88資費     愛豬椅喔  2020-10-14 17:33   \n",
       "1  亞太期間限定88資費  par3838  2020-10-14 17:44   \n",
       "2  亞太期間限定88資費  cchh543  2020-10-14 18:38   \n",
       "3  亞太期間限定88資費    herob  2020-10-14 18:43   \n",
       "4  亞太期間限定88資費    多弗朗明哥  2020-10-14 20:00   \n",
       "\n",
       "                                             comment  \n",
       "0  剛剛檢查簡訊的時候看到這封\\n\\n\\n申辦期間只到明天，月付88\\n每個月10GB不限速、用...  \n",
       "1  愛豬椅喔 wrote:\\n剛剛檢查簡訊的時候看(恕刪)\\n\\n\\n那種簡訊幾乎每月都有，雙1...  \n",
       "2  感覺這個方案,\\n跟2年前雙11搞得人仰馬翻的台星88有得比,\\n最大的差異應該是優惠期,\\...  \n",
       "3  愛豬椅喔 wrote:\\n剛剛檢查簡訊的時候看(恕刪)\\n\\n\\n88元已經很低了，除非你是...  \n",
       "4  亞太限定88資費我是覺得挺划算(非亞太常態88資費)\\n跟台星88有得比\\n價格、網速、分鐘...  "
      ]
     },
     "execution_count": 14,
     "metadata": {},
     "output_type": "execute_result"
    }
   ],
   "source": [
    "import pandas\n",
    "comments_df = pandas.DataFrame(comments_total)\n",
    "comments_df.head()\n"
   ]
  },
  {
   "cell_type": "code",
   "execution_count": null,
   "metadata": {},
   "outputs": [],
   "source": []
  }
 ],
 "metadata": {
  "kernelspec": {
   "display_name": "Python 3",
   "language": "python",
   "name": "python3"
  },
  "language_info": {
   "codemirror_mode": {
    "name": "ipython",
    "version": 3
   },
   "file_extension": ".py",
   "mimetype": "text/x-python",
   "name": "python",
   "nbconvert_exporter": "python",
   "pygments_lexer": "ipython3",
   "version": "3.7.3"
  }
 },
 "nbformat": 4,
 "nbformat_minor": 4
}
