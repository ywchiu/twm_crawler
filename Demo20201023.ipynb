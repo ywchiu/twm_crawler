{
 "cells": [
  {
   "cell_type": "markdown",
   "metadata": {},
   "source": [
    "## 自由時報爬蟲 (HTML)"
   ]
  },
  {
   "cell_type": "code",
   "execution_count": 3,
   "metadata": {},
   "outputs": [],
   "source": [
    "import requests\n",
    "res = requests.get('https://news.ltn.com.tw/list/breakingnews')"
   ]
  },
  {
   "cell_type": "code",
   "execution_count": 4,
   "metadata": {},
   "outputs": [
    {
     "data": {
      "text/plain": [
       "<Response [200]>"
      ]
     },
     "execution_count": 4,
     "metadata": {},
     "output_type": "execute_result"
    }
   ],
   "source": [
    "res"
   ]
  },
  {
   "cell_type": "code",
   "execution_count": 6,
   "metadata": {},
   "outputs": [],
   "source": [
    "#res.text"
   ]
  },
  {
   "cell_type": "code",
   "execution_count": 7,
   "metadata": {},
   "outputs": [],
   "source": [
    "from bs4 import BeautifulSoup\n",
    "soup = BeautifulSoup(res.text, 'lxml')"
   ]
  },
  {
   "cell_type": "code",
   "execution_count": 17,
   "metadata": {},
   "outputs": [
    {
     "name": "stdout",
     "output_type": "stream",
     "text": [
      "https://news.ltn.com.tw/news/society/breakingnews/3329797 濁水溪床4天2野火 雲縣警消追查禍首 09:36\n",
      "https://sports.ltn.com.tw/news/breakingnews/3329761 網球》力拚在位週數超越費爸成史上第一 喬帥坦言：這是目標 09:32\n",
      "https://news.ltn.com.tw/news/life/breakingnews/3329789 苗縣降雨少 明德水庫「進帳掛零」 09:30\n",
      "https://sports.ltn.com.tw/news/breakingnews/3329780 MLB》比賽中與貝茲情不自禁相擁 光芒小將透露背後故事 09:27\n",
      "https://ec.ltn.com.tw/article/breakingnews/3329785 9月北美半導體設備出貨27.5億美元 年增逾4成創28個月新高  09:27\n",
      "https://news.ltn.com.tw/news/world/breakingnews/3329782 美大選辯論》拜登：川普應對疫情根本悲劇 我才能帶領美國對抗 09:21\n",
      "https://news.ltn.com.tw/news/world/breakingnews/3329779 美大選辯論》如何挺過下階段疫情？川普讚美國療程好 疫苗很快問世 09:20\n",
      "https://3c.ltn.com.tw/news/42110 為了 iPhone 12、12 Pro 升級 5G 網路？果粉看法不一 09:20\n",
      "https://news.ltn.com.tw/news/society/breakingnews/3329765 涉殺女友陳同佳洗錢罪出獄滿週年 何時來台仍未知 09:16\n",
      "https://ec.ltn.com.tw/article/breakingnews/3329770 新台幣升值2.53角 來到28.65元 09:11\n",
      "https://news.ltn.com.tw/news/life/breakingnews/3329757 「台灣最美馬桶」秘境爆紅 沙灘遊玩小心受困 09:09\n",
      "https://ec.ltn.com.tw/article/breakingnews/3329752 美元轉強 黃金跌近25美元 09:05\n",
      "https://ec.ltn.com.tw/article/breakingnews/3329768 電子股領漲 台股開高朝萬三挺進 09:04\n",
      "https://news.ltn.com.tw/news/life/breakingnews/3329750 高雄流行音樂中心董事新陣容 知名音樂人出列 09:01\n",
      "https://sports.ltn.com.tw/news/breakingnews/3329729 日職》曾是建築工人 阪神守護神洋投被大聯盟球隊看上 09:01\n",
      "https://ent.ltn.com.tw/news/breakingnews/3329662 10年前燒傷面目全非！Selina曝任爸千字文    勸阿中解除婚約 09:00\n",
      "https://ec.ltn.com.tw/article/breakingnews/3329758 台股盤前》市場追價態度轉趨謹慎 短線可布局蘋果供應鏈 08:59\n",
      "https://sports.ltn.com.tw/news/breakingnews/3329754 MLB》楚奧特、大谷翔平新幫手？ 天使隊鎖定左打游擊砲 08:58\n",
      "https://auto.ltn.com.tw/news/16366 跟上大改款 Levorg 腳步，Subaru Forester 換上新世代渦輪引擎！ 08:58\n",
      "https://sports.ltn.com.tw/news/breakingnews/3329737 MLB》落選金手套不滿聯盟 莫里納：我是最好的捕手！ 08:53\n"
     ]
    }
   ],
   "source": [
    "for li in soup.select('ul.list li'):\n",
    "    #print(li)\n",
    "    title = li.select_one('.title').text\n",
    "    link = li.select_one('a').get('href')\n",
    "    dt = li.select_one('.time').text\n",
    "    print(link, title, dt)\n",
    "    #print('=======================')"
   ]
  },
  {
   "cell_type": "code",
   "execution_count": 18,
   "metadata": {},
   "outputs": [],
   "source": [
    "newsary = []\n",
    "for li in soup.select('ul.list li'):\n",
    "    title = li.select_one('.title').text\n",
    "    link = li.select_one('a').get('href')\n",
    "    dt = li.select_one('.time').text\n",
    "    newsary.append({'link':link, 'title':title, 'dt':dt})"
   ]
  },
  {
   "cell_type": "code",
   "execution_count": 19,
   "metadata": {},
   "outputs": [
    {
     "data": {
      "text/plain": [
       "{'link': 'https://news.ltn.com.tw/news/society/breakingnews/3329797',\n",
       " 'title': '濁水溪床4天2野火 雲縣警消追查禍首',\n",
       " 'dt': '09:36'}"
      ]
     },
     "execution_count": 19,
     "metadata": {},
     "output_type": "execute_result"
    }
   ],
   "source": [
    "newsary[0]"
   ]
  },
  {
   "cell_type": "code",
   "execution_count": 20,
   "metadata": {},
   "outputs": [],
   "source": [
    "import pandas\n",
    "newsdf = pandas.DataFrame(newsary)"
   ]
  },
  {
   "cell_type": "code",
   "execution_count": 21,
   "metadata": {},
   "outputs": [
    {
     "data": {
      "text/html": [
       "<div>\n",
       "<style scoped>\n",
       "    .dataframe tbody tr th:only-of-type {\n",
       "        vertical-align: middle;\n",
       "    }\n",
       "\n",
       "    .dataframe tbody tr th {\n",
       "        vertical-align: top;\n",
       "    }\n",
       "\n",
       "    .dataframe thead th {\n",
       "        text-align: right;\n",
       "    }\n",
       "</style>\n",
       "<table border=\"1\" class=\"dataframe\">\n",
       "  <thead>\n",
       "    <tr style=\"text-align: right;\">\n",
       "      <th></th>\n",
       "      <th>link</th>\n",
       "      <th>title</th>\n",
       "      <th>dt</th>\n",
       "    </tr>\n",
       "  </thead>\n",
       "  <tbody>\n",
       "    <tr>\n",
       "      <th>0</th>\n",
       "      <td>https://news.ltn.com.tw/news/society/breakingn...</td>\n",
       "      <td>濁水溪床4天2野火 雲縣警消追查禍首</td>\n",
       "      <td>09:36</td>\n",
       "    </tr>\n",
       "    <tr>\n",
       "      <th>1</th>\n",
       "      <td>https://sports.ltn.com.tw/news/breakingnews/33...</td>\n",
       "      <td>網球》力拚在位週數超越費爸成史上第一 喬帥坦言：這是目標</td>\n",
       "      <td>09:32</td>\n",
       "    </tr>\n",
       "    <tr>\n",
       "      <th>2</th>\n",
       "      <td>https://news.ltn.com.tw/news/life/breakingnews...</td>\n",
       "      <td>苗縣降雨少 明德水庫「進帳掛零」</td>\n",
       "      <td>09:30</td>\n",
       "    </tr>\n",
       "    <tr>\n",
       "      <th>3</th>\n",
       "      <td>https://sports.ltn.com.tw/news/breakingnews/33...</td>\n",
       "      <td>MLB》比賽中與貝茲情不自禁相擁 光芒小將透露背後故事</td>\n",
       "      <td>09:27</td>\n",
       "    </tr>\n",
       "    <tr>\n",
       "      <th>4</th>\n",
       "      <td>https://ec.ltn.com.tw/article/breakingnews/332...</td>\n",
       "      <td>9月北美半導體設備出貨27.5億美元 年增逾4成創28個月新高</td>\n",
       "      <td>09:27</td>\n",
       "    </tr>\n",
       "  </tbody>\n",
       "</table>\n",
       "</div>"
      ],
      "text/plain": [
       "                                                link  \\\n",
       "0  https://news.ltn.com.tw/news/society/breakingn...   \n",
       "1  https://sports.ltn.com.tw/news/breakingnews/33...   \n",
       "2  https://news.ltn.com.tw/news/life/breakingnews...   \n",
       "3  https://sports.ltn.com.tw/news/breakingnews/33...   \n",
       "4  https://ec.ltn.com.tw/article/breakingnews/332...   \n",
       "\n",
       "                              title     dt  \n",
       "0                濁水溪床4天2野火 雲縣警消追查禍首  09:36  \n",
       "1      網球》力拚在位週數超越費爸成史上第一 喬帥坦言：這是目標  09:32  \n",
       "2                  苗縣降雨少 明德水庫「進帳掛零」  09:30  \n",
       "3       MLB》比賽中與貝茲情不自禁相擁 光芒小將透露背後故事  09:27  \n",
       "4  9月北美半導體設備出貨27.5億美元 年增逾4成創28個月新高   09:27  "
      ]
     },
     "execution_count": 21,
     "metadata": {},
     "output_type": "execute_result"
    }
   ],
   "source": [
    "newsdf.head()"
   ]
  },
  {
   "cell_type": "code",
   "execution_count": 22,
   "metadata": {},
   "outputs": [],
   "source": [
    "newsdf.to_excel('ltnnews.xlsx')"
   ]
  },
  {
   "cell_type": "code",
   "execution_count": 24,
   "metadata": {},
   "outputs": [],
   "source": [
    "! open ltnnews.xlsx"
   ]
  },
  {
   "cell_type": "markdown",
   "metadata": {},
   "source": [
    "## 自由時報爬蟲 (API) "
   ]
  },
  {
   "cell_type": "code",
   "execution_count": 25,
   "metadata": {},
   "outputs": [],
   "source": [
    "import requests\n",
    "res = requests.get('https://news.ltn.com.tw/ajax/breakingnews/all/3')"
   ]
  },
  {
   "cell_type": "code",
   "execution_count": 32,
   "metadata": {},
   "outputs": [
    {
     "data": {
      "text/html": [
       "<div>\n",
       "<style scoped>\n",
       "    .dataframe tbody tr th:only-of-type {\n",
       "        vertical-align: middle;\n",
       "    }\n",
       "\n",
       "    .dataframe tbody tr th {\n",
       "        vertical-align: top;\n",
       "    }\n",
       "\n",
       "    .dataframe thead th {\n",
       "        text-align: right;\n",
       "    }\n",
       "</style>\n",
       "<table border=\"1\" class=\"dataframe\">\n",
       "  <thead>\n",
       "    <tr style=\"text-align: right;\">\n",
       "      <th></th>\n",
       "      <th>no</th>\n",
       "      <th>title</th>\n",
       "      <th>bigphoto_flag</th>\n",
       "      <th>photo_S</th>\n",
       "      <th>photo_L</th>\n",
       "      <th>url</th>\n",
       "      <th>time</th>\n",
       "      <th>type_en</th>\n",
       "      <th>group</th>\n",
       "      <th>type_cn</th>\n",
       "      <th>local</th>\n",
       "      <th>summary</th>\n",
       "      <th>video</th>\n",
       "      <th>localUrl</th>\n",
       "      <th>tagUrl</th>\n",
       "      <th>style</th>\n",
       "      <th>tagText</th>\n",
       "    </tr>\n",
       "  </thead>\n",
       "  <tbody>\n",
       "    <tr>\n",
       "      <th>0</th>\n",
       "      <td>14799</td>\n",
       "      <td>挑戰出道最大尺度！徐睿知「倒奶、露腿根」火辣救全場</td>\n",
       "      <td>0</td>\n",
       "      <td>http://img.ltn.com.tw/Upload/style/page/2020/1...</td>\n",
       "      <td>http://img.ltn.com.tw/Upload/style/page/2020/1...</td>\n",
       "      <td>http://istyle.ltn.com.tw/article/14799</td>\n",
       "      <td>08:30</td>\n",
       "      <td></td>\n",
       "      <td>istyle</td>\n",
       "      <td></td>\n",
       "      <td>False</td>\n",
       "      <td>以《雖然是精神病但沒關係》一劇翻紅的韓國女星徐睿知，昨（22）日參加釜日電影節活動，以一身超...</td>\n",
       "      <td>0</td>\n",
       "      <td></td>\n",
       "      <td>list/istyle/istyle</td>\n",
       "      <td>None</td>\n",
       "      <td>時尚</td>\n",
       "    </tr>\n",
       "    <tr>\n",
       "      <th>1</th>\n",
       "      <td>3329713</td>\n",
       "      <td>停駛17天破紀錄 《國際橋牌社》奇蹟登島拍攝</td>\n",
       "      <td>0</td>\n",
       "      <td>http://img.ltn.com.tw/Upload/ent/page/400S/202...</td>\n",
       "      <td>http://img.ltn.com.tw/Upload/ent/page/800S/202...</td>\n",
       "      <td>https://ent.ltn.com.tw/news/breakingnews/3329713</td>\n",
       "      <td>08:30</td>\n",
       "      <td>entertainment</td>\n",
       "      <td>breakingnews</td>\n",
       "      <td>娛樂</td>\n",
       "      <td>False</td>\n",
       "      <td>\\n政治職人劇《國際橋牌社》第二季在馬祖開拍，21日劇組從馬祖南竿開拔到前線離島取景，還原1...</td>\n",
       "      <td>0</td>\n",
       "      <td></td>\n",
       "      <td>list/breakingnews/entertainment</td>\n",
       "      <td>None</td>\n",
       "      <td>娛樂</td>\n",
       "    </tr>\n",
       "    <tr>\n",
       "      <th>2</th>\n",
       "      <td>3329733</td>\n",
       "      <td>瑞德西韋獲FDA正式授權 成美國唯一核准武肺治療藥物</td>\n",
       "      <td>1</td>\n",
       "      <td>http://img.ltn.com.tw/Upload/news/250/2020/10/...</td>\n",
       "      <td>http://img.ltn.com.tw/Upload/news/600/2020/10/...</td>\n",
       "      <td>https://news.ltn.com.tw/news/world/breakingnew...</td>\n",
       "      <td>08:28</td>\n",
       "      <td>world</td>\n",
       "      <td>breakingnews</td>\n",
       "      <td>國際</td>\n",
       "      <td>False</td>\n",
       "      <td>美國食品暨藥物管理局（FDA）22日批准吉立亞醫藥公司（Gilead Sciences）生產...</td>\n",
       "      <td>0</td>\n",
       "      <td></td>\n",
       "      <td>list/breakingnews/world</td>\n",
       "      <td>None</td>\n",
       "      <td>國際</td>\n",
       "    </tr>\n",
       "    <tr>\n",
       "      <th>3</th>\n",
       "      <td>3329728</td>\n",
       "      <td>NBA》自認是球隊老大？  歐尼爾建議該交易P.喬治</td>\n",
       "      <td>0</td>\n",
       "      <td>http://img.ltn.com.tw/Upload/sports/page/400S/...</td>\n",
       "      <td>http://img.ltn.com.tw/Upload/sports/page/800S/...</td>\n",
       "      <td>https://sports.ltn.com.tw/news/breakingnews/33...</td>\n",
       "      <td>08:16</td>\n",
       "      <td>sports</td>\n",
       "      <td>breakingnews</td>\n",
       "      <td>體育</td>\n",
       "      <td>False</td>\n",
       "      <td>\\n洛杉磯快艇隊在去年網羅雷納德（Kawhi Leonard）、P.喬治（Paul Geor...</td>\n",
       "      <td>0</td>\n",
       "      <td></td>\n",
       "      <td>list/breakingnews/sports</td>\n",
       "      <td>None</td>\n",
       "      <td>體育</td>\n",
       "    </tr>\n",
       "    <tr>\n",
       "      <th>4</th>\n",
       "      <td>3329741</td>\n",
       "      <td>日職》不忍了！還剩16場沒打 億元男洋砲慘遭戰力外</td>\n",
       "      <td>0</td>\n",
       "      <td>http://img.ltn.com.tw/Upload/sports/page/400S/...</td>\n",
       "      <td>http://img.ltn.com.tw/Upload/sports/page/800S/...</td>\n",
       "      <td>https://sports.ltn.com.tw/news/breakingnews/33...</td>\n",
       "      <td>08:15</td>\n",
       "      <td>sports</td>\n",
       "      <td>breakingnews</td>\n",
       "      <td>體育</td>\n",
       "      <td>False</td>\n",
       "      <td>\\n阪神虎季前高薪簽來大聯盟洋砲鮑爾（Justin Bour），不過根據日媒報導，雖然球隊目...</td>\n",
       "      <td>0</td>\n",
       "      <td></td>\n",
       "      <td>list/breakingnews/sports</td>\n",
       "      <td>None</td>\n",
       "      <td>體育</td>\n",
       "    </tr>\n",
       "  </tbody>\n",
       "</table>\n",
       "</div>"
      ],
      "text/plain": [
       "        no                       title bigphoto_flag  \\\n",
       "0    14799   挑戰出道最大尺度！徐睿知「倒奶、露腿根」火辣救全場             0   \n",
       "1  3329713      停駛17天破紀錄 《國際橋牌社》奇蹟登島拍攝             0   \n",
       "2  3329733  瑞德西韋獲FDA正式授權 成美國唯一核准武肺治療藥物             1   \n",
       "3  3329728  NBA》自認是球隊老大？  歐尼爾建議該交易P.喬治             0   \n",
       "4  3329741   日職》不忍了！還剩16場沒打 億元男洋砲慘遭戰力外             0   \n",
       "\n",
       "                                             photo_S  \\\n",
       "0  http://img.ltn.com.tw/Upload/style/page/2020/1...   \n",
       "1  http://img.ltn.com.tw/Upload/ent/page/400S/202...   \n",
       "2  http://img.ltn.com.tw/Upload/news/250/2020/10/...   \n",
       "3  http://img.ltn.com.tw/Upload/sports/page/400S/...   \n",
       "4  http://img.ltn.com.tw/Upload/sports/page/400S/...   \n",
       "\n",
       "                                             photo_L  \\\n",
       "0  http://img.ltn.com.tw/Upload/style/page/2020/1...   \n",
       "1  http://img.ltn.com.tw/Upload/ent/page/800S/202...   \n",
       "2  http://img.ltn.com.tw/Upload/news/600/2020/10/...   \n",
       "3  http://img.ltn.com.tw/Upload/sports/page/800S/...   \n",
       "4  http://img.ltn.com.tw/Upload/sports/page/800S/...   \n",
       "\n",
       "                                                 url   time        type_en  \\\n",
       "0             http://istyle.ltn.com.tw/article/14799  08:30                  \n",
       "1   https://ent.ltn.com.tw/news/breakingnews/3329713  08:30  entertainment   \n",
       "2  https://news.ltn.com.tw/news/world/breakingnew...  08:28          world   \n",
       "3  https://sports.ltn.com.tw/news/breakingnews/33...  08:16         sports   \n",
       "4  https://sports.ltn.com.tw/news/breakingnews/33...  08:15         sports   \n",
       "\n",
       "          group type_cn  local  \\\n",
       "0        istyle          False   \n",
       "1  breakingnews      娛樂  False   \n",
       "2  breakingnews      國際  False   \n",
       "3  breakingnews      體育  False   \n",
       "4  breakingnews      體育  False   \n",
       "\n",
       "                                             summary video localUrl  \\\n",
       "0  以《雖然是精神病但沒關係》一劇翻紅的韓國女星徐睿知，昨（22）日參加釜日電影節活動，以一身超...     0            \n",
       "1  \\n政治職人劇《國際橋牌社》第二季在馬祖開拍，21日劇組從馬祖南竿開拔到前線離島取景，還原1...     0            \n",
       "2  美國食品暨藥物管理局（FDA）22日批准吉立亞醫藥公司（Gilead Sciences）生產...     0            \n",
       "3  \\n洛杉磯快艇隊在去年網羅雷納德（Kawhi Leonard）、P.喬治（Paul Geor...     0            \n",
       "4  \\n阪神虎季前高薪簽來大聯盟洋砲鮑爾（Justin Bour），不過根據日媒報導，雖然球隊目...     0            \n",
       "\n",
       "                            tagUrl style tagText  \n",
       "0               list/istyle/istyle  None      時尚  \n",
       "1  list/breakingnews/entertainment  None      娛樂  \n",
       "2          list/breakingnews/world  None      國際  \n",
       "3         list/breakingnews/sports  None      體育  \n",
       "4         list/breakingnews/sports  None      體育  "
      ]
     },
     "execution_count": 32,
     "metadata": {},
     "output_type": "execute_result"
    }
   ],
   "source": [
    "import pandas\n",
    "df = pandas.DataFrame(list(res.json()['data'].values()))\n",
    "df.head()"
   ]
  },
  {
   "cell_type": "code",
   "execution_count": 46,
   "metadata": {},
   "outputs": [
    {
     "data": {
      "text/html": [
       "<div>\n",
       "<style scoped>\n",
       "    .dataframe tbody tr th:only-of-type {\n",
       "        vertical-align: middle;\n",
       "    }\n",
       "\n",
       "    .dataframe tbody tr th {\n",
       "        vertical-align: top;\n",
       "    }\n",
       "\n",
       "    .dataframe thead th {\n",
       "        text-align: right;\n",
       "    }\n",
       "</style>\n",
       "<table border=\"1\" class=\"dataframe\">\n",
       "  <thead>\n",
       "    <tr style=\"text-align: right;\">\n",
       "      <th></th>\n",
       "      <th>no</th>\n",
       "      <th>title</th>\n",
       "      <th>bigphoto_flag</th>\n",
       "      <th>photo_S</th>\n",
       "      <th>photo_L</th>\n",
       "      <th>url</th>\n",
       "      <th>time</th>\n",
       "      <th>type_en</th>\n",
       "      <th>group</th>\n",
       "      <th>type_cn</th>\n",
       "      <th>local</th>\n",
       "      <th>summary</th>\n",
       "      <th>video</th>\n",
       "      <th>localUrl</th>\n",
       "      <th>tagUrl</th>\n",
       "      <th>style</th>\n",
       "      <th>tagText</th>\n",
       "    </tr>\n",
       "  </thead>\n",
       "  <tbody>\n",
       "    <tr>\n",
       "      <th>0</th>\n",
       "      <td>3329820</td>\n",
       "      <td>秋遊玩樂攻略 新瓦屋稻草故事屋、討糖野餐趴邀大小朋友同樂</td>\n",
       "      <td>0</td>\n",
       "      <td>http://img.ltn.com.tw/Upload/news/250/2020/10/...</td>\n",
       "      <td>http://img.ltn.com.tw/Upload/news/600/2020/10/...</td>\n",
       "      <td>https://news.ltn.com.tw/news/life/breakingnews...</td>\n",
       "      <td>10:08</td>\n",
       "      <td>life</td>\n",
       "      <td>breakingnews</td>\n",
       "      <td>生活</td>\n",
       "      <td>新竹縣</td>\n",
       "      <td>［記者廖雪茹／新竹報導］秋風涼爽，新竹縣竹北市新瓦屋客家文化保存區本週六、日（24、25日）...</td>\n",
       "      <td>0</td>\n",
       "      <td>list/breakingnews/HsinchuCounty</td>\n",
       "      <td>list/breakingnews/life</td>\n",
       "      <td>None</td>\n",
       "      <td>生活</td>\n",
       "    </tr>\n",
       "    <tr>\n",
       "      <th>1</th>\n",
       "      <td>3329828</td>\n",
       "      <td>我駐美代表處1職員確診 暫停領務櫃檯服務</td>\n",
       "      <td>0</td>\n",
       "      <td>http://img.ltn.com.tw/Upload/news/250/2020/10/...</td>\n",
       "      <td>http://img.ltn.com.tw/Upload/news/600/2020/10/...</td>\n",
       "      <td>https://news.ltn.com.tw/news/politics/breaking...</td>\n",
       "      <td>10:08</td>\n",
       "      <td>politics</td>\n",
       "      <td>breakingnews</td>\n",
       "      <td>政治</td>\n",
       "      <td>False</td>\n",
       "      <td>外交部今證實，我駐美代表處一名職員22日確診武漢肺炎，外交部隨即為與該名職員有接觸史的其他職...</td>\n",
       "      <td>0</td>\n",
       "      <td></td>\n",
       "      <td>list/breakingnews/politics</td>\n",
       "      <td>None</td>\n",
       "      <td>政治</td>\n",
       "    </tr>\n",
       "    <tr>\n",
       "      <th>2</th>\n",
       "      <td>3329834</td>\n",
       "      <td>台海軍情》101億採購BLOCK 1B方陣快砲  海軍：接裝儲存廠6月開工</td>\n",
       "      <td>1</td>\n",
       "      <td>http://img.ltn.com.tw/Upload/news/250/2020/10/...</td>\n",
       "      <td>http://img.ltn.com.tw/Upload/news/600/2020/10/...</td>\n",
       "      <td>https://news.ltn.com.tw/news/politics/breaking...</td>\n",
       "      <td>10:06</td>\n",
       "      <td>politics</td>\n",
       "      <td>breakingnews</td>\n",
       "      <td>政治</td>\n",
       "      <td>臺北市</td>\n",
       "      <td>軍方動支101億5936萬元，向美採購13套BLOCK 1B方陣快砲，以及執行8套現役方陣快...</td>\n",
       "      <td>0</td>\n",
       "      <td>list/breakingnews/Taipei</td>\n",
       "      <td>list/breakingnews/politics</td>\n",
       "      <td>None</td>\n",
       "      <td>政治</td>\n",
       "    </tr>\n",
       "    <tr>\n",
       "      <th>3</th>\n",
       "      <td>3329763</td>\n",
       "      <td>日職》阪神虎大砍兩老將 卻想留明年滿40歲的糸井嘉男</td>\n",
       "      <td>0</td>\n",
       "      <td>http://img.ltn.com.tw/Upload/sports/page/400S/...</td>\n",
       "      <td>http://img.ltn.com.tw/Upload/sports/page/800S/...</td>\n",
       "      <td>https://sports.ltn.com.tw/news/breakingnews/33...</td>\n",
       "      <td>10:05</td>\n",
       "      <td>sports</td>\n",
       "      <td>breakingnews</td>\n",
       "      <td>體育</td>\n",
       "      <td>False</td>\n",
       "      <td>\\n阪神虎今年季後將不留老將福留孝介、能見篤史，藤川球兒將退休。明年將滿40歲的外野手糸井嘉...</td>\n",
       "      <td>0</td>\n",
       "      <td></td>\n",
       "      <td>list/breakingnews/sports</td>\n",
       "      <td>None</td>\n",
       "      <td>體育</td>\n",
       "    </tr>\n",
       "    <tr>\n",
       "      <th>4</th>\n",
       "      <td>42107</td>\n",
       "      <td>中華電出招「48個月」綁 iPhone 12！官方解釋背後理由</td>\n",
       "      <td>0</td>\n",
       "      <td>http://img.ltn.com.tw/Upload/3c/page/2020/10/2...</td>\n",
       "      <td>http://img.ltn.com.tw/Upload/3c/page/2020/10/2...</td>\n",
       "      <td>http://3c.ltn.com.tw/news/42107</td>\n",
       "      <td>10:03</td>\n",
       "      <td></td>\n",
       "      <td>3c</td>\n",
       "      <td></td>\n",
       "      <td>False</td>\n",
       "      <td>因應首款 5G iPhone 今（23日）正式上市，中華電信罕見祭出 48 個月綁約購機和...</td>\n",
       "      <td>0</td>\n",
       "      <td></td>\n",
       "      <td>list/3c/3c</td>\n",
       "      <td>None</td>\n",
       "      <td>3C</td>\n",
       "    </tr>\n",
       "  </tbody>\n",
       "</table>\n",
       "</div>"
      ],
      "text/plain": [
       "        no                                  title bigphoto_flag  \\\n",
       "0  3329820           秋遊玩樂攻略 新瓦屋稻草故事屋、討糖野餐趴邀大小朋友同樂             0   \n",
       "1  3329828                   我駐美代表處1職員確診 暫停領務櫃檯服務             0   \n",
       "2  3329834  台海軍情》101億採購BLOCK 1B方陣快砲  海軍：接裝儲存廠6月開工             1   \n",
       "3  3329763             日職》阪神虎大砍兩老將 卻想留明年滿40歲的糸井嘉男             0   \n",
       "4    42107        中華電出招「48個月」綁 iPhone 12！官方解釋背後理由             0   \n",
       "\n",
       "                                             photo_S  \\\n",
       "0  http://img.ltn.com.tw/Upload/news/250/2020/10/...   \n",
       "1  http://img.ltn.com.tw/Upload/news/250/2020/10/...   \n",
       "2  http://img.ltn.com.tw/Upload/news/250/2020/10/...   \n",
       "3  http://img.ltn.com.tw/Upload/sports/page/400S/...   \n",
       "4  http://img.ltn.com.tw/Upload/3c/page/2020/10/2...   \n",
       "\n",
       "                                             photo_L  \\\n",
       "0  http://img.ltn.com.tw/Upload/news/600/2020/10/...   \n",
       "1  http://img.ltn.com.tw/Upload/news/600/2020/10/...   \n",
       "2  http://img.ltn.com.tw/Upload/news/600/2020/10/...   \n",
       "3  http://img.ltn.com.tw/Upload/sports/page/800S/...   \n",
       "4  http://img.ltn.com.tw/Upload/3c/page/2020/10/2...   \n",
       "\n",
       "                                                 url   time   type_en  \\\n",
       "0  https://news.ltn.com.tw/news/life/breakingnews...  10:08      life   \n",
       "1  https://news.ltn.com.tw/news/politics/breaking...  10:08  politics   \n",
       "2  https://news.ltn.com.tw/news/politics/breaking...  10:06  politics   \n",
       "3  https://sports.ltn.com.tw/news/breakingnews/33...  10:05    sports   \n",
       "4                    http://3c.ltn.com.tw/news/42107  10:03             \n",
       "\n",
       "          group type_cn  local  \\\n",
       "0  breakingnews      生活    新竹縣   \n",
       "1  breakingnews      政治  False   \n",
       "2  breakingnews      政治    臺北市   \n",
       "3  breakingnews      體育  False   \n",
       "4            3c          False   \n",
       "\n",
       "                                             summary video  \\\n",
       "0  ［記者廖雪茹／新竹報導］秋風涼爽，新竹縣竹北市新瓦屋客家文化保存區本週六、日（24、25日）...     0   \n",
       "1  外交部今證實，我駐美代表處一名職員22日確診武漢肺炎，外交部隨即為與該名職員有接觸史的其他職...     0   \n",
       "2  軍方動支101億5936萬元，向美採購13套BLOCK 1B方陣快砲，以及執行8套現役方陣快...     0   \n",
       "3  \\n阪神虎今年季後將不留老將福留孝介、能見篤史，藤川球兒將退休。明年將滿40歲的外野手糸井嘉...     0   \n",
       "4   因應首款 5G iPhone 今（23日）正式上市，中華電信罕見祭出 48 個月綁約購機和...     0   \n",
       "\n",
       "                          localUrl                      tagUrl style tagText  \n",
       "0  list/breakingnews/HsinchuCounty      list/breakingnews/life  None      生活  \n",
       "1                                   list/breakingnews/politics  None      政治  \n",
       "2         list/breakingnews/Taipei  list/breakingnews/politics  None      政治  \n",
       "3                                     list/breakingnews/sports  None      體育  \n",
       "4                                                   list/3c/3c  None      3C  "
      ]
     },
     "execution_count": 46,
     "metadata": {},
     "output_type": "execute_result"
    }
   ],
   "source": [
    "import requests\n",
    "newsary = []\n",
    "for i in range(1,6):\n",
    "    res = requests.get('https://news.ltn.com.tw/ajax/breakingnews/all/{}'.format(i))\n",
    "    data = res.json()['data']\n",
    "    if isinstance(data, dict):\n",
    "        newsary = newsary + list(res.json()['data'].values())\n",
    "    else:\n",
    "        newsary = newsary + res.json()['data']\n",
    "import pandas\n",
    "newsdf = pandas.DataFrame(newsary)\n",
    "newsdf.head()"
   ]
  },
  {
   "cell_type": "code",
   "execution_count": 47,
   "metadata": {},
   "outputs": [
    {
     "data": {
      "text/plain": [
       "100"
      ]
     },
     "execution_count": 47,
     "metadata": {},
     "output_type": "execute_result"
    }
   ],
   "source": [
    "len(newsdf)"
   ]
  },
  {
   "cell_type": "code",
   "execution_count": 49,
   "metadata": {},
   "outputs": [],
   "source": [
    "! git add Demo20201023.ipynb"
   ]
  },
  {
   "cell_type": "code",
   "execution_count": 50,
   "metadata": {},
   "outputs": [
    {
     "name": "stdout",
     "output_type": "stream",
     "text": [
      "[main 8992317] add Demo 20201023\r\n",
      " 1 file changed, 755 insertions(+)\r\n",
      " create mode 100644 Demo20201023.ipynb\r\n"
     ]
    }
   ],
   "source": [
    "! git commit -m \"add Demo 20201023\" Demo20201023.ipynb"
   ]
  },
  {
   "cell_type": "markdown",
   "metadata": {},
   "source": [
    "## Selenium"
   ]
  },
  {
   "cell_type": "code",
   "execution_count": 51,
   "metadata": {},
   "outputs": [
    {
     "name": "stdout",
     "output_type": "stream",
     "text": [
      "Requirement already satisfied: selenium in /Users/davidchiu/.pyenv/versions/3.7.3/lib/python3.7/site-packages (3.141.0)\n",
      "Requirement already satisfied: urllib3 in /Users/davidchiu/.pyenv/versions/3.7.3/lib/python3.7/site-packages (from selenium) (1.25.9)\n",
      "\u001b[33mWARNING: You are using pip version 20.2.3; however, version 20.2.4 is available.\n",
      "You should consider upgrading via the '/Users/davidchiu/.pyenv/versions/3.7.3/bin/python3.7 -m pip install --upgrade pip' command.\u001b[0m\n"
     ]
    }
   ],
   "source": [
    "! pip install selenium"
   ]
  },
  {
   "cell_type": "code",
   "execution_count": 52,
   "metadata": {},
   "outputs": [],
   "source": [
    "from selenium import webdriver\n",
    "#driver = webdriver.Chrime('C://user//david//Downloads//chromedriver.exe')\n",
    "driver = webdriver.Chrome('/opt/local/common/chromedriver')"
   ]
  },
  {
   "cell_type": "code",
   "execution_count": 53,
   "metadata": {},
   "outputs": [],
   "source": [
    "driver.get('https://www.google.com')"
   ]
  },
  {
   "cell_type": "code",
   "execution_count": 54,
   "metadata": {},
   "outputs": [
    {
     "data": {
      "text/plain": [
       "<selenium.webdriver.remote.webelement.WebElement (session=\"eae4855e7da03592856f0f4eb1d49b19\", element=\"0.2863608778332023-1\")>"
      ]
     },
     "execution_count": 54,
     "metadata": {},
     "output_type": "execute_result"
    }
   ],
   "source": [
    "driver.find_element_by_name('q')"
   ]
  },
  {
   "cell_type": "code",
   "execution_count": 55,
   "metadata": {},
   "outputs": [
    {
     "ename": "NoSuchElementException",
     "evalue": "Message: no such element: Unable to locate element: {\"method\":\"name\",\"selector\":\"qoo\"}\n  (Session info: chrome=86.0.4240.111)\n  (Driver info: chromedriver=2.42.591059 (a3d9684d10d61aa0c45f6723b327283be1ebaad8),platform=Mac OS X 10.14.6 x86_64)\n",
     "output_type": "error",
     "traceback": [
      "\u001b[0;31m---------------------------------------------------------------------------\u001b[0m",
      "\u001b[0;31mNoSuchElementException\u001b[0m                    Traceback (most recent call last)",
      "\u001b[0;32m<ipython-input-55-371921a7d675>\u001b[0m in \u001b[0;36m<module>\u001b[0;34m\u001b[0m\n\u001b[0;32m----> 1\u001b[0;31m \u001b[0mdriver\u001b[0m\u001b[0;34m.\u001b[0m\u001b[0mfind_element_by_name\u001b[0m\u001b[0;34m(\u001b[0m\u001b[0;34m'qoo'\u001b[0m\u001b[0;34m)\u001b[0m\u001b[0;34m\u001b[0m\u001b[0;34m\u001b[0m\u001b[0m\n\u001b[0m",
      "\u001b[0;32m~/.pyenv/versions/3.7.3/lib/python3.7/site-packages/selenium/webdriver/remote/webdriver.py\u001b[0m in \u001b[0;36mfind_element_by_name\u001b[0;34m(self, name)\u001b[0m\n\u001b[1;32m    494\u001b[0m             \u001b[0melement\u001b[0m \u001b[0;34m=\u001b[0m \u001b[0mdriver\u001b[0m\u001b[0;34m.\u001b[0m\u001b[0mfind_element_by_name\u001b[0m\u001b[0;34m(\u001b[0m\u001b[0;34m'foo'\u001b[0m\u001b[0;34m)\u001b[0m\u001b[0;34m\u001b[0m\u001b[0;34m\u001b[0m\u001b[0m\n\u001b[1;32m    495\u001b[0m         \"\"\"\n\u001b[0;32m--> 496\u001b[0;31m         \u001b[0;32mreturn\u001b[0m \u001b[0mself\u001b[0m\u001b[0;34m.\u001b[0m\u001b[0mfind_element\u001b[0m\u001b[0;34m(\u001b[0m\u001b[0mby\u001b[0m\u001b[0;34m=\u001b[0m\u001b[0mBy\u001b[0m\u001b[0;34m.\u001b[0m\u001b[0mNAME\u001b[0m\u001b[0;34m,\u001b[0m \u001b[0mvalue\u001b[0m\u001b[0;34m=\u001b[0m\u001b[0mname\u001b[0m\u001b[0;34m)\u001b[0m\u001b[0;34m\u001b[0m\u001b[0;34m\u001b[0m\u001b[0m\n\u001b[0m\u001b[1;32m    497\u001b[0m \u001b[0;34m\u001b[0m\u001b[0m\n\u001b[1;32m    498\u001b[0m     \u001b[0;32mdef\u001b[0m \u001b[0mfind_elements_by_name\u001b[0m\u001b[0;34m(\u001b[0m\u001b[0mself\u001b[0m\u001b[0;34m,\u001b[0m \u001b[0mname\u001b[0m\u001b[0;34m)\u001b[0m\u001b[0;34m:\u001b[0m\u001b[0;34m\u001b[0m\u001b[0;34m\u001b[0m\u001b[0m\n",
      "\u001b[0;32m~/.pyenv/versions/3.7.3/lib/python3.7/site-packages/selenium/webdriver/remote/webdriver.py\u001b[0m in \u001b[0;36mfind_element\u001b[0;34m(self, by, value)\u001b[0m\n\u001b[1;32m    976\u001b[0m         return self.execute(Command.FIND_ELEMENT, {\n\u001b[1;32m    977\u001b[0m             \u001b[0;34m'using'\u001b[0m\u001b[0;34m:\u001b[0m \u001b[0mby\u001b[0m\u001b[0;34m,\u001b[0m\u001b[0;34m\u001b[0m\u001b[0;34m\u001b[0m\u001b[0m\n\u001b[0;32m--> 978\u001b[0;31m             'value': value})['value']\n\u001b[0m\u001b[1;32m    979\u001b[0m \u001b[0;34m\u001b[0m\u001b[0m\n\u001b[1;32m    980\u001b[0m     \u001b[0;32mdef\u001b[0m \u001b[0mfind_elements\u001b[0m\u001b[0;34m(\u001b[0m\u001b[0mself\u001b[0m\u001b[0;34m,\u001b[0m \u001b[0mby\u001b[0m\u001b[0;34m=\u001b[0m\u001b[0mBy\u001b[0m\u001b[0;34m.\u001b[0m\u001b[0mID\u001b[0m\u001b[0;34m,\u001b[0m \u001b[0mvalue\u001b[0m\u001b[0;34m=\u001b[0m\u001b[0;32mNone\u001b[0m\u001b[0;34m)\u001b[0m\u001b[0;34m:\u001b[0m\u001b[0;34m\u001b[0m\u001b[0;34m\u001b[0m\u001b[0m\n",
      "\u001b[0;32m~/.pyenv/versions/3.7.3/lib/python3.7/site-packages/selenium/webdriver/remote/webdriver.py\u001b[0m in \u001b[0;36mexecute\u001b[0;34m(self, driver_command, params)\u001b[0m\n\u001b[1;32m    319\u001b[0m         \u001b[0mresponse\u001b[0m \u001b[0;34m=\u001b[0m \u001b[0mself\u001b[0m\u001b[0;34m.\u001b[0m\u001b[0mcommand_executor\u001b[0m\u001b[0;34m.\u001b[0m\u001b[0mexecute\u001b[0m\u001b[0;34m(\u001b[0m\u001b[0mdriver_command\u001b[0m\u001b[0;34m,\u001b[0m \u001b[0mparams\u001b[0m\u001b[0;34m)\u001b[0m\u001b[0;34m\u001b[0m\u001b[0;34m\u001b[0m\u001b[0m\n\u001b[1;32m    320\u001b[0m         \u001b[0;32mif\u001b[0m \u001b[0mresponse\u001b[0m\u001b[0;34m:\u001b[0m\u001b[0;34m\u001b[0m\u001b[0;34m\u001b[0m\u001b[0m\n\u001b[0;32m--> 321\u001b[0;31m             \u001b[0mself\u001b[0m\u001b[0;34m.\u001b[0m\u001b[0merror_handler\u001b[0m\u001b[0;34m.\u001b[0m\u001b[0mcheck_response\u001b[0m\u001b[0;34m(\u001b[0m\u001b[0mresponse\u001b[0m\u001b[0;34m)\u001b[0m\u001b[0;34m\u001b[0m\u001b[0;34m\u001b[0m\u001b[0m\n\u001b[0m\u001b[1;32m    322\u001b[0m             response['value'] = self._unwrap_value(\n\u001b[1;32m    323\u001b[0m                 response.get('value', None))\n",
      "\u001b[0;32m~/.pyenv/versions/3.7.3/lib/python3.7/site-packages/selenium/webdriver/remote/errorhandler.py\u001b[0m in \u001b[0;36mcheck_response\u001b[0;34m(self, response)\u001b[0m\n\u001b[1;32m    240\u001b[0m                 \u001b[0malert_text\u001b[0m \u001b[0;34m=\u001b[0m \u001b[0mvalue\u001b[0m\u001b[0;34m[\u001b[0m\u001b[0;34m'alert'\u001b[0m\u001b[0;34m]\u001b[0m\u001b[0;34m.\u001b[0m\u001b[0mget\u001b[0m\u001b[0;34m(\u001b[0m\u001b[0;34m'text'\u001b[0m\u001b[0;34m)\u001b[0m\u001b[0;34m\u001b[0m\u001b[0;34m\u001b[0m\u001b[0m\n\u001b[1;32m    241\u001b[0m             \u001b[0;32mraise\u001b[0m \u001b[0mexception_class\u001b[0m\u001b[0;34m(\u001b[0m\u001b[0mmessage\u001b[0m\u001b[0;34m,\u001b[0m \u001b[0mscreen\u001b[0m\u001b[0;34m,\u001b[0m \u001b[0mstacktrace\u001b[0m\u001b[0;34m,\u001b[0m \u001b[0malert_text\u001b[0m\u001b[0;34m)\u001b[0m\u001b[0;34m\u001b[0m\u001b[0;34m\u001b[0m\u001b[0m\n\u001b[0;32m--> 242\u001b[0;31m         \u001b[0;32mraise\u001b[0m \u001b[0mexception_class\u001b[0m\u001b[0;34m(\u001b[0m\u001b[0mmessage\u001b[0m\u001b[0;34m,\u001b[0m \u001b[0mscreen\u001b[0m\u001b[0;34m,\u001b[0m \u001b[0mstacktrace\u001b[0m\u001b[0;34m)\u001b[0m\u001b[0;34m\u001b[0m\u001b[0;34m\u001b[0m\u001b[0m\n\u001b[0m\u001b[1;32m    243\u001b[0m \u001b[0;34m\u001b[0m\u001b[0m\n\u001b[1;32m    244\u001b[0m     \u001b[0;32mdef\u001b[0m \u001b[0m_value_or_default\u001b[0m\u001b[0;34m(\u001b[0m\u001b[0mself\u001b[0m\u001b[0;34m,\u001b[0m \u001b[0mobj\u001b[0m\u001b[0;34m,\u001b[0m \u001b[0mkey\u001b[0m\u001b[0;34m,\u001b[0m \u001b[0mdefault\u001b[0m\u001b[0;34m)\u001b[0m\u001b[0;34m:\u001b[0m\u001b[0;34m\u001b[0m\u001b[0;34m\u001b[0m\u001b[0m\n",
      "\u001b[0;31mNoSuchElementException\u001b[0m: Message: no such element: Unable to locate element: {\"method\":\"name\",\"selector\":\"qoo\"}\n  (Session info: chrome=86.0.4240.111)\n  (Driver info: chromedriver=2.42.591059 (a3d9684d10d61aa0c45f6723b327283be1ebaad8),platform=Mac OS X 10.14.6 x86_64)\n"
     ]
    }
   ],
   "source": [
    "driver.find_element_by_name('qoo')"
   ]
  },
  {
   "cell_type": "code",
   "execution_count": 56,
   "metadata": {},
   "outputs": [
    {
     "data": {
      "text/plain": [
       "<selenium.webdriver.remote.webelement.WebElement (session=\"eae4855e7da03592856f0f4eb1d49b19\", element=\"0.2863608778332023-2\")>"
      ]
     },
     "execution_count": 56,
     "metadata": {},
     "output_type": "execute_result"
    }
   ],
   "source": [
    "driver.find_element_by_css_selector('input')"
   ]
  },
  {
   "cell_type": "code",
   "execution_count": 57,
   "metadata": {},
   "outputs": [
    {
     "data": {
      "text/plain": [
       "<selenium.webdriver.remote.webelement.WebElement (session=\"eae4855e7da03592856f0f4eb1d49b19\", element=\"0.2863608778332023-1\")>"
      ]
     },
     "execution_count": 57,
     "metadata": {},
     "output_type": "execute_result"
    }
   ],
   "source": [
    "driver.find_element_by_css_selector('input[name=\"q\"]')"
   ]
  },
  {
   "cell_type": "code",
   "execution_count": 58,
   "metadata": {},
   "outputs": [],
   "source": [
    "driver.find_element_by_css_selector('input[name=\"q\"]').send_keys('iphone12')"
   ]
  },
  {
   "cell_type": "code",
   "execution_count": 59,
   "metadata": {},
   "outputs": [],
   "source": [
    "q = driver.find_element_by_css_selector('input[name=\"q\"]')"
   ]
  },
  {
   "cell_type": "code",
   "execution_count": 60,
   "metadata": {},
   "outputs": [],
   "source": [
    "q.send_keys('iphone 12')"
   ]
  },
  {
   "cell_type": "code",
   "execution_count": 61,
   "metadata": {},
   "outputs": [],
   "source": [
    "from selenium.webdriver.common.keys import Keys\n",
    "q.send_keys(Keys.RETURN)\n"
   ]
  },
  {
   "cell_type": "code",
   "execution_count": 62,
   "metadata": {},
   "outputs": [],
   "source": [
    "driver.close()"
   ]
  },
  {
   "cell_type": "markdown",
   "metadata": {},
   "source": [
    "### 完整搜尋Google 內容流程"
   ]
  },
  {
   "cell_type": "code",
   "execution_count": 63,
   "metadata": {},
   "outputs": [],
   "source": [
    "from selenium import webdriver\n",
    "driver = webdriver.Chrome('/opt/local/common/chromedriver')\n",
    "# 連結網頁\n",
    "driver.get('https://www.google.com')\n",
    "# 定位元素\n",
    "q = driver.find_element_by_css_selector('input[name=\"q\"]')\n",
    "# 送出資訊\n",
    "q.send_keys('iphone 12')\n",
    "q.send_keys(Keys.RETURN)"
   ]
  },
  {
   "cell_type": "code",
   "execution_count": 64,
   "metadata": {},
   "outputs": [],
   "source": [
    "driver.get('https://www.google.com')\n",
    "q = driver.find_element_by_css_selector('input[name=\"q\"]')"
   ]
  },
  {
   "cell_type": "code",
   "execution_count": 66,
   "metadata": {},
   "outputs": [],
   "source": [
    "q.send_keys('iphone 12')\n",
    "q.submit()"
   ]
  },
  {
   "cell_type": "code",
   "execution_count": 67,
   "metadata": {},
   "outputs": [],
   "source": [
    "a = driver.find_element_by_css_selector('a[data-click]')"
   ]
  },
  {
   "cell_type": "code",
   "execution_count": 69,
   "metadata": {},
   "outputs": [],
   "source": [
    "# 點擊\n",
    "a.click()"
   ]
  },
  {
   "cell_type": "markdown",
   "metadata": {},
   "source": [
    "## 抓取網頁"
   ]
  },
  {
   "cell_type": "code",
   "execution_count": 70,
   "metadata": {},
   "outputs": [],
   "source": [
    "# 連結網頁\n",
    "driver.get('https://www.google.com')\n",
    "# 定位元素\n",
    "q = driver.find_element_by_css_selector('input[name=\"q\"]')\n",
    "# 送出資訊\n",
    "q.send_keys('iphone 12')\n",
    "q.send_keys(Keys.RETURN)"
   ]
  },
  {
   "cell_type": "code",
   "execution_count": 72,
   "metadata": {},
   "outputs": [],
   "source": [
    "#driver.page_source"
   ]
  },
  {
   "cell_type": "code",
   "execution_count": 73,
   "metadata": {},
   "outputs": [],
   "source": [
    "from bs4 import BeautifulSoup\n",
    "soup = BeautifulSoup(driver.page_source, 'lxml')"
   ]
  },
  {
   "cell_type": "code",
   "execution_count": 77,
   "metadata": {},
   "outputs": [
    {
     "name": "stdout",
     "output_type": "stream",
     "text": [
      "台灣大哥大i12 指定專案$0起 - 開賣首3日申辦抽宏佳騰智慧電車\n",
      "全新 iPhone 12 - Apple 官方網站\n",
      "iPhone 12系列 現貨熱賣 - PChome24h購物\n",
      "【9453享分期】哀鳳12 月付945元 - 不需信用卡 憑身分證輕鬆分期\n",
      "iPhone 12 與iPhone 12 mini - Apple (台灣)\n",
      "全新選擇iPhone 12 Pro 機型。 - Apple\n",
      "購買iPhone 12 與iPhone 12 mini - Apple (台灣)\n",
      "iPhone 12頭香姐上週六就來家人助陣輪班| iPhone 12開賣 ...\n",
      "iPhone 12開賣資深果粉4年內3度搶到直營店頭香 - 聯合新聞網\n",
      "熱騰騰的iPhone 12 Pro 到手光速開箱分享- 第1頁- Apple討論區 ...\n",
      "藍色其實很時尚！iPhone 12與12 Pro外觀開箱介紹- SOGI手機王\n",
      "iPhone 12 Pro (256G) - PChome 24h購物\n",
      "傑昇通信-挑戰手機市場最低價 - iPhone超低破盤價\n"
     ]
    }
   ],
   "source": [
    "for rec in soup.select('br+ :nth-child(2) span'):\n",
    "    print(rec.text)"
   ]
  },
  {
   "cell_type": "markdown",
   "metadata": {},
   "source": [
    "### 練習題\n",
    "請使用 Selenium 讓瀏覽器自動點開蘋果網頁 https://www.apple.com/tw/"
   ]
  },
  {
   "cell_type": "code",
   "execution_count": null,
   "metadata": {},
   "outputs": [],
   "source": []
  }
 ],
 "metadata": {
  "kernelspec": {
   "display_name": "Python 3",
   "language": "python",
   "name": "python3"
  },
  "language_info": {
   "codemirror_mode": {
    "name": "ipython",
    "version": 3
   },
   "file_extension": ".py",
   "mimetype": "text/x-python",
   "name": "python",
   "nbconvert_exporter": "python",
   "pygments_lexer": "ipython3",
   "version": "3.7.3"
  }
 },
 "nbformat": 4,
 "nbformat_minor": 4
}
