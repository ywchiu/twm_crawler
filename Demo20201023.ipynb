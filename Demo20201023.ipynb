{
 "cells": [
  {
   "cell_type": "markdown",
   "metadata": {},
   "source": [
    "## 自由時報爬蟲 (HTML)"
   ]
  },
  {
   "cell_type": "code",
   "execution_count": 3,
   "metadata": {},
   "outputs": [],
   "source": [
    "import requests\n",
    "res = requests.get('https://news.ltn.com.tw/list/breakingnews')"
   ]
  },
  {
   "cell_type": "code",
   "execution_count": 4,
   "metadata": {},
   "outputs": [
    {
     "data": {
      "text/plain": [
       "<Response [200]>"
      ]
     },
     "execution_count": 4,
     "metadata": {},
     "output_type": "execute_result"
    }
   ],
   "source": [
    "res"
   ]
  },
  {
   "cell_type": "code",
   "execution_count": 6,
   "metadata": {},
   "outputs": [],
   "source": [
    "#res.text"
   ]
  },
  {
   "cell_type": "code",
   "execution_count": 7,
   "metadata": {},
   "outputs": [],
   "source": [
    "from bs4 import BeautifulSoup\n",
    "soup = BeautifulSoup(res.text, 'lxml')"
   ]
  },
  {
   "cell_type": "code",
   "execution_count": 17,
   "metadata": {},
   "outputs": [
    {
     "name": "stdout",
     "output_type": "stream",
     "text": [
      "https://news.ltn.com.tw/news/society/breakingnews/3329797 濁水溪床4天2野火 雲縣警消追查禍首 09:36\n",
      "https://sports.ltn.com.tw/news/breakingnews/3329761 網球》力拚在位週數超越費爸成史上第一 喬帥坦言：這是目標 09:32\n",
      "https://news.ltn.com.tw/news/life/breakingnews/3329789 苗縣降雨少 明德水庫「進帳掛零」 09:30\n",
      "https://sports.ltn.com.tw/news/breakingnews/3329780 MLB》比賽中與貝茲情不自禁相擁 光芒小將透露背後故事 09:27\n",
      "https://ec.ltn.com.tw/article/breakingnews/3329785 9月北美半導體設備出貨27.5億美元 年增逾4成創28個月新高  09:27\n",
      "https://news.ltn.com.tw/news/world/breakingnews/3329782 美大選辯論》拜登：川普應對疫情根本悲劇 我才能帶領美國對抗 09:21\n",
      "https://news.ltn.com.tw/news/world/breakingnews/3329779 美大選辯論》如何挺過下階段疫情？川普讚美國療程好 疫苗很快問世 09:20\n",
      "https://3c.ltn.com.tw/news/42110 為了 iPhone 12、12 Pro 升級 5G 網路？果粉看法不一 09:20\n",
      "https://news.ltn.com.tw/news/society/breakingnews/3329765 涉殺女友陳同佳洗錢罪出獄滿週年 何時來台仍未知 09:16\n",
      "https://ec.ltn.com.tw/article/breakingnews/3329770 新台幣升值2.53角 來到28.65元 09:11\n",
      "https://news.ltn.com.tw/news/life/breakingnews/3329757 「台灣最美馬桶」秘境爆紅 沙灘遊玩小心受困 09:09\n",
      "https://ec.ltn.com.tw/article/breakingnews/3329752 美元轉強 黃金跌近25美元 09:05\n",
      "https://ec.ltn.com.tw/article/breakingnews/3329768 電子股領漲 台股開高朝萬三挺進 09:04\n",
      "https://news.ltn.com.tw/news/life/breakingnews/3329750 高雄流行音樂中心董事新陣容 知名音樂人出列 09:01\n",
      "https://sports.ltn.com.tw/news/breakingnews/3329729 日職》曾是建築工人 阪神守護神洋投被大聯盟球隊看上 09:01\n",
      "https://ent.ltn.com.tw/news/breakingnews/3329662 10年前燒傷面目全非！Selina曝任爸千字文    勸阿中解除婚約 09:00\n",
      "https://ec.ltn.com.tw/article/breakingnews/3329758 台股盤前》市場追價態度轉趨謹慎 短線可布局蘋果供應鏈 08:59\n",
      "https://sports.ltn.com.tw/news/breakingnews/3329754 MLB》楚奧特、大谷翔平新幫手？ 天使隊鎖定左打游擊砲 08:58\n",
      "https://auto.ltn.com.tw/news/16366 跟上大改款 Levorg 腳步，Subaru Forester 換上新世代渦輪引擎！ 08:58\n",
      "https://sports.ltn.com.tw/news/breakingnews/3329737 MLB》落選金手套不滿聯盟 莫里納：我是最好的捕手！ 08:53\n"
     ]
    }
   ],
   "source": [
    "for li in soup.select('ul.list li'):\n",
    "    #print(li)\n",
    "    title = li.select_one('.title').text\n",
    "    link = li.select_one('a').get('href')\n",
    "    dt = li.select_one('.time').text\n",
    "    print(link, title, dt)\n",
    "    #print('=======================')"
   ]
  },
  {
   "cell_type": "code",
   "execution_count": 18,
   "metadata": {},
   "outputs": [],
   "source": [
    "newsary = []\n",
    "for li in soup.select('ul.list li'):\n",
    "    title = li.select_one('.title').text\n",
    "    link = li.select_one('a').get('href')\n",
    "    dt = li.select_one('.time').text\n",
    "    newsary.append({'link':link, 'title':title, 'dt':dt})"
   ]
  },
  {
   "cell_type": "code",
   "execution_count": 19,
   "metadata": {},
   "outputs": [
    {
     "data": {
      "text/plain": [
       "{'link': 'https://news.ltn.com.tw/news/society/breakingnews/3329797',\n",
       " 'title': '濁水溪床4天2野火 雲縣警消追查禍首',\n",
       " 'dt': '09:36'}"
      ]
     },
     "execution_count": 19,
     "metadata": {},
     "output_type": "execute_result"
    }
   ],
   "source": [
    "newsary[0]"
   ]
  },
  {
   "cell_type": "code",
   "execution_count": 20,
   "metadata": {},
   "outputs": [],
   "source": [
    "import pandas\n",
    "newsdf = pandas.DataFrame(newsary)"
   ]
  },
  {
   "cell_type": "code",
   "execution_count": 21,
   "metadata": {},
   "outputs": [
    {
     "data": {
      "text/html": [
       "<div>\n",
       "<style scoped>\n",
       "    .dataframe tbody tr th:only-of-type {\n",
       "        vertical-align: middle;\n",
       "    }\n",
       "\n",
       "    .dataframe tbody tr th {\n",
       "        vertical-align: top;\n",
       "    }\n",
       "\n",
       "    .dataframe thead th {\n",
       "        text-align: right;\n",
       "    }\n",
       "</style>\n",
       "<table border=\"1\" class=\"dataframe\">\n",
       "  <thead>\n",
       "    <tr style=\"text-align: right;\">\n",
       "      <th></th>\n",
       "      <th>link</th>\n",
       "      <th>title</th>\n",
       "      <th>dt</th>\n",
       "    </tr>\n",
       "  </thead>\n",
       "  <tbody>\n",
       "    <tr>\n",
       "      <th>0</th>\n",
       "      <td>https://news.ltn.com.tw/news/society/breakingn...</td>\n",
       "      <td>濁水溪床4天2野火 雲縣警消追查禍首</td>\n",
       "      <td>09:36</td>\n",
       "    </tr>\n",
       "    <tr>\n",
       "      <th>1</th>\n",
       "      <td>https://sports.ltn.com.tw/news/breakingnews/33...</td>\n",
       "      <td>網球》力拚在位週數超越費爸成史上第一 喬帥坦言：這是目標</td>\n",
       "      <td>09:32</td>\n",
       "    </tr>\n",
       "    <tr>\n",
       "      <th>2</th>\n",
       "      <td>https://news.ltn.com.tw/news/life/breakingnews...</td>\n",
       "      <td>苗縣降雨少 明德水庫「進帳掛零」</td>\n",
       "      <td>09:30</td>\n",
       "    </tr>\n",
       "    <tr>\n",
       "      <th>3</th>\n",
       "      <td>https://sports.ltn.com.tw/news/breakingnews/33...</td>\n",
       "      <td>MLB》比賽中與貝茲情不自禁相擁 光芒小將透露背後故事</td>\n",
       "      <td>09:27</td>\n",
       "    </tr>\n",
       "    <tr>\n",
       "      <th>4</th>\n",
       "      <td>https://ec.ltn.com.tw/article/breakingnews/332...</td>\n",
       "      <td>9月北美半導體設備出貨27.5億美元 年增逾4成創28個月新高</td>\n",
       "      <td>09:27</td>\n",
       "    </tr>\n",
       "  </tbody>\n",
       "</table>\n",
       "</div>"
      ],
      "text/plain": [
       "                                                link  \\\n",
       "0  https://news.ltn.com.tw/news/society/breakingn...   \n",
       "1  https://sports.ltn.com.tw/news/breakingnews/33...   \n",
       "2  https://news.ltn.com.tw/news/life/breakingnews...   \n",
       "3  https://sports.ltn.com.tw/news/breakingnews/33...   \n",
       "4  https://ec.ltn.com.tw/article/breakingnews/332...   \n",
       "\n",
       "                              title     dt  \n",
       "0                濁水溪床4天2野火 雲縣警消追查禍首  09:36  \n",
       "1      網球》力拚在位週數超越費爸成史上第一 喬帥坦言：這是目標  09:32  \n",
       "2                  苗縣降雨少 明德水庫「進帳掛零」  09:30  \n",
       "3       MLB》比賽中與貝茲情不自禁相擁 光芒小將透露背後故事  09:27  \n",
       "4  9月北美半導體設備出貨27.5億美元 年增逾4成創28個月新高   09:27  "
      ]
     },
     "execution_count": 21,
     "metadata": {},
     "output_type": "execute_result"
    }
   ],
   "source": [
    "newsdf.head()"
   ]
  },
  {
   "cell_type": "code",
   "execution_count": 22,
   "metadata": {},
   "outputs": [],
   "source": [
    "newsdf.to_excel('ltnnews.xlsx')"
   ]
  },
  {
   "cell_type": "code",
   "execution_count": 24,
   "metadata": {},
   "outputs": [],
   "source": [
    "! open ltnnews.xlsx"
   ]
  },
  {
   "cell_type": "markdown",
   "metadata": {},
   "source": [
    "## 自由時報爬蟲 (API) "
   ]
  },
  {
   "cell_type": "code",
   "execution_count": 25,
   "metadata": {},
   "outputs": [],
   "source": [
    "import requests\n",
    "res = requests.get('https://news.ltn.com.tw/ajax/breakingnews/all/3')"
   ]
  },
  {
   "cell_type": "code",
   "execution_count": 32,
   "metadata": {},
   "outputs": [
    {
     "data": {
      "text/html": [
       "<div>\n",
       "<style scoped>\n",
       "    .dataframe tbody tr th:only-of-type {\n",
       "        vertical-align: middle;\n",
       "    }\n",
       "\n",
       "    .dataframe tbody tr th {\n",
       "        vertical-align: top;\n",
       "    }\n",
       "\n",
       "    .dataframe thead th {\n",
       "        text-align: right;\n",
       "    }\n",
       "</style>\n",
       "<table border=\"1\" class=\"dataframe\">\n",
       "  <thead>\n",
       "    <tr style=\"text-align: right;\">\n",
       "      <th></th>\n",
       "      <th>no</th>\n",
       "      <th>title</th>\n",
       "      <th>bigphoto_flag</th>\n",
       "      <th>photo_S</th>\n",
       "      <th>photo_L</th>\n",
       "      <th>url</th>\n",
       "      <th>time</th>\n",
       "      <th>type_en</th>\n",
       "      <th>group</th>\n",
       "      <th>type_cn</th>\n",
       "      <th>local</th>\n",
       "      <th>summary</th>\n",
       "      <th>video</th>\n",
       "      <th>localUrl</th>\n",
       "      <th>tagUrl</th>\n",
       "      <th>style</th>\n",
       "      <th>tagText</th>\n",
       "    </tr>\n",
       "  </thead>\n",
       "  <tbody>\n",
       "    <tr>\n",
       "      <th>0</th>\n",
       "      <td>14799</td>\n",
       "      <td>挑戰出道最大尺度！徐睿知「倒奶、露腿根」火辣救全場</td>\n",
       "      <td>0</td>\n",
       "      <td>http://img.ltn.com.tw/Upload/style/page/2020/1...</td>\n",
       "      <td>http://img.ltn.com.tw/Upload/style/page/2020/1...</td>\n",
       "      <td>http://istyle.ltn.com.tw/article/14799</td>\n",
       "      <td>08:30</td>\n",
       "      <td></td>\n",
       "      <td>istyle</td>\n",
       "      <td></td>\n",
       "      <td>False</td>\n",
       "      <td>以《雖然是精神病但沒關係》一劇翻紅的韓國女星徐睿知，昨（22）日參加釜日電影節活動，以一身超...</td>\n",
       "      <td>0</td>\n",
       "      <td></td>\n",
       "      <td>list/istyle/istyle</td>\n",
       "      <td>None</td>\n",
       "      <td>時尚</td>\n",
       "    </tr>\n",
       "    <tr>\n",
       "      <th>1</th>\n",
       "      <td>3329713</td>\n",
       "      <td>停駛17天破紀錄 《國際橋牌社》奇蹟登島拍攝</td>\n",
       "      <td>0</td>\n",
       "      <td>http://img.ltn.com.tw/Upload/ent/page/400S/202...</td>\n",
       "      <td>http://img.ltn.com.tw/Upload/ent/page/800S/202...</td>\n",
       "      <td>https://ent.ltn.com.tw/news/breakingnews/3329713</td>\n",
       "      <td>08:30</td>\n",
       "      <td>entertainment</td>\n",
       "      <td>breakingnews</td>\n",
       "      <td>娛樂</td>\n",
       "      <td>False</td>\n",
       "      <td>\\n政治職人劇《國際橋牌社》第二季在馬祖開拍，21日劇組從馬祖南竿開拔到前線離島取景，還原1...</td>\n",
       "      <td>0</td>\n",
       "      <td></td>\n",
       "      <td>list/breakingnews/entertainment</td>\n",
       "      <td>None</td>\n",
       "      <td>娛樂</td>\n",
       "    </tr>\n",
       "    <tr>\n",
       "      <th>2</th>\n",
       "      <td>3329733</td>\n",
       "      <td>瑞德西韋獲FDA正式授權 成美國唯一核准武肺治療藥物</td>\n",
       "      <td>1</td>\n",
       "      <td>http://img.ltn.com.tw/Upload/news/250/2020/10/...</td>\n",
       "      <td>http://img.ltn.com.tw/Upload/news/600/2020/10/...</td>\n",
       "      <td>https://news.ltn.com.tw/news/world/breakingnew...</td>\n",
       "      <td>08:28</td>\n",
       "      <td>world</td>\n",
       "      <td>breakingnews</td>\n",
       "      <td>國際</td>\n",
       "      <td>False</td>\n",
       "      <td>美國食品暨藥物管理局（FDA）22日批准吉立亞醫藥公司（Gilead Sciences）生產...</td>\n",
       "      <td>0</td>\n",
       "      <td></td>\n",
       "      <td>list/breakingnews/world</td>\n",
       "      <td>None</td>\n",
       "      <td>國際</td>\n",
       "    </tr>\n",
       "    <tr>\n",
       "      <th>3</th>\n",
       "      <td>3329728</td>\n",
       "      <td>NBA》自認是球隊老大？  歐尼爾建議該交易P.喬治</td>\n",
       "      <td>0</td>\n",
       "      <td>http://img.ltn.com.tw/Upload/sports/page/400S/...</td>\n",
       "      <td>http://img.ltn.com.tw/Upload/sports/page/800S/...</td>\n",
       "      <td>https://sports.ltn.com.tw/news/breakingnews/33...</td>\n",
       "      <td>08:16</td>\n",
       "      <td>sports</td>\n",
       "      <td>breakingnews</td>\n",
       "      <td>體育</td>\n",
       "      <td>False</td>\n",
       "      <td>\\n洛杉磯快艇隊在去年網羅雷納德（Kawhi Leonard）、P.喬治（Paul Geor...</td>\n",
       "      <td>0</td>\n",
       "      <td></td>\n",
       "      <td>list/breakingnews/sports</td>\n",
       "      <td>None</td>\n",
       "      <td>體育</td>\n",
       "    </tr>\n",
       "    <tr>\n",
       "      <th>4</th>\n",
       "      <td>3329741</td>\n",
       "      <td>日職》不忍了！還剩16場沒打 億元男洋砲慘遭戰力外</td>\n",
       "      <td>0</td>\n",
       "      <td>http://img.ltn.com.tw/Upload/sports/page/400S/...</td>\n",
       "      <td>http://img.ltn.com.tw/Upload/sports/page/800S/...</td>\n",
       "      <td>https://sports.ltn.com.tw/news/breakingnews/33...</td>\n",
       "      <td>08:15</td>\n",
       "      <td>sports</td>\n",
       "      <td>breakingnews</td>\n",
       "      <td>體育</td>\n",
       "      <td>False</td>\n",
       "      <td>\\n阪神虎季前高薪簽來大聯盟洋砲鮑爾（Justin Bour），不過根據日媒報導，雖然球隊目...</td>\n",
       "      <td>0</td>\n",
       "      <td></td>\n",
       "      <td>list/breakingnews/sports</td>\n",
       "      <td>None</td>\n",
       "      <td>體育</td>\n",
       "    </tr>\n",
       "  </tbody>\n",
       "</table>\n",
       "</div>"
      ],
      "text/plain": [
       "        no                       title bigphoto_flag  \\\n",
       "0    14799   挑戰出道最大尺度！徐睿知「倒奶、露腿根」火辣救全場             0   \n",
       "1  3329713      停駛17天破紀錄 《國際橋牌社》奇蹟登島拍攝             0   \n",
       "2  3329733  瑞德西韋獲FDA正式授權 成美國唯一核准武肺治療藥物             1   \n",
       "3  3329728  NBA》自認是球隊老大？  歐尼爾建議該交易P.喬治             0   \n",
       "4  3329741   日職》不忍了！還剩16場沒打 億元男洋砲慘遭戰力外             0   \n",
       "\n",
       "                                             photo_S  \\\n",
       "0  http://img.ltn.com.tw/Upload/style/page/2020/1...   \n",
       "1  http://img.ltn.com.tw/Upload/ent/page/400S/202...   \n",
       "2  http://img.ltn.com.tw/Upload/news/250/2020/10/...   \n",
       "3  http://img.ltn.com.tw/Upload/sports/page/400S/...   \n",
       "4  http://img.ltn.com.tw/Upload/sports/page/400S/...   \n",
       "\n",
       "                                             photo_L  \\\n",
       "0  http://img.ltn.com.tw/Upload/style/page/2020/1...   \n",
       "1  http://img.ltn.com.tw/Upload/ent/page/800S/202...   \n",
       "2  http://img.ltn.com.tw/Upload/news/600/2020/10/...   \n",
       "3  http://img.ltn.com.tw/Upload/sports/page/800S/...   \n",
       "4  http://img.ltn.com.tw/Upload/sports/page/800S/...   \n",
       "\n",
       "                                                 url   time        type_en  \\\n",
       "0             http://istyle.ltn.com.tw/article/14799  08:30                  \n",
       "1   https://ent.ltn.com.tw/news/breakingnews/3329713  08:30  entertainment   \n",
       "2  https://news.ltn.com.tw/news/world/breakingnew...  08:28          world   \n",
       "3  https://sports.ltn.com.tw/news/breakingnews/33...  08:16         sports   \n",
       "4  https://sports.ltn.com.tw/news/breakingnews/33...  08:15         sports   \n",
       "\n",
       "          group type_cn  local  \\\n",
       "0        istyle          False   \n",
       "1  breakingnews      娛樂  False   \n",
       "2  breakingnews      國際  False   \n",
       "3  breakingnews      體育  False   \n",
       "4  breakingnews      體育  False   \n",
       "\n",
       "                                             summary video localUrl  \\\n",
       "0  以《雖然是精神病但沒關係》一劇翻紅的韓國女星徐睿知，昨（22）日參加釜日電影節活動，以一身超...     0            \n",
       "1  \\n政治職人劇《國際橋牌社》第二季在馬祖開拍，21日劇組從馬祖南竿開拔到前線離島取景，還原1...     0            \n",
       "2  美國食品暨藥物管理局（FDA）22日批准吉立亞醫藥公司（Gilead Sciences）生產...     0            \n",
       "3  \\n洛杉磯快艇隊在去年網羅雷納德（Kawhi Leonard）、P.喬治（Paul Geor...     0            \n",
       "4  \\n阪神虎季前高薪簽來大聯盟洋砲鮑爾（Justin Bour），不過根據日媒報導，雖然球隊目...     0            \n",
       "\n",
       "                            tagUrl style tagText  \n",
       "0               list/istyle/istyle  None      時尚  \n",
       "1  list/breakingnews/entertainment  None      娛樂  \n",
       "2          list/breakingnews/world  None      國際  \n",
       "3         list/breakingnews/sports  None      體育  \n",
       "4         list/breakingnews/sports  None      體育  "
      ]
     },
     "execution_count": 32,
     "metadata": {},
     "output_type": "execute_result"
    }
   ],
   "source": [
    "import pandas\n",
    "df = pandas.DataFrame(list(res.json()['data'].values()))\n",
    "df.head()"
   ]
  },
  {
   "cell_type": "code",
   "execution_count": 46,
   "metadata": {},
   "outputs": [
    {
     "data": {
      "text/html": [
       "<div>\n",
       "<style scoped>\n",
       "    .dataframe tbody tr th:only-of-type {\n",
       "        vertical-align: middle;\n",
       "    }\n",
       "\n",
       "    .dataframe tbody tr th {\n",
       "        vertical-align: top;\n",
       "    }\n",
       "\n",
       "    .dataframe thead th {\n",
       "        text-align: right;\n",
       "    }\n",
       "</style>\n",
       "<table border=\"1\" class=\"dataframe\">\n",
       "  <thead>\n",
       "    <tr style=\"text-align: right;\">\n",
       "      <th></th>\n",
       "      <th>no</th>\n",
       "      <th>title</th>\n",
       "      <th>bigphoto_flag</th>\n",
       "      <th>photo_S</th>\n",
       "      <th>photo_L</th>\n",
       "      <th>url</th>\n",
       "      <th>time</th>\n",
       "      <th>type_en</th>\n",
       "      <th>group</th>\n",
       "      <th>type_cn</th>\n",
       "      <th>local</th>\n",
       "      <th>summary</th>\n",
       "      <th>video</th>\n",
       "      <th>localUrl</th>\n",
       "      <th>tagUrl</th>\n",
       "      <th>style</th>\n",
       "      <th>tagText</th>\n",
       "    </tr>\n",
       "  </thead>\n",
       "  <tbody>\n",
       "    <tr>\n",
       "      <th>0</th>\n",
       "      <td>3329820</td>\n",
       "      <td>秋遊玩樂攻略 新瓦屋稻草故事屋、討糖野餐趴邀大小朋友同樂</td>\n",
       "      <td>0</td>\n",
       "      <td>http://img.ltn.com.tw/Upload/news/250/2020/10/...</td>\n",
       "      <td>http://img.ltn.com.tw/Upload/news/600/2020/10/...</td>\n",
       "      <td>https://news.ltn.com.tw/news/life/breakingnews...</td>\n",
       "      <td>10:08</td>\n",
       "      <td>life</td>\n",
       "      <td>breakingnews</td>\n",
       "      <td>生活</td>\n",
       "      <td>新竹縣</td>\n",
       "      <td>［記者廖雪茹／新竹報導］秋風涼爽，新竹縣竹北市新瓦屋客家文化保存區本週六、日（24、25日）...</td>\n",
       "      <td>0</td>\n",
       "      <td>list/breakingnews/HsinchuCounty</td>\n",
       "      <td>list/breakingnews/life</td>\n",
       "      <td>None</td>\n",
       "      <td>生活</td>\n",
       "    </tr>\n",
       "    <tr>\n",
       "      <th>1</th>\n",
       "      <td>3329828</td>\n",
       "      <td>我駐美代表處1職員確診 暫停領務櫃檯服務</td>\n",
       "      <td>0</td>\n",
       "      <td>http://img.ltn.com.tw/Upload/news/250/2020/10/...</td>\n",
       "      <td>http://img.ltn.com.tw/Upload/news/600/2020/10/...</td>\n",
       "      <td>https://news.ltn.com.tw/news/politics/breaking...</td>\n",
       "      <td>10:08</td>\n",
       "      <td>politics</td>\n",
       "      <td>breakingnews</td>\n",
       "      <td>政治</td>\n",
       "      <td>False</td>\n",
       "      <td>外交部今證實，我駐美代表處一名職員22日確診武漢肺炎，外交部隨即為與該名職員有接觸史的其他職...</td>\n",
       "      <td>0</td>\n",
       "      <td></td>\n",
       "      <td>list/breakingnews/politics</td>\n",
       "      <td>None</td>\n",
       "      <td>政治</td>\n",
       "    </tr>\n",
       "    <tr>\n",
       "      <th>2</th>\n",
       "      <td>3329834</td>\n",
       "      <td>台海軍情》101億採購BLOCK 1B方陣快砲  海軍：接裝儲存廠6月開工</td>\n",
       "      <td>1</td>\n",
       "      <td>http://img.ltn.com.tw/Upload/news/250/2020/10/...</td>\n",
       "      <td>http://img.ltn.com.tw/Upload/news/600/2020/10/...</td>\n",
       "      <td>https://news.ltn.com.tw/news/politics/breaking...</td>\n",
       "      <td>10:06</td>\n",
       "      <td>politics</td>\n",
       "      <td>breakingnews</td>\n",
       "      <td>政治</td>\n",
       "      <td>臺北市</td>\n",
       "      <td>軍方動支101億5936萬元，向美採購13套BLOCK 1B方陣快砲，以及執行8套現役方陣快...</td>\n",
       "      <td>0</td>\n",
       "      <td>list/breakingnews/Taipei</td>\n",
       "      <td>list/breakingnews/politics</td>\n",
       "      <td>None</td>\n",
       "      <td>政治</td>\n",
       "    </tr>\n",
       "    <tr>\n",
       "      <th>3</th>\n",
       "      <td>3329763</td>\n",
       "      <td>日職》阪神虎大砍兩老將 卻想留明年滿40歲的糸井嘉男</td>\n",
       "      <td>0</td>\n",
       "      <td>http://img.ltn.com.tw/Upload/sports/page/400S/...</td>\n",
       "      <td>http://img.ltn.com.tw/Upload/sports/page/800S/...</td>\n",
       "      <td>https://sports.ltn.com.tw/news/breakingnews/33...</td>\n",
       "      <td>10:05</td>\n",
       "      <td>sports</td>\n",
       "      <td>breakingnews</td>\n",
       "      <td>體育</td>\n",
       "      <td>False</td>\n",
       "      <td>\\n阪神虎今年季後將不留老將福留孝介、能見篤史，藤川球兒將退休。明年將滿40歲的外野手糸井嘉...</td>\n",
       "      <td>0</td>\n",
       "      <td></td>\n",
       "      <td>list/breakingnews/sports</td>\n",
       "      <td>None</td>\n",
       "      <td>體育</td>\n",
       "    </tr>\n",
       "    <tr>\n",
       "      <th>4</th>\n",
       "      <td>42107</td>\n",
       "      <td>中華電出招「48個月」綁 iPhone 12！官方解釋背後理由</td>\n",
       "      <td>0</td>\n",
       "      <td>http://img.ltn.com.tw/Upload/3c/page/2020/10/2...</td>\n",
       "      <td>http://img.ltn.com.tw/Upload/3c/page/2020/10/2...</td>\n",
       "      <td>http://3c.ltn.com.tw/news/42107</td>\n",
       "      <td>10:03</td>\n",
       "      <td></td>\n",
       "      <td>3c</td>\n",
       "      <td></td>\n",
       "      <td>False</td>\n",
       "      <td>因應首款 5G iPhone 今（23日）正式上市，中華電信罕見祭出 48 個月綁約購機和...</td>\n",
       "      <td>0</td>\n",
       "      <td></td>\n",
       "      <td>list/3c/3c</td>\n",
       "      <td>None</td>\n",
       "      <td>3C</td>\n",
       "    </tr>\n",
       "  </tbody>\n",
       "</table>\n",
       "</div>"
      ],
      "text/plain": [
       "        no                                  title bigphoto_flag  \\\n",
       "0  3329820           秋遊玩樂攻略 新瓦屋稻草故事屋、討糖野餐趴邀大小朋友同樂             0   \n",
       "1  3329828                   我駐美代表處1職員確診 暫停領務櫃檯服務             0   \n",
       "2  3329834  台海軍情》101億採購BLOCK 1B方陣快砲  海軍：接裝儲存廠6月開工             1   \n",
       "3  3329763             日職》阪神虎大砍兩老將 卻想留明年滿40歲的糸井嘉男             0   \n",
       "4    42107        中華電出招「48個月」綁 iPhone 12！官方解釋背後理由             0   \n",
       "\n",
       "                                             photo_S  \\\n",
       "0  http://img.ltn.com.tw/Upload/news/250/2020/10/...   \n",
       "1  http://img.ltn.com.tw/Upload/news/250/2020/10/...   \n",
       "2  http://img.ltn.com.tw/Upload/news/250/2020/10/...   \n",
       "3  http://img.ltn.com.tw/Upload/sports/page/400S/...   \n",
       "4  http://img.ltn.com.tw/Upload/3c/page/2020/10/2...   \n",
       "\n",
       "                                             photo_L  \\\n",
       "0  http://img.ltn.com.tw/Upload/news/600/2020/10/...   \n",
       "1  http://img.ltn.com.tw/Upload/news/600/2020/10/...   \n",
       "2  http://img.ltn.com.tw/Upload/news/600/2020/10/...   \n",
       "3  http://img.ltn.com.tw/Upload/sports/page/800S/...   \n",
       "4  http://img.ltn.com.tw/Upload/3c/page/2020/10/2...   \n",
       "\n",
       "                                                 url   time   type_en  \\\n",
       "0  https://news.ltn.com.tw/news/life/breakingnews...  10:08      life   \n",
       "1  https://news.ltn.com.tw/news/politics/breaking...  10:08  politics   \n",
       "2  https://news.ltn.com.tw/news/politics/breaking...  10:06  politics   \n",
       "3  https://sports.ltn.com.tw/news/breakingnews/33...  10:05    sports   \n",
       "4                    http://3c.ltn.com.tw/news/42107  10:03             \n",
       "\n",
       "          group type_cn  local  \\\n",
       "0  breakingnews      生活    新竹縣   \n",
       "1  breakingnews      政治  False   \n",
       "2  breakingnews      政治    臺北市   \n",
       "3  breakingnews      體育  False   \n",
       "4            3c          False   \n",
       "\n",
       "                                             summary video  \\\n",
       "0  ［記者廖雪茹／新竹報導］秋風涼爽，新竹縣竹北市新瓦屋客家文化保存區本週六、日（24、25日）...     0   \n",
       "1  外交部今證實，我駐美代表處一名職員22日確診武漢肺炎，外交部隨即為與該名職員有接觸史的其他職...     0   \n",
       "2  軍方動支101億5936萬元，向美採購13套BLOCK 1B方陣快砲，以及執行8套現役方陣快...     0   \n",
       "3  \\n阪神虎今年季後將不留老將福留孝介、能見篤史，藤川球兒將退休。明年將滿40歲的外野手糸井嘉...     0   \n",
       "4   因應首款 5G iPhone 今（23日）正式上市，中華電信罕見祭出 48 個月綁約購機和...     0   \n",
       "\n",
       "                          localUrl                      tagUrl style tagText  \n",
       "0  list/breakingnews/HsinchuCounty      list/breakingnews/life  None      生活  \n",
       "1                                   list/breakingnews/politics  None      政治  \n",
       "2         list/breakingnews/Taipei  list/breakingnews/politics  None      政治  \n",
       "3                                     list/breakingnews/sports  None      體育  \n",
       "4                                                   list/3c/3c  None      3C  "
      ]
     },
     "execution_count": 46,
     "metadata": {},
     "output_type": "execute_result"
    }
   ],
   "source": [
    "import requests\n",
    "newsary = []\n",
    "for i in range(1,6):\n",
    "    res = requests.get('https://news.ltn.com.tw/ajax/breakingnews/all/{}'.format(i))\n",
    "    data = res.json()['data']\n",
    "    if isinstance(data, dict):\n",
    "        newsary = newsary + list(res.json()['data'].values())\n",
    "    else:\n",
    "        newsary = newsary + res.json()['data']\n",
    "import pandas\n",
    "newsdf = pandas.DataFrame(newsary)\n",
    "newsdf.head()"
   ]
  },
  {
   "cell_type": "code",
   "execution_count": 47,
   "metadata": {},
   "outputs": [
    {
     "data": {
      "text/plain": [
       "100"
      ]
     },
     "execution_count": 47,
     "metadata": {},
     "output_type": "execute_result"
    }
   ],
   "source": [
    "len(newsdf)"
   ]
  },
  {
   "cell_type": "code",
   "execution_count": 49,
   "metadata": {},
   "outputs": [],
   "source": [
    "! git add Demo20201023.ipynb"
   ]
  },
  {
   "cell_type": "code",
   "execution_count": 50,
   "metadata": {},
   "outputs": [
    {
     "name": "stdout",
     "output_type": "stream",
     "text": [
      "[main 8992317] add Demo 20201023\r\n",
      " 1 file changed, 755 insertions(+)\r\n",
      " create mode 100644 Demo20201023.ipynb\r\n"
     ]
    }
   ],
   "source": [
    "! git commit -m \"add Demo 20201023\" Demo20201023.ipynb"
   ]
  },
  {
   "cell_type": "markdown",
   "metadata": {},
   "source": [
    "## Selenium"
   ]
  },
  {
   "cell_type": "code",
   "execution_count": 51,
   "metadata": {},
   "outputs": [
    {
     "name": "stdout",
     "output_type": "stream",
     "text": [
      "Requirement already satisfied: selenium in /Users/davidchiu/.pyenv/versions/3.7.3/lib/python3.7/site-packages (3.141.0)\n",
      "Requirement already satisfied: urllib3 in /Users/davidchiu/.pyenv/versions/3.7.3/lib/python3.7/site-packages (from selenium) (1.25.9)\n",
      "\u001b[33mWARNING: You are using pip version 20.2.3; however, version 20.2.4 is available.\n",
      "You should consider upgrading via the '/Users/davidchiu/.pyenv/versions/3.7.3/bin/python3.7 -m pip install --upgrade pip' command.\u001b[0m\n"
     ]
    }
   ],
   "source": [
    "! pip install selenium"
   ]
  },
  {
   "cell_type": "code",
   "execution_count": 52,
   "metadata": {},
   "outputs": [],
   "source": [
    "from selenium import webdriver\n",
    "#driver = webdriver.Chrime('C://user//david//Downloads//chromedriver.exe')\n",
    "driver = webdriver.Chrome('/opt/local/common/chromedriver')"
   ]
  },
  {
   "cell_type": "code",
   "execution_count": 53,
   "metadata": {},
   "outputs": [],
   "source": [
    "driver.get('https://www.google.com')"
   ]
  },
  {
   "cell_type": "code",
   "execution_count": 54,
   "metadata": {},
   "outputs": [
    {
     "data": {
      "text/plain": [
       "<selenium.webdriver.remote.webelement.WebElement (session=\"eae4855e7da03592856f0f4eb1d49b19\", element=\"0.2863608778332023-1\")>"
      ]
     },
     "execution_count": 54,
     "metadata": {},
     "output_type": "execute_result"
    }
   ],
   "source": [
    "driver.find_element_by_name('q')"
   ]
  },
  {
   "cell_type": "code",
   "execution_count": 55,
   "metadata": {},
   "outputs": [
    {
     "ename": "NoSuchElementException",
     "evalue": "Message: no such element: Unable to locate element: {\"method\":\"name\",\"selector\":\"qoo\"}\n  (Session info: chrome=86.0.4240.111)\n  (Driver info: chromedriver=2.42.591059 (a3d9684d10d61aa0c45f6723b327283be1ebaad8),platform=Mac OS X 10.14.6 x86_64)\n",
     "output_type": "error",
     "traceback": [
      "\u001b[0;31m---------------------------------------------------------------------------\u001b[0m",
      "\u001b[0;31mNoSuchElementException\u001b[0m                    Traceback (most recent call last)",
      "\u001b[0;32m<ipython-input-55-371921a7d675>\u001b[0m in \u001b[0;36m<module>\u001b[0;34m\u001b[0m\n\u001b[0;32m----> 1\u001b[0;31m \u001b[0mdriver\u001b[0m\u001b[0;34m.\u001b[0m\u001b[0mfind_element_by_name\u001b[0m\u001b[0;34m(\u001b[0m\u001b[0;34m'qoo'\u001b[0m\u001b[0;34m)\u001b[0m\u001b[0;34m\u001b[0m\u001b[0;34m\u001b[0m\u001b[0m\n\u001b[0m",
      "\u001b[0;32m~/.pyenv/versions/3.7.3/lib/python3.7/site-packages/selenium/webdriver/remote/webdriver.py\u001b[0m in \u001b[0;36mfind_element_by_name\u001b[0;34m(self, name)\u001b[0m\n\u001b[1;32m    494\u001b[0m             \u001b[0melement\u001b[0m \u001b[0;34m=\u001b[0m \u001b[0mdriver\u001b[0m\u001b[0;34m.\u001b[0m\u001b[0mfind_element_by_name\u001b[0m\u001b[0;34m(\u001b[0m\u001b[0;34m'foo'\u001b[0m\u001b[0;34m)\u001b[0m\u001b[0;34m\u001b[0m\u001b[0;34m\u001b[0m\u001b[0m\n\u001b[1;32m    495\u001b[0m         \"\"\"\n\u001b[0;32m--> 496\u001b[0;31m         \u001b[0;32mreturn\u001b[0m \u001b[0mself\u001b[0m\u001b[0;34m.\u001b[0m\u001b[0mfind_element\u001b[0m\u001b[0;34m(\u001b[0m\u001b[0mby\u001b[0m\u001b[0;34m=\u001b[0m\u001b[0mBy\u001b[0m\u001b[0;34m.\u001b[0m\u001b[0mNAME\u001b[0m\u001b[0;34m,\u001b[0m \u001b[0mvalue\u001b[0m\u001b[0;34m=\u001b[0m\u001b[0mname\u001b[0m\u001b[0;34m)\u001b[0m\u001b[0;34m\u001b[0m\u001b[0;34m\u001b[0m\u001b[0m\n\u001b[0m\u001b[1;32m    497\u001b[0m \u001b[0;34m\u001b[0m\u001b[0m\n\u001b[1;32m    498\u001b[0m     \u001b[0;32mdef\u001b[0m \u001b[0mfind_elements_by_name\u001b[0m\u001b[0;34m(\u001b[0m\u001b[0mself\u001b[0m\u001b[0;34m,\u001b[0m \u001b[0mname\u001b[0m\u001b[0;34m)\u001b[0m\u001b[0;34m:\u001b[0m\u001b[0;34m\u001b[0m\u001b[0;34m\u001b[0m\u001b[0m\n",
      "\u001b[0;32m~/.pyenv/versions/3.7.3/lib/python3.7/site-packages/selenium/webdriver/remote/webdriver.py\u001b[0m in \u001b[0;36mfind_element\u001b[0;34m(self, by, value)\u001b[0m\n\u001b[1;32m    976\u001b[0m         return self.execute(Command.FIND_ELEMENT, {\n\u001b[1;32m    977\u001b[0m             \u001b[0;34m'using'\u001b[0m\u001b[0;34m:\u001b[0m \u001b[0mby\u001b[0m\u001b[0;34m,\u001b[0m\u001b[0;34m\u001b[0m\u001b[0;34m\u001b[0m\u001b[0m\n\u001b[0;32m--> 978\u001b[0;31m             'value': value})['value']\n\u001b[0m\u001b[1;32m    979\u001b[0m \u001b[0;34m\u001b[0m\u001b[0m\n\u001b[1;32m    980\u001b[0m     \u001b[0;32mdef\u001b[0m \u001b[0mfind_elements\u001b[0m\u001b[0;34m(\u001b[0m\u001b[0mself\u001b[0m\u001b[0;34m,\u001b[0m \u001b[0mby\u001b[0m\u001b[0;34m=\u001b[0m\u001b[0mBy\u001b[0m\u001b[0;34m.\u001b[0m\u001b[0mID\u001b[0m\u001b[0;34m,\u001b[0m \u001b[0mvalue\u001b[0m\u001b[0;34m=\u001b[0m\u001b[0;32mNone\u001b[0m\u001b[0;34m)\u001b[0m\u001b[0;34m:\u001b[0m\u001b[0;34m\u001b[0m\u001b[0;34m\u001b[0m\u001b[0m\n",
      "\u001b[0;32m~/.pyenv/versions/3.7.3/lib/python3.7/site-packages/selenium/webdriver/remote/webdriver.py\u001b[0m in \u001b[0;36mexecute\u001b[0;34m(self, driver_command, params)\u001b[0m\n\u001b[1;32m    319\u001b[0m         \u001b[0mresponse\u001b[0m \u001b[0;34m=\u001b[0m \u001b[0mself\u001b[0m\u001b[0;34m.\u001b[0m\u001b[0mcommand_executor\u001b[0m\u001b[0;34m.\u001b[0m\u001b[0mexecute\u001b[0m\u001b[0;34m(\u001b[0m\u001b[0mdriver_command\u001b[0m\u001b[0;34m,\u001b[0m \u001b[0mparams\u001b[0m\u001b[0;34m)\u001b[0m\u001b[0;34m\u001b[0m\u001b[0;34m\u001b[0m\u001b[0m\n\u001b[1;32m    320\u001b[0m         \u001b[0;32mif\u001b[0m \u001b[0mresponse\u001b[0m\u001b[0;34m:\u001b[0m\u001b[0;34m\u001b[0m\u001b[0;34m\u001b[0m\u001b[0m\n\u001b[0;32m--> 321\u001b[0;31m             \u001b[0mself\u001b[0m\u001b[0;34m.\u001b[0m\u001b[0merror_handler\u001b[0m\u001b[0;34m.\u001b[0m\u001b[0mcheck_response\u001b[0m\u001b[0;34m(\u001b[0m\u001b[0mresponse\u001b[0m\u001b[0;34m)\u001b[0m\u001b[0;34m\u001b[0m\u001b[0;34m\u001b[0m\u001b[0m\n\u001b[0m\u001b[1;32m    322\u001b[0m             response['value'] = self._unwrap_value(\n\u001b[1;32m    323\u001b[0m                 response.get('value', None))\n",
      "\u001b[0;32m~/.pyenv/versions/3.7.3/lib/python3.7/site-packages/selenium/webdriver/remote/errorhandler.py\u001b[0m in \u001b[0;36mcheck_response\u001b[0;34m(self, response)\u001b[0m\n\u001b[1;32m    240\u001b[0m                 \u001b[0malert_text\u001b[0m \u001b[0;34m=\u001b[0m \u001b[0mvalue\u001b[0m\u001b[0;34m[\u001b[0m\u001b[0;34m'alert'\u001b[0m\u001b[0;34m]\u001b[0m\u001b[0;34m.\u001b[0m\u001b[0mget\u001b[0m\u001b[0;34m(\u001b[0m\u001b[0;34m'text'\u001b[0m\u001b[0;34m)\u001b[0m\u001b[0;34m\u001b[0m\u001b[0;34m\u001b[0m\u001b[0m\n\u001b[1;32m    241\u001b[0m             \u001b[0;32mraise\u001b[0m \u001b[0mexception_class\u001b[0m\u001b[0;34m(\u001b[0m\u001b[0mmessage\u001b[0m\u001b[0;34m,\u001b[0m \u001b[0mscreen\u001b[0m\u001b[0;34m,\u001b[0m \u001b[0mstacktrace\u001b[0m\u001b[0;34m,\u001b[0m \u001b[0malert_text\u001b[0m\u001b[0;34m)\u001b[0m\u001b[0;34m\u001b[0m\u001b[0;34m\u001b[0m\u001b[0m\n\u001b[0;32m--> 242\u001b[0;31m         \u001b[0;32mraise\u001b[0m \u001b[0mexception_class\u001b[0m\u001b[0;34m(\u001b[0m\u001b[0mmessage\u001b[0m\u001b[0;34m,\u001b[0m \u001b[0mscreen\u001b[0m\u001b[0;34m,\u001b[0m \u001b[0mstacktrace\u001b[0m\u001b[0;34m)\u001b[0m\u001b[0;34m\u001b[0m\u001b[0;34m\u001b[0m\u001b[0m\n\u001b[0m\u001b[1;32m    243\u001b[0m \u001b[0;34m\u001b[0m\u001b[0m\n\u001b[1;32m    244\u001b[0m     \u001b[0;32mdef\u001b[0m \u001b[0m_value_or_default\u001b[0m\u001b[0;34m(\u001b[0m\u001b[0mself\u001b[0m\u001b[0;34m,\u001b[0m \u001b[0mobj\u001b[0m\u001b[0;34m,\u001b[0m \u001b[0mkey\u001b[0m\u001b[0;34m,\u001b[0m \u001b[0mdefault\u001b[0m\u001b[0;34m)\u001b[0m\u001b[0;34m:\u001b[0m\u001b[0;34m\u001b[0m\u001b[0;34m\u001b[0m\u001b[0m\n",
      "\u001b[0;31mNoSuchElementException\u001b[0m: Message: no such element: Unable to locate element: {\"method\":\"name\",\"selector\":\"qoo\"}\n  (Session info: chrome=86.0.4240.111)\n  (Driver info: chromedriver=2.42.591059 (a3d9684d10d61aa0c45f6723b327283be1ebaad8),platform=Mac OS X 10.14.6 x86_64)\n"
     ]
    }
   ],
   "source": [
    "driver.find_element_by_name('qoo')"
   ]
  },
  {
   "cell_type": "code",
   "execution_count": 56,
   "metadata": {},
   "outputs": [
    {
     "data": {
      "text/plain": [
       "<selenium.webdriver.remote.webelement.WebElement (session=\"eae4855e7da03592856f0f4eb1d49b19\", element=\"0.2863608778332023-2\")>"
      ]
     },
     "execution_count": 56,
     "metadata": {},
     "output_type": "execute_result"
    }
   ],
   "source": [
    "driver.find_element_by_css_selector('input')"
   ]
  },
  {
   "cell_type": "code",
   "execution_count": 57,
   "metadata": {},
   "outputs": [
    {
     "data": {
      "text/plain": [
       "<selenium.webdriver.remote.webelement.WebElement (session=\"eae4855e7da03592856f0f4eb1d49b19\", element=\"0.2863608778332023-1\")>"
      ]
     },
     "execution_count": 57,
     "metadata": {},
     "output_type": "execute_result"
    }
   ],
   "source": [
    "driver.find_element_by_css_selector('input[name=\"q\"]')"
   ]
  },
  {
   "cell_type": "code",
   "execution_count": 58,
   "metadata": {},
   "outputs": [],
   "source": [
    "driver.find_element_by_css_selector('input[name=\"q\"]').send_keys('iphone12')"
   ]
  },
  {
   "cell_type": "code",
   "execution_count": 59,
   "metadata": {},
   "outputs": [],
   "source": [
    "q = driver.find_element_by_css_selector('input[name=\"q\"]')"
   ]
  },
  {
   "cell_type": "code",
   "execution_count": 60,
   "metadata": {},
   "outputs": [],
   "source": [
    "q.send_keys('iphone 12')"
   ]
  },
  {
   "cell_type": "code",
   "execution_count": 61,
   "metadata": {},
   "outputs": [],
   "source": [
    "from selenium.webdriver.common.keys import Keys\n",
    "q.send_keys(Keys.RETURN)\n"
   ]
  },
  {
   "cell_type": "code",
   "execution_count": 62,
   "metadata": {},
   "outputs": [],
   "source": [
    "driver.close()"
   ]
  },
  {
   "cell_type": "markdown",
   "metadata": {},
   "source": [
    "### 完整搜尋Google 內容流程"
   ]
  },
  {
   "cell_type": "code",
   "execution_count": 63,
   "metadata": {},
   "outputs": [],
   "source": [
    "from selenium import webdriver\n",
    "driver = webdriver.Chrome('/opt/local/common/chromedriver')\n",
    "# 連結網頁\n",
    "driver.get('https://www.google.com')\n",
    "# 定位元素\n",
    "q = driver.find_element_by_css_selector('input[name=\"q\"]')\n",
    "# 送出資訊\n",
    "q.send_keys('iphone 12')\n",
    "q.send_keys(Keys.RETURN)"
   ]
  },
  {
   "cell_type": "code",
   "execution_count": 64,
   "metadata": {},
   "outputs": [],
   "source": [
    "driver.get('https://www.google.com')\n",
    "q = driver.find_element_by_css_selector('input[name=\"q\"]')"
   ]
  },
  {
   "cell_type": "code",
   "execution_count": 66,
   "metadata": {},
   "outputs": [],
   "source": [
    "q.send_keys('iphone 12')\n",
    "q.submit()"
   ]
  },
  {
   "cell_type": "code",
   "execution_count": 67,
   "metadata": {},
   "outputs": [],
   "source": [
    "a = driver.find_element_by_css_selector('a[data-click]')"
   ]
  },
  {
   "cell_type": "code",
   "execution_count": 69,
   "metadata": {},
   "outputs": [],
   "source": [
    "# 點擊\n",
    "a.click()"
   ]
  },
  {
   "cell_type": "markdown",
   "metadata": {},
   "source": [
    "## 抓取網頁"
   ]
  },
  {
   "cell_type": "code",
   "execution_count": 70,
   "metadata": {},
   "outputs": [],
   "source": [
    "# 連結網頁\n",
    "driver.get('https://www.google.com')\n",
    "# 定位元素\n",
    "q = driver.find_element_by_css_selector('input[name=\"q\"]')\n",
    "# 送出資訊\n",
    "q.send_keys('iphone 12')\n",
    "q.send_keys(Keys.RETURN)"
   ]
  },
  {
   "cell_type": "code",
   "execution_count": 72,
   "metadata": {},
   "outputs": [],
   "source": [
    "#driver.page_source"
   ]
  },
  {
   "cell_type": "code",
   "execution_count": 73,
   "metadata": {},
   "outputs": [],
   "source": [
    "from bs4 import BeautifulSoup\n",
    "soup = BeautifulSoup(driver.page_source, 'lxml')"
   ]
  },
  {
   "cell_type": "code",
   "execution_count": 77,
   "metadata": {},
   "outputs": [
    {
     "name": "stdout",
     "output_type": "stream",
     "text": [
      "台灣大哥大i12 指定專案$0起 - 開賣首3日申辦抽宏佳騰智慧電車\n",
      "全新 iPhone 12 - Apple 官方網站\n",
      "iPhone 12系列 現貨熱賣 - PChome24h購物\n",
      "【9453享分期】哀鳳12 月付945元 - 不需信用卡 憑身分證輕鬆分期\n",
      "iPhone 12 與iPhone 12 mini - Apple (台灣)\n",
      "全新選擇iPhone 12 Pro 機型。 - Apple\n",
      "購買iPhone 12 與iPhone 12 mini - Apple (台灣)\n",
      "iPhone 12頭香姐上週六就來家人助陣輪班| iPhone 12開賣 ...\n",
      "iPhone 12開賣資深果粉4年內3度搶到直營店頭香 - 聯合新聞網\n",
      "熱騰騰的iPhone 12 Pro 到手光速開箱分享- 第1頁- Apple討論區 ...\n",
      "藍色其實很時尚！iPhone 12與12 Pro外觀開箱介紹- SOGI手機王\n",
      "iPhone 12 Pro (256G) - PChome 24h購物\n",
      "傑昇通信-挑戰手機市場最低價 - iPhone超低破盤價\n"
     ]
    }
   ],
   "source": [
    "for rec in soup.select('br+ :nth-child(2) span'):\n",
    "    print(rec.text)"
   ]
  },
  {
   "cell_type": "code",
   "execution_count": 78,
   "metadata": {},
   "outputs": [],
   "source": [
    "driver.close()"
   ]
  },
  {
   "cell_type": "markdown",
   "metadata": {},
   "source": [
    "### 練習題\n",
    "請使用 Selenium 讓瀏覽器自動點開蘋果網頁 https://www.apple.com/tw/"
   ]
  },
  {
   "cell_type": "code",
   "execution_count": 79,
   "metadata": {},
   "outputs": [],
   "source": [
    "from selenium import webdriver\n",
    "driver = webdriver.Chrome('/opt/local/common/chromedriver')\n",
    "driver.get('https://www.apple.com/tw/shop/buy-iphone/iphone-12-pro')"
   ]
  },
  {
   "cell_type": "code",
   "execution_count": 84,
   "metadata": {},
   "outputs": [],
   "source": [
    "item1 = driver.find_element_by_css_selector('#Item1')"
   ]
  },
  {
   "cell_type": "code",
   "execution_count": 85,
   "metadata": {},
   "outputs": [],
   "source": [
    "item1.click()"
   ]
  },
  {
   "cell_type": "code",
   "execution_count": 88,
   "metadata": {},
   "outputs": [],
   "source": [
    "blue = driver.find_element_by_css_selector('#Item2pacificblue_label .ir')"
   ]
  },
  {
   "cell_type": "code",
   "execution_count": 89,
   "metadata": {},
   "outputs": [],
   "source": [
    "blue.click()"
   ]
  },
  {
   "cell_type": "code",
   "execution_count": 90,
   "metadata": {},
   "outputs": [],
   "source": [
    "psize = driver.find_element_by_css_selector('#Item3128gb_label .form-selector-title')"
   ]
  },
  {
   "cell_type": "code",
   "execution_count": 91,
   "metadata": {},
   "outputs": [],
   "source": [
    "psize.click()"
   ]
  },
  {
   "cell_type": "code",
   "execution_count": 94,
   "metadata": {},
   "outputs": [],
   "source": [
    "driver.find_element_by_css_selector('.as-purchaseinfo-section').click()"
   ]
  },
  {
   "cell_type": "code",
   "execution_count": 95,
   "metadata": {},
   "outputs": [],
   "source": [
    "driver.close()"
   ]
  },
  {
   "cell_type": "markdown",
   "metadata": {},
   "source": [
    "### 自動選購流程 "
   ]
  },
  {
   "cell_type": "code",
   "execution_count": 102,
   "metadata": {},
   "outputs": [],
   "source": [
    "from selenium import webdriver\n",
    "import time \n",
    "driver = webdriver.Chrome('/opt/local/common/chromedriver')\n",
    "driver.get('https://www.apple.com/tw/shop/buy-iphone/iphone-12-pro')\n",
    "driver.implicitly_wait(3)\n",
    "time.sleep(1)\n",
    "item1 = driver.find_element_by_css_selector('#Item1')\n",
    "item1.click()\n",
    "time.sleep(1)\n",
    "blue = driver.find_element_by_css_selector('#Item2pacificblue_label .ir')\n",
    "blue.click()\n",
    "time.sleep(1)\n",
    "psize = driver.find_element_by_css_selector('#Item3128gb_label .form-selector-title')\n",
    "psize.click()\n",
    "time.sleep(1)\n",
    "#driver.find_element_by_css_selector('.as-purchaseinfo-section').click()"
   ]
  },
  {
   "cell_type": "code",
   "execution_count": 97,
   "metadata": {},
   "outputs": [],
   "source": [
    "driver.close()"
   ]
  },
  {
   "cell_type": "code",
   "execution_count": 103,
   "metadata": {},
   "outputs": [
    {
     "data": {
      "text/plain": [
       "{'x': 652, 'y': 1056}"
      ]
     },
     "execution_count": 103,
     "metadata": {},
     "output_type": "execute_result"
    }
   ],
   "source": [
    "psize.location"
   ]
  },
  {
   "cell_type": "code",
   "execution_count": 104,
   "metadata": {},
   "outputs": [
    {
     "data": {
      "text/plain": [
       "{'height': 29, 'width': 81}"
      ]
     },
     "execution_count": 104,
     "metadata": {},
     "output_type": "execute_result"
    }
   ],
   "source": [
    "psize.size"
   ]
  },
  {
   "cell_type": "markdown",
   "metadata": {},
   "source": [
    "## 橘色涮涮鍋"
   ]
  },
  {
   "cell_type": "markdown",
   "metadata": {},
   "source": [
    "### 開啟瀏覽器"
   ]
  },
  {
   "cell_type": "code",
   "execution_count": 317,
   "metadata": {},
   "outputs": [],
   "source": [
    "from selenium import webdriver\n",
    "\n",
    "driver = webdriver.Chrome('/opt/local/common/chromedriver')\n",
    "driver.get('https://inline.app/booking/-LL7w1Y0HNb5dvdA1v7N:inline-live-2a466?language=zh-tw')\n",
    "#driver.get('https://inline.app/booking/-LWPd0adgxVuykwvUplY:inline-live-2a466/-LWPdrkAaF7Us4AWR4au?language=zh-tw')"
   ]
  },
  {
   "cell_type": "markdown",
   "metadata": {},
   "source": [
    "### 選擇人數 (下拉式選單)"
   ]
  },
  {
   "cell_type": "code",
   "execution_count": 318,
   "metadata": {},
   "outputs": [],
   "source": [
    "from selenium.webdriver.support.ui import Select\n",
    "s1 = Select(driver.find_element_by_id('adult-picker'))  \n",
    "s1.select_by_value(\"3\") "
   ]
  },
  {
   "cell_type": "markdown",
   "metadata": {},
   "source": [
    "### 點選日期"
   ]
  },
  {
   "cell_type": "code",
   "execution_count": 319,
   "metadata": {},
   "outputs": [],
   "source": [
    "driver.find_element_by_css_selector('#date-picker').click()"
   ]
  },
  {
   "cell_type": "code",
   "execution_count": 325,
   "metadata": {},
   "outputs": [],
   "source": [
    "dt = driver.find_element_by_css_selector('button[data-date=\"2020-11-21\"]')\n",
    "dt.click()"
   ]
  },
  {
   "cell_type": "code",
   "execution_count": 326,
   "metadata": {},
   "outputs": [],
   "source": [
    "from bs4 import BeautifulSoup\n",
    "soup = BeautifulSoup(driver.page_source, 'lxml')"
   ]
  },
  {
   "cell_type": "code",
   "execution_count": 328,
   "metadata": {},
   "outputs": [],
   "source": [
    "for ele in soup.select('#book-now-branch-list button'):\n",
    "    if '11:45' in  ele.get('aria-label'):\n",
    "        #print(ele.get('aria-label'))\n",
    "        findlabel = driver.find_element_by_css_selector('button[aria-label=\"{}\"]'.format(ele.get('aria-label')))\n",
    "        time.sleep(1)\n",
    "        findlabel.click()\n",
    "        break"
   ]
  },
  {
   "cell_type": "code",
   "execution_count": 329,
   "metadata": {},
   "outputs": [],
   "source": [
    "driver.find_element_by_id('name').send_keys('QOO')"
   ]
  },
  {
   "cell_type": "code",
   "execution_count": 330,
   "metadata": {},
   "outputs": [],
   "source": [
    "driver.find_element_by_id('phone').send_keys('0912345678')"
   ]
  },
  {
   "cell_type": "code",
   "execution_count": 331,
   "metadata": {},
   "outputs": [],
   "source": [
    "\n",
    "box = driver.find_element_by_css_selector('label[for=\"privacy-policy\"]') #.click()\n",
    "box.click()"
   ]
  },
  {
   "cell_type": "markdown",
   "metadata": {},
   "source": [
    "## 包裝成定位小幫手"
   ]
  },
  {
   "cell_type": "code",
   "execution_count": 299,
   "metadata": {},
   "outputs": [],
   "source": [
    "\n",
    "from selenium import webdriver\n",
    "from selenium.webdriver.support.ui import Select\n",
    "from bs4 import BeautifulSoup\n",
    "\n",
    "def bookResturant(url):\n",
    "    driver = webdriver.Chrome('/opt/local/common/chromedriver')\n",
    "    driver.get(url)\n",
    "    time.sleep(3)\n",
    "    s1 = Select(driver.find_element_by_id('adult-picker'))  \n",
    "    s1.select_by_value(\"3\") \n",
    "    time.sleep(3)\n",
    "    driver.execute_script(\"window.scrollTo(0, 500);\")\n",
    "    time.sleep(3)\n",
    "    driver.find_element_by_css_selector('#date-picker').click()\n",
    "    \n",
    "    dt = driver.find_element_by_css_selector('button[data-date=\"2020-11-23\"]')\n",
    "    dt.click()\n",
    "    driver.execute_script(\"window.scrollTo(5, 800);\")\n",
    "    soup = BeautifulSoup(driver.page_source, 'lxml')\n",
    "    for ele in soup.select('#book-now-branch-list button'):\n",
    "        if '11:45' in  ele.get('aria-label'):\n",
    "            #print(ele.get('aria-label'))\n",
    "            findlabel = driver.find_element_by_css_selector('button[aria-label=\"{}\"]'.format(ele.get('aria-label')))\n",
    "            time.sleep(1)\n",
    "            findlabel.click()\n",
    "            break\n",
    "    time.sleep(3)\n",
    "    driver.find_element_by_id('name').send_keys('QOO')\n",
    "    driver.find_element_by_id('phone').send_keys('0912345678')    \n",
    "    box = driver.find_element_by_css_selector('label[for=\"privacy-policy\"]') #.click()\n",
    "    box.click()\n",
    "    time.sleep(3)\n",
    "    driver.close()"
   ]
  },
  {
   "cell_type": "code",
   "execution_count": 300,
   "metadata": {},
   "outputs": [
    {
     "ename": "WebDriverException",
     "evalue": "Message: unknown error: Element is not clickable at point (378, 869)\n  (Session info: chrome=86.0.4240.111)\n  (Driver info: chromedriver=2.42.591059 (a3d9684d10d61aa0c45f6723b327283be1ebaad8),platform=Mac OS X 10.14.6 x86_64)\n",
     "output_type": "error",
     "traceback": [
      "\u001b[0;31m---------------------------------------------------------------------------\u001b[0m",
      "\u001b[0;31mWebDriverException\u001b[0m                        Traceback (most recent call last)",
      "\u001b[0;32m<ipython-input-300-84d0da07a906>\u001b[0m in \u001b[0;36m<module>\u001b[0;34m\u001b[0m\n\u001b[0;32m----> 1\u001b[0;31m \u001b[0mbookResturant\u001b[0m\u001b[0;34m(\u001b[0m\u001b[0;34m'https://inline.app/booking/-LWPd0adgxVuykwvUplY:inline-live-2a466/-LWPdrkAaF7Us4AWR4au?language=zh-tw'\u001b[0m\u001b[0;34m)\u001b[0m\u001b[0;34m\u001b[0m\u001b[0;34m\u001b[0m\u001b[0m\n\u001b[0m",
      "\u001b[0;32m<ipython-input-299-7e4b59bc58b4>\u001b[0m in \u001b[0;36mbookResturant\u001b[0;34m(url)\u001b[0m\n\u001b[1;32m     12\u001b[0m     \u001b[0mdriver\u001b[0m\u001b[0;34m.\u001b[0m\u001b[0mexecute_script\u001b[0m\u001b[0;34m(\u001b[0m\u001b[0;34m\"window.scrollTo(0, 500);\"\u001b[0m\u001b[0;34m)\u001b[0m\u001b[0;34m\u001b[0m\u001b[0;34m\u001b[0m\u001b[0m\n\u001b[1;32m     13\u001b[0m     \u001b[0mtime\u001b[0m\u001b[0;34m.\u001b[0m\u001b[0msleep\u001b[0m\u001b[0;34m(\u001b[0m\u001b[0;36m3\u001b[0m\u001b[0;34m)\u001b[0m\u001b[0;34m\u001b[0m\u001b[0;34m\u001b[0m\u001b[0m\n\u001b[0;32m---> 14\u001b[0;31m     \u001b[0mdriver\u001b[0m\u001b[0;34m.\u001b[0m\u001b[0mfind_element_by_css_selector\u001b[0m\u001b[0;34m(\u001b[0m\u001b[0;34m'#date-picker'\u001b[0m\u001b[0;34m)\u001b[0m\u001b[0;34m.\u001b[0m\u001b[0mclick\u001b[0m\u001b[0;34m(\u001b[0m\u001b[0;34m)\u001b[0m\u001b[0;34m\u001b[0m\u001b[0;34m\u001b[0m\u001b[0m\n\u001b[0m\u001b[1;32m     15\u001b[0m \u001b[0;34m\u001b[0m\u001b[0m\n\u001b[1;32m     16\u001b[0m     \u001b[0mdt\u001b[0m \u001b[0;34m=\u001b[0m \u001b[0mdriver\u001b[0m\u001b[0;34m.\u001b[0m\u001b[0mfind_element_by_css_selector\u001b[0m\u001b[0;34m(\u001b[0m\u001b[0;34m'button[data-date=\"2020-11-23\"]'\u001b[0m\u001b[0;34m)\u001b[0m\u001b[0;34m\u001b[0m\u001b[0;34m\u001b[0m\u001b[0m\n",
      "\u001b[0;32m~/.pyenv/versions/3.7.3/lib/python3.7/site-packages/selenium/webdriver/remote/webelement.py\u001b[0m in \u001b[0;36mclick\u001b[0;34m(self)\u001b[0m\n\u001b[1;32m     78\u001b[0m     \u001b[0;32mdef\u001b[0m \u001b[0mclick\u001b[0m\u001b[0;34m(\u001b[0m\u001b[0mself\u001b[0m\u001b[0;34m)\u001b[0m\u001b[0;34m:\u001b[0m\u001b[0;34m\u001b[0m\u001b[0;34m\u001b[0m\u001b[0m\n\u001b[1;32m     79\u001b[0m         \u001b[0;34m\"\"\"Clicks the element.\"\"\"\u001b[0m\u001b[0;34m\u001b[0m\u001b[0;34m\u001b[0m\u001b[0m\n\u001b[0;32m---> 80\u001b[0;31m         \u001b[0mself\u001b[0m\u001b[0;34m.\u001b[0m\u001b[0m_execute\u001b[0m\u001b[0;34m(\u001b[0m\u001b[0mCommand\u001b[0m\u001b[0;34m.\u001b[0m\u001b[0mCLICK_ELEMENT\u001b[0m\u001b[0;34m)\u001b[0m\u001b[0;34m\u001b[0m\u001b[0;34m\u001b[0m\u001b[0m\n\u001b[0m\u001b[1;32m     81\u001b[0m \u001b[0;34m\u001b[0m\u001b[0m\n\u001b[1;32m     82\u001b[0m     \u001b[0;32mdef\u001b[0m \u001b[0msubmit\u001b[0m\u001b[0;34m(\u001b[0m\u001b[0mself\u001b[0m\u001b[0;34m)\u001b[0m\u001b[0;34m:\u001b[0m\u001b[0;34m\u001b[0m\u001b[0;34m\u001b[0m\u001b[0m\n",
      "\u001b[0;32m~/.pyenv/versions/3.7.3/lib/python3.7/site-packages/selenium/webdriver/remote/webelement.py\u001b[0m in \u001b[0;36m_execute\u001b[0;34m(self, command, params)\u001b[0m\n\u001b[1;32m    631\u001b[0m             \u001b[0mparams\u001b[0m \u001b[0;34m=\u001b[0m \u001b[0;34m{\u001b[0m\u001b[0;34m}\u001b[0m\u001b[0;34m\u001b[0m\u001b[0;34m\u001b[0m\u001b[0m\n\u001b[1;32m    632\u001b[0m         \u001b[0mparams\u001b[0m\u001b[0;34m[\u001b[0m\u001b[0;34m'id'\u001b[0m\u001b[0;34m]\u001b[0m \u001b[0;34m=\u001b[0m \u001b[0mself\u001b[0m\u001b[0;34m.\u001b[0m\u001b[0m_id\u001b[0m\u001b[0;34m\u001b[0m\u001b[0;34m\u001b[0m\u001b[0m\n\u001b[0;32m--> 633\u001b[0;31m         \u001b[0;32mreturn\u001b[0m \u001b[0mself\u001b[0m\u001b[0;34m.\u001b[0m\u001b[0m_parent\u001b[0m\u001b[0;34m.\u001b[0m\u001b[0mexecute\u001b[0m\u001b[0;34m(\u001b[0m\u001b[0mcommand\u001b[0m\u001b[0;34m,\u001b[0m \u001b[0mparams\u001b[0m\u001b[0;34m)\u001b[0m\u001b[0;34m\u001b[0m\u001b[0;34m\u001b[0m\u001b[0m\n\u001b[0m\u001b[1;32m    634\u001b[0m \u001b[0;34m\u001b[0m\u001b[0m\n\u001b[1;32m    635\u001b[0m     \u001b[0;32mdef\u001b[0m \u001b[0mfind_element\u001b[0m\u001b[0;34m(\u001b[0m\u001b[0mself\u001b[0m\u001b[0;34m,\u001b[0m \u001b[0mby\u001b[0m\u001b[0;34m=\u001b[0m\u001b[0mBy\u001b[0m\u001b[0;34m.\u001b[0m\u001b[0mID\u001b[0m\u001b[0;34m,\u001b[0m \u001b[0mvalue\u001b[0m\u001b[0;34m=\u001b[0m\u001b[0;32mNone\u001b[0m\u001b[0;34m)\u001b[0m\u001b[0;34m:\u001b[0m\u001b[0;34m\u001b[0m\u001b[0;34m\u001b[0m\u001b[0m\n",
      "\u001b[0;32m~/.pyenv/versions/3.7.3/lib/python3.7/site-packages/selenium/webdriver/remote/webdriver.py\u001b[0m in \u001b[0;36mexecute\u001b[0;34m(self, driver_command, params)\u001b[0m\n\u001b[1;32m    319\u001b[0m         \u001b[0mresponse\u001b[0m \u001b[0;34m=\u001b[0m \u001b[0mself\u001b[0m\u001b[0;34m.\u001b[0m\u001b[0mcommand_executor\u001b[0m\u001b[0;34m.\u001b[0m\u001b[0mexecute\u001b[0m\u001b[0;34m(\u001b[0m\u001b[0mdriver_command\u001b[0m\u001b[0;34m,\u001b[0m \u001b[0mparams\u001b[0m\u001b[0;34m)\u001b[0m\u001b[0;34m\u001b[0m\u001b[0;34m\u001b[0m\u001b[0m\n\u001b[1;32m    320\u001b[0m         \u001b[0;32mif\u001b[0m \u001b[0mresponse\u001b[0m\u001b[0;34m:\u001b[0m\u001b[0;34m\u001b[0m\u001b[0;34m\u001b[0m\u001b[0m\n\u001b[0;32m--> 321\u001b[0;31m             \u001b[0mself\u001b[0m\u001b[0;34m.\u001b[0m\u001b[0merror_handler\u001b[0m\u001b[0;34m.\u001b[0m\u001b[0mcheck_response\u001b[0m\u001b[0;34m(\u001b[0m\u001b[0mresponse\u001b[0m\u001b[0;34m)\u001b[0m\u001b[0;34m\u001b[0m\u001b[0;34m\u001b[0m\u001b[0m\n\u001b[0m\u001b[1;32m    322\u001b[0m             response['value'] = self._unwrap_value(\n\u001b[1;32m    323\u001b[0m                 response.get('value', None))\n",
      "\u001b[0;32m~/.pyenv/versions/3.7.3/lib/python3.7/site-packages/selenium/webdriver/remote/errorhandler.py\u001b[0m in \u001b[0;36mcheck_response\u001b[0;34m(self, response)\u001b[0m\n\u001b[1;32m    240\u001b[0m                 \u001b[0malert_text\u001b[0m \u001b[0;34m=\u001b[0m \u001b[0mvalue\u001b[0m\u001b[0;34m[\u001b[0m\u001b[0;34m'alert'\u001b[0m\u001b[0;34m]\u001b[0m\u001b[0;34m.\u001b[0m\u001b[0mget\u001b[0m\u001b[0;34m(\u001b[0m\u001b[0;34m'text'\u001b[0m\u001b[0;34m)\u001b[0m\u001b[0;34m\u001b[0m\u001b[0;34m\u001b[0m\u001b[0m\n\u001b[1;32m    241\u001b[0m             \u001b[0;32mraise\u001b[0m \u001b[0mexception_class\u001b[0m\u001b[0;34m(\u001b[0m\u001b[0mmessage\u001b[0m\u001b[0;34m,\u001b[0m \u001b[0mscreen\u001b[0m\u001b[0;34m,\u001b[0m \u001b[0mstacktrace\u001b[0m\u001b[0;34m,\u001b[0m \u001b[0malert_text\u001b[0m\u001b[0;34m)\u001b[0m\u001b[0;34m\u001b[0m\u001b[0;34m\u001b[0m\u001b[0m\n\u001b[0;32m--> 242\u001b[0;31m         \u001b[0;32mraise\u001b[0m \u001b[0mexception_class\u001b[0m\u001b[0;34m(\u001b[0m\u001b[0mmessage\u001b[0m\u001b[0;34m,\u001b[0m \u001b[0mscreen\u001b[0m\u001b[0;34m,\u001b[0m \u001b[0mstacktrace\u001b[0m\u001b[0;34m)\u001b[0m\u001b[0;34m\u001b[0m\u001b[0;34m\u001b[0m\u001b[0m\n\u001b[0m\u001b[1;32m    243\u001b[0m \u001b[0;34m\u001b[0m\u001b[0m\n\u001b[1;32m    244\u001b[0m     \u001b[0;32mdef\u001b[0m \u001b[0m_value_or_default\u001b[0m\u001b[0;34m(\u001b[0m\u001b[0mself\u001b[0m\u001b[0;34m,\u001b[0m \u001b[0mobj\u001b[0m\u001b[0;34m,\u001b[0m \u001b[0mkey\u001b[0m\u001b[0;34m,\u001b[0m \u001b[0mdefault\u001b[0m\u001b[0;34m)\u001b[0m\u001b[0;34m:\u001b[0m\u001b[0;34m\u001b[0m\u001b[0;34m\u001b[0m\u001b[0m\n",
      "\u001b[0;31mWebDriverException\u001b[0m: Message: unknown error: Element is not clickable at point (378, 869)\n  (Session info: chrome=86.0.4240.111)\n  (Driver info: chromedriver=2.42.591059 (a3d9684d10d61aa0c45f6723b327283be1ebaad8),platform=Mac OS X 10.14.6 x86_64)\n"
     ]
    }
   ],
   "source": [
    "bookResturant('https://inline.app/booking/-LWPd0adgxVuykwvUplY:inline-live-2a466/-LWPdrkAaF7Us4AWR4au?language=zh-tw')"
   ]
  },
  {
   "cell_type": "code",
   "execution_count": null,
   "metadata": {},
   "outputs": [],
   "source": []
  },
  {
   "cell_type": "code",
   "execution_count": 213,
   "metadata": {},
   "outputs": [],
   "source": [
    "from selenium import webdriver\n",
    "import time\n",
    "driver = webdriver.Chrome('/opt/local/common/chromedriver')\n",
    "driver.implicitly_wait(3)\n",
    "driver.get('https://inline.app/booking/-LL7w1Y0HNb5dvdA1v7N:inline-live-2a466?language=zh-tw')\n",
    "time.sleep(5)\n",
    "driver.execute_script(\"window.scrollTo(0, 500);\")\n",
    "time.sleep(1)\n"
   ]
  },
  {
   "cell_type": "code",
   "execution_count": 214,
   "metadata": {},
   "outputs": [],
   "source": [
    "driver.get('https://inline.app/booking/-LL7w1Y0HNb5dvdA1v7N:inline-live-2a466?language=zh-tw')\n",
    "time.sleep(5)\n",
    "driver.execute_script(\"window.scrollTo(0, 500);\")\n",
    "time.sleep(1)\n"
   ]
  },
  {
   "cell_type": "code",
   "execution_count": 222,
   "metadata": {},
   "outputs": [
    {
     "ename": "InvalidSelectorException",
     "evalue": "Message: invalid selector: An invalid or illegal selector was specified\n  (Session info: chrome=86.0.4240.111)\n  (Driver info: chromedriver=2.42.591059 (a3d9684d10d61aa0c45f6723b327283be1ebaad8),platform=Mac OS X 10.14.6 x86_64)\n",
     "output_type": "error",
     "traceback": [
      "\u001b[0;31m---------------------------------------------------------------------------\u001b[0m",
      "\u001b[0;31mInvalidSelectorException\u001b[0m                  Traceback (most recent call last)",
      "\u001b[0;32m<ipython-input-222-f432b9d8d93a>\u001b[0m in \u001b[0;36m<module>\u001b[0;34m\u001b[0m\n\u001b[1;32m      3\u001b[0m \u001b[0mtime\u001b[0m\u001b[0;34m.\u001b[0m\u001b[0msleep\u001b[0m\u001b[0;34m(\u001b[0m\u001b[0;36m1\u001b[0m\u001b[0;34m)\u001b[0m\u001b[0;34m\u001b[0m\u001b[0;34m\u001b[0m\u001b[0m\n\u001b[1;32m      4\u001b[0m \u001b[0;34m\u001b[0m\u001b[0m\n\u001b[0;32m----> 5\u001b[0;31m \u001b[0madult\u001b[0m \u001b[0;34m=\u001b[0m \u001b[0mdriver\u001b[0m\u001b[0;34m.\u001b[0m\u001b[0mfind_element_by_css_selector\u001b[0m\u001b[0;34m(\u001b[0m\u001b[0;34m'#adult-picker > option[\"value=3\"]'\u001b[0m\u001b[0;34m)\u001b[0m\u001b[0;34m\u001b[0m\u001b[0;34m\u001b[0m\u001b[0m\n\u001b[0m\u001b[1;32m      6\u001b[0m \u001b[0madult\u001b[0m\u001b[0;34m.\u001b[0m\u001b[0mclick\u001b[0m\u001b[0;34m(\u001b[0m\u001b[0;34m)\u001b[0m\u001b[0;34m\u001b[0m\u001b[0;34m\u001b[0m\u001b[0m\n",
      "\u001b[0;32m~/.pyenv/versions/3.7.3/lib/python3.7/site-packages/selenium/webdriver/remote/webdriver.py\u001b[0m in \u001b[0;36mfind_element_by_css_selector\u001b[0;34m(self, css_selector)\u001b[0m\n\u001b[1;32m    596\u001b[0m             \u001b[0melement\u001b[0m \u001b[0;34m=\u001b[0m \u001b[0mdriver\u001b[0m\u001b[0;34m.\u001b[0m\u001b[0mfind_element_by_css_selector\u001b[0m\u001b[0;34m(\u001b[0m\u001b[0;34m'#foo'\u001b[0m\u001b[0;34m)\u001b[0m\u001b[0;34m\u001b[0m\u001b[0;34m\u001b[0m\u001b[0m\n\u001b[1;32m    597\u001b[0m         \"\"\"\n\u001b[0;32m--> 598\u001b[0;31m         \u001b[0;32mreturn\u001b[0m \u001b[0mself\u001b[0m\u001b[0;34m.\u001b[0m\u001b[0mfind_element\u001b[0m\u001b[0;34m(\u001b[0m\u001b[0mby\u001b[0m\u001b[0;34m=\u001b[0m\u001b[0mBy\u001b[0m\u001b[0;34m.\u001b[0m\u001b[0mCSS_SELECTOR\u001b[0m\u001b[0;34m,\u001b[0m \u001b[0mvalue\u001b[0m\u001b[0;34m=\u001b[0m\u001b[0mcss_selector\u001b[0m\u001b[0;34m)\u001b[0m\u001b[0;34m\u001b[0m\u001b[0;34m\u001b[0m\u001b[0m\n\u001b[0m\u001b[1;32m    599\u001b[0m \u001b[0;34m\u001b[0m\u001b[0m\n\u001b[1;32m    600\u001b[0m     \u001b[0;32mdef\u001b[0m \u001b[0mfind_elements_by_css_selector\u001b[0m\u001b[0;34m(\u001b[0m\u001b[0mself\u001b[0m\u001b[0;34m,\u001b[0m \u001b[0mcss_selector\u001b[0m\u001b[0;34m)\u001b[0m\u001b[0;34m:\u001b[0m\u001b[0;34m\u001b[0m\u001b[0;34m\u001b[0m\u001b[0m\n",
      "\u001b[0;32m~/.pyenv/versions/3.7.3/lib/python3.7/site-packages/selenium/webdriver/remote/webdriver.py\u001b[0m in \u001b[0;36mfind_element\u001b[0;34m(self, by, value)\u001b[0m\n\u001b[1;32m    976\u001b[0m         return self.execute(Command.FIND_ELEMENT, {\n\u001b[1;32m    977\u001b[0m             \u001b[0;34m'using'\u001b[0m\u001b[0;34m:\u001b[0m \u001b[0mby\u001b[0m\u001b[0;34m,\u001b[0m\u001b[0;34m\u001b[0m\u001b[0;34m\u001b[0m\u001b[0m\n\u001b[0;32m--> 978\u001b[0;31m             'value': value})['value']\n\u001b[0m\u001b[1;32m    979\u001b[0m \u001b[0;34m\u001b[0m\u001b[0m\n\u001b[1;32m    980\u001b[0m     \u001b[0;32mdef\u001b[0m \u001b[0mfind_elements\u001b[0m\u001b[0;34m(\u001b[0m\u001b[0mself\u001b[0m\u001b[0;34m,\u001b[0m \u001b[0mby\u001b[0m\u001b[0;34m=\u001b[0m\u001b[0mBy\u001b[0m\u001b[0;34m.\u001b[0m\u001b[0mID\u001b[0m\u001b[0;34m,\u001b[0m \u001b[0mvalue\u001b[0m\u001b[0;34m=\u001b[0m\u001b[0;32mNone\u001b[0m\u001b[0;34m)\u001b[0m\u001b[0;34m:\u001b[0m\u001b[0;34m\u001b[0m\u001b[0;34m\u001b[0m\u001b[0m\n",
      "\u001b[0;32m~/.pyenv/versions/3.7.3/lib/python3.7/site-packages/selenium/webdriver/remote/webdriver.py\u001b[0m in \u001b[0;36mexecute\u001b[0;34m(self, driver_command, params)\u001b[0m\n\u001b[1;32m    319\u001b[0m         \u001b[0mresponse\u001b[0m \u001b[0;34m=\u001b[0m \u001b[0mself\u001b[0m\u001b[0;34m.\u001b[0m\u001b[0mcommand_executor\u001b[0m\u001b[0;34m.\u001b[0m\u001b[0mexecute\u001b[0m\u001b[0;34m(\u001b[0m\u001b[0mdriver_command\u001b[0m\u001b[0;34m,\u001b[0m \u001b[0mparams\u001b[0m\u001b[0;34m)\u001b[0m\u001b[0;34m\u001b[0m\u001b[0;34m\u001b[0m\u001b[0m\n\u001b[1;32m    320\u001b[0m         \u001b[0;32mif\u001b[0m \u001b[0mresponse\u001b[0m\u001b[0;34m:\u001b[0m\u001b[0;34m\u001b[0m\u001b[0;34m\u001b[0m\u001b[0m\n\u001b[0;32m--> 321\u001b[0;31m             \u001b[0mself\u001b[0m\u001b[0;34m.\u001b[0m\u001b[0merror_handler\u001b[0m\u001b[0;34m.\u001b[0m\u001b[0mcheck_response\u001b[0m\u001b[0;34m(\u001b[0m\u001b[0mresponse\u001b[0m\u001b[0;34m)\u001b[0m\u001b[0;34m\u001b[0m\u001b[0;34m\u001b[0m\u001b[0m\n\u001b[0m\u001b[1;32m    322\u001b[0m             response['value'] = self._unwrap_value(\n\u001b[1;32m    323\u001b[0m                 response.get('value', None))\n",
      "\u001b[0;32m~/.pyenv/versions/3.7.3/lib/python3.7/site-packages/selenium/webdriver/remote/errorhandler.py\u001b[0m in \u001b[0;36mcheck_response\u001b[0;34m(self, response)\u001b[0m\n\u001b[1;32m    240\u001b[0m                 \u001b[0malert_text\u001b[0m \u001b[0;34m=\u001b[0m \u001b[0mvalue\u001b[0m\u001b[0;34m[\u001b[0m\u001b[0;34m'alert'\u001b[0m\u001b[0;34m]\u001b[0m\u001b[0;34m.\u001b[0m\u001b[0mget\u001b[0m\u001b[0;34m(\u001b[0m\u001b[0;34m'text'\u001b[0m\u001b[0;34m)\u001b[0m\u001b[0;34m\u001b[0m\u001b[0;34m\u001b[0m\u001b[0m\n\u001b[1;32m    241\u001b[0m             \u001b[0;32mraise\u001b[0m \u001b[0mexception_class\u001b[0m\u001b[0;34m(\u001b[0m\u001b[0mmessage\u001b[0m\u001b[0;34m,\u001b[0m \u001b[0mscreen\u001b[0m\u001b[0;34m,\u001b[0m \u001b[0mstacktrace\u001b[0m\u001b[0;34m,\u001b[0m \u001b[0malert_text\u001b[0m\u001b[0;34m)\u001b[0m\u001b[0;34m\u001b[0m\u001b[0;34m\u001b[0m\u001b[0m\n\u001b[0;32m--> 242\u001b[0;31m         \u001b[0;32mraise\u001b[0m \u001b[0mexception_class\u001b[0m\u001b[0;34m(\u001b[0m\u001b[0mmessage\u001b[0m\u001b[0;34m,\u001b[0m \u001b[0mscreen\u001b[0m\u001b[0;34m,\u001b[0m \u001b[0mstacktrace\u001b[0m\u001b[0;34m)\u001b[0m\u001b[0;34m\u001b[0m\u001b[0;34m\u001b[0m\u001b[0m\n\u001b[0m\u001b[1;32m    243\u001b[0m \u001b[0;34m\u001b[0m\u001b[0m\n\u001b[1;32m    244\u001b[0m     \u001b[0;32mdef\u001b[0m \u001b[0m_value_or_default\u001b[0m\u001b[0;34m(\u001b[0m\u001b[0mself\u001b[0m\u001b[0;34m,\u001b[0m \u001b[0mobj\u001b[0m\u001b[0;34m,\u001b[0m \u001b[0mkey\u001b[0m\u001b[0;34m,\u001b[0m \u001b[0mdefault\u001b[0m\u001b[0;34m)\u001b[0m\u001b[0;34m:\u001b[0m\u001b[0;34m\u001b[0m\u001b[0;34m\u001b[0m\u001b[0m\n",
      "\u001b[0;31mInvalidSelectorException\u001b[0m: Message: invalid selector: An invalid or illegal selector was specified\n  (Session info: chrome=86.0.4240.111)\n  (Driver info: chromedriver=2.42.591059 (a3d9684d10d61aa0c45f6723b327283be1ebaad8),platform=Mac OS X 10.14.6 x86_64)\n"
     ]
    }
   ],
   "source": [
    "dp = driver.find_element_by_css_selector('#adult-picker')\n",
    "dp.click()\n",
    "time.sleep(1)\n",
    "\n",
    "adult = driver.find_element_by_css_selector('#adult-picker > option[\"value=3\"]')\n",
    "adult.click()"
   ]
  },
  {
   "cell_type": "code",
   "execution_count": 218,
   "metadata": {},
   "outputs": [
    {
     "ename": "InvalidSelectorException",
     "evalue": "Message: invalid selector: An invalid or illegal selector was specified\n  (Session info: chrome=86.0.4240.111)\n  (Driver info: chromedriver=2.42.591059 (a3d9684d10d61aa0c45f6723b327283be1ebaad8),platform=Mac OS X 10.14.6 x86_64)\n",
     "output_type": "error",
     "traceback": [
      "\u001b[0;31m---------------------------------------------------------------------------\u001b[0m",
      "\u001b[0;31mInvalidSelectorException\u001b[0m                  Traceback (most recent call last)",
      "\u001b[0;32m<ipython-input-218-5d36bf6f477b>\u001b[0m in \u001b[0;36m<module>\u001b[0;34m\u001b[0m\n\u001b[0;32m----> 1\u001b[0;31m \u001b[0madult\u001b[0m \u001b[0;34m=\u001b[0m \u001b[0mdriver\u001b[0m\u001b[0;34m.\u001b[0m\u001b[0mfind_element_by_css_selector\u001b[0m\u001b[0;34m(\u001b[0m\u001b[0;34m'option[\"value=3\"]'\u001b[0m\u001b[0;34m)\u001b[0m\u001b[0;34m\u001b[0m\u001b[0;34m\u001b[0m\u001b[0m\n\u001b[0m\u001b[1;32m      2\u001b[0m \u001b[0madult\u001b[0m\u001b[0;34m.\u001b[0m\u001b[0mclick\u001b[0m\u001b[0;34m(\u001b[0m\u001b[0;34m)\u001b[0m\u001b[0;34m\u001b[0m\u001b[0;34m\u001b[0m\u001b[0m\n",
      "\u001b[0;32m~/.pyenv/versions/3.7.3/lib/python3.7/site-packages/selenium/webdriver/remote/webdriver.py\u001b[0m in \u001b[0;36mfind_element_by_css_selector\u001b[0;34m(self, css_selector)\u001b[0m\n\u001b[1;32m    596\u001b[0m             \u001b[0melement\u001b[0m \u001b[0;34m=\u001b[0m \u001b[0mdriver\u001b[0m\u001b[0;34m.\u001b[0m\u001b[0mfind_element_by_css_selector\u001b[0m\u001b[0;34m(\u001b[0m\u001b[0;34m'#foo'\u001b[0m\u001b[0;34m)\u001b[0m\u001b[0;34m\u001b[0m\u001b[0;34m\u001b[0m\u001b[0m\n\u001b[1;32m    597\u001b[0m         \"\"\"\n\u001b[0;32m--> 598\u001b[0;31m         \u001b[0;32mreturn\u001b[0m \u001b[0mself\u001b[0m\u001b[0;34m.\u001b[0m\u001b[0mfind_element\u001b[0m\u001b[0;34m(\u001b[0m\u001b[0mby\u001b[0m\u001b[0;34m=\u001b[0m\u001b[0mBy\u001b[0m\u001b[0;34m.\u001b[0m\u001b[0mCSS_SELECTOR\u001b[0m\u001b[0;34m,\u001b[0m \u001b[0mvalue\u001b[0m\u001b[0;34m=\u001b[0m\u001b[0mcss_selector\u001b[0m\u001b[0;34m)\u001b[0m\u001b[0;34m\u001b[0m\u001b[0;34m\u001b[0m\u001b[0m\n\u001b[0m\u001b[1;32m    599\u001b[0m \u001b[0;34m\u001b[0m\u001b[0m\n\u001b[1;32m    600\u001b[0m     \u001b[0;32mdef\u001b[0m \u001b[0mfind_elements_by_css_selector\u001b[0m\u001b[0;34m(\u001b[0m\u001b[0mself\u001b[0m\u001b[0;34m,\u001b[0m \u001b[0mcss_selector\u001b[0m\u001b[0;34m)\u001b[0m\u001b[0;34m:\u001b[0m\u001b[0;34m\u001b[0m\u001b[0;34m\u001b[0m\u001b[0m\n",
      "\u001b[0;32m~/.pyenv/versions/3.7.3/lib/python3.7/site-packages/selenium/webdriver/remote/webdriver.py\u001b[0m in \u001b[0;36mfind_element\u001b[0;34m(self, by, value)\u001b[0m\n\u001b[1;32m    976\u001b[0m         return self.execute(Command.FIND_ELEMENT, {\n\u001b[1;32m    977\u001b[0m             \u001b[0;34m'using'\u001b[0m\u001b[0;34m:\u001b[0m \u001b[0mby\u001b[0m\u001b[0;34m,\u001b[0m\u001b[0;34m\u001b[0m\u001b[0;34m\u001b[0m\u001b[0m\n\u001b[0;32m--> 978\u001b[0;31m             'value': value})['value']\n\u001b[0m\u001b[1;32m    979\u001b[0m \u001b[0;34m\u001b[0m\u001b[0m\n\u001b[1;32m    980\u001b[0m     \u001b[0;32mdef\u001b[0m \u001b[0mfind_elements\u001b[0m\u001b[0;34m(\u001b[0m\u001b[0mself\u001b[0m\u001b[0;34m,\u001b[0m \u001b[0mby\u001b[0m\u001b[0;34m=\u001b[0m\u001b[0mBy\u001b[0m\u001b[0;34m.\u001b[0m\u001b[0mID\u001b[0m\u001b[0;34m,\u001b[0m \u001b[0mvalue\u001b[0m\u001b[0;34m=\u001b[0m\u001b[0;32mNone\u001b[0m\u001b[0;34m)\u001b[0m\u001b[0;34m:\u001b[0m\u001b[0;34m\u001b[0m\u001b[0;34m\u001b[0m\u001b[0m\n",
      "\u001b[0;32m~/.pyenv/versions/3.7.3/lib/python3.7/site-packages/selenium/webdriver/remote/webdriver.py\u001b[0m in \u001b[0;36mexecute\u001b[0;34m(self, driver_command, params)\u001b[0m\n\u001b[1;32m    319\u001b[0m         \u001b[0mresponse\u001b[0m \u001b[0;34m=\u001b[0m \u001b[0mself\u001b[0m\u001b[0;34m.\u001b[0m\u001b[0mcommand_executor\u001b[0m\u001b[0;34m.\u001b[0m\u001b[0mexecute\u001b[0m\u001b[0;34m(\u001b[0m\u001b[0mdriver_command\u001b[0m\u001b[0;34m,\u001b[0m \u001b[0mparams\u001b[0m\u001b[0;34m)\u001b[0m\u001b[0;34m\u001b[0m\u001b[0;34m\u001b[0m\u001b[0m\n\u001b[1;32m    320\u001b[0m         \u001b[0;32mif\u001b[0m \u001b[0mresponse\u001b[0m\u001b[0;34m:\u001b[0m\u001b[0;34m\u001b[0m\u001b[0;34m\u001b[0m\u001b[0m\n\u001b[0;32m--> 321\u001b[0;31m             \u001b[0mself\u001b[0m\u001b[0;34m.\u001b[0m\u001b[0merror_handler\u001b[0m\u001b[0;34m.\u001b[0m\u001b[0mcheck_response\u001b[0m\u001b[0;34m(\u001b[0m\u001b[0mresponse\u001b[0m\u001b[0;34m)\u001b[0m\u001b[0;34m\u001b[0m\u001b[0;34m\u001b[0m\u001b[0m\n\u001b[0m\u001b[1;32m    322\u001b[0m             response['value'] = self._unwrap_value(\n\u001b[1;32m    323\u001b[0m                 response.get('value', None))\n",
      "\u001b[0;32m~/.pyenv/versions/3.7.3/lib/python3.7/site-packages/selenium/webdriver/remote/errorhandler.py\u001b[0m in \u001b[0;36mcheck_response\u001b[0;34m(self, response)\u001b[0m\n\u001b[1;32m    240\u001b[0m                 \u001b[0malert_text\u001b[0m \u001b[0;34m=\u001b[0m \u001b[0mvalue\u001b[0m\u001b[0;34m[\u001b[0m\u001b[0;34m'alert'\u001b[0m\u001b[0;34m]\u001b[0m\u001b[0;34m.\u001b[0m\u001b[0mget\u001b[0m\u001b[0;34m(\u001b[0m\u001b[0;34m'text'\u001b[0m\u001b[0;34m)\u001b[0m\u001b[0;34m\u001b[0m\u001b[0;34m\u001b[0m\u001b[0m\n\u001b[1;32m    241\u001b[0m             \u001b[0;32mraise\u001b[0m \u001b[0mexception_class\u001b[0m\u001b[0;34m(\u001b[0m\u001b[0mmessage\u001b[0m\u001b[0;34m,\u001b[0m \u001b[0mscreen\u001b[0m\u001b[0;34m,\u001b[0m \u001b[0mstacktrace\u001b[0m\u001b[0;34m,\u001b[0m \u001b[0malert_text\u001b[0m\u001b[0;34m)\u001b[0m\u001b[0;34m\u001b[0m\u001b[0;34m\u001b[0m\u001b[0m\n\u001b[0;32m--> 242\u001b[0;31m         \u001b[0;32mraise\u001b[0m \u001b[0mexception_class\u001b[0m\u001b[0;34m(\u001b[0m\u001b[0mmessage\u001b[0m\u001b[0;34m,\u001b[0m \u001b[0mscreen\u001b[0m\u001b[0;34m,\u001b[0m \u001b[0mstacktrace\u001b[0m\u001b[0;34m)\u001b[0m\u001b[0;34m\u001b[0m\u001b[0;34m\u001b[0m\u001b[0m\n\u001b[0m\u001b[1;32m    243\u001b[0m \u001b[0;34m\u001b[0m\u001b[0m\n\u001b[1;32m    244\u001b[0m     \u001b[0;32mdef\u001b[0m \u001b[0m_value_or_default\u001b[0m\u001b[0;34m(\u001b[0m\u001b[0mself\u001b[0m\u001b[0;34m,\u001b[0m \u001b[0mobj\u001b[0m\u001b[0;34m,\u001b[0m \u001b[0mkey\u001b[0m\u001b[0;34m,\u001b[0m \u001b[0mdefault\u001b[0m\u001b[0;34m)\u001b[0m\u001b[0;34m:\u001b[0m\u001b[0;34m\u001b[0m\u001b[0;34m\u001b[0m\u001b[0m\n",
      "\u001b[0;31mInvalidSelectorException\u001b[0m: Message: invalid selector: An invalid or illegal selector was specified\n  (Session info: chrome=86.0.4240.111)\n  (Driver info: chromedriver=2.42.591059 (a3d9684d10d61aa0c45f6723b327283be1ebaad8),platform=Mac OS X 10.14.6 x86_64)\n"
     ]
    }
   ],
   "source": [
    "\n",
    "adult = driver.find_element_by_css_selector('option[\"value=3\"]')\n",
    "adult.click()"
   ]
  },
  {
   "cell_type": "markdown",
   "metadata": {},
   "source": [
    "## 自由時報爬蟲"
   ]
  },
  {
   "cell_type": "code",
   "execution_count": 177,
   "metadata": {},
   "outputs": [],
   "source": [
    "from selenium import webdriver\n",
    "driver = webdriver.Chrome('/opt/local/common/chromedriver')\n",
    "driver.get('https://news.ltn.com.tw/list/breakingnews')"
   ]
  },
  {
   "cell_type": "code",
   "execution_count": 178,
   "metadata": {},
   "outputs": [],
   "source": [
    "from bs4 import BeautifulSoup\n",
    "soup = BeautifulSoup(driver.page_source, 'lxml')"
   ]
  },
  {
   "cell_type": "code",
   "execution_count": 180,
   "metadata": {},
   "outputs": [
    {
     "name": "stdout",
     "output_type": "stream",
     "text": [
      "強國養魚法！抓來近1年不餵養 鯰魚竟餓成「蝌蚪」\n",
      "日月潭湖光山色為舞台  舞躍水沙連25日登場\n",
      "孩子總是坐不住是過動? 職能治療師：注意孩子3現象\n",
      "NBA》快艇新教頭泰倫魯 有信心留住雷納德、P.喬治\n",
      "台海軍情》叫板「天龍演習」？解放軍海南軍演  發射數十枚空對空飛彈\n",
      "國軍製投誠食品赫見「恆春仁壽派出所」 居民直呼：母湯！\n",
      "在野黨合作擋萊豬遭否決 蔣萬安嗆：國人會牢記這一刻\n",
      "9色iPhone 12直擊！「金色」驚艷更勝「太平洋藍」 「塑膠藍」洗冤屈\n",
      "未停妥公車就開車門致老翁摔出車外受傷  司機遭起訴\n",
      "MLB》洋基有望迎接「Didi」鳳還巢！ 但有最大競爭者\n",
      "美大選辯論》川普逼問：誰建造關移民的籠子？ 拜登避答\n",
      "南韓流感疫苗接種已32死 是否繼續施打專家意見分歧\n",
      "蔡英文暗批中國 不該用政治力量阻台參與WHO\n",
      "議員送柯文哲衛生紙 諷幫中央擦屁股\n",
      "公費流感疫苗不足「誤判」？ 北市聯醫璩大成：為政者難處\n",
      "台灣口罩紅到國外 最強星二代也搶戴！\n",
      "iPhone 12、12 Pro 全 9 種顏色直擊！實機這 3 款有驚喜\n",
      "3個月大後沒見過媽 剛成年就被告要生活費\n",
      "北市改口停辦跨年晚會不含境外確診遭轟 柯文哲坦言有錯會改\n",
      "美大選辯論》川普、拜登最終對決  六大議題交鋒\n"
     ]
    }
   ],
   "source": [
    "for t in soup.select('.title'):\n",
    "    print(t.text)"
   ]
  },
  {
   "cell_type": "code",
   "execution_count": 181,
   "metadata": {},
   "outputs": [],
   "source": [
    "driver.execute_script(\"window.scrollTo(0, document.body.scrollHeight);\")"
   ]
  },
  {
   "cell_type": "code",
   "execution_count": 182,
   "metadata": {},
   "outputs": [
    {
     "name": "stdout",
     "output_type": "stream",
     "text": [
      "強國養魚法！抓來近1年不餵養 鯰魚竟餓成「蝌蚪」\n",
      "日月潭湖光山色為舞台  舞躍水沙連25日登場\n",
      "孩子總是坐不住是過動? 職能治療師：注意孩子3現象\n",
      "NBA》快艇新教頭泰倫魯 有信心留住雷納德、P.喬治\n",
      "台海軍情》叫板「天龍演習」？解放軍海南軍演  發射數十枚空對空飛彈\n",
      "國軍製投誠食品赫見「恆春仁壽派出所」 居民直呼：母湯！\n",
      "在野黨合作擋萊豬遭否決 蔣萬安嗆：國人會牢記這一刻\n",
      "9色iPhone 12直擊！「金色」驚艷更勝「太平洋藍」 「塑膠藍」洗冤屈\n",
      "未停妥公車就開車門致老翁摔出車外受傷  司機遭起訴\n",
      "MLB》洋基有望迎接「Didi」鳳還巢！ 但有最大競爭者\n",
      "美大選辯論》川普逼問：誰建造關移民的籠子？ 拜登避答\n",
      "南韓流感疫苗接種已32死 是否繼續施打專家意見分歧\n",
      "蔡英文暗批中國 不該用政治力量阻台參與WHO\n",
      "議員送柯文哲衛生紙 諷幫中央擦屁股\n",
      "公費流感疫苗不足「誤判」？ 北市聯醫璩大成：為政者難處\n",
      "台灣口罩紅到國外 最強星二代也搶戴！\n",
      "iPhone 12、12 Pro 全 9 種顏色直擊！實機這 3 款有驚喜\n",
      "3個月大後沒見過媽 剛成年就被告要生活費\n",
      "北市改口停辦跨年晚會不含境外確診遭轟 柯文哲坦言有錯會改\n",
      "美大選辯論》川普、拜登最終對決  六大議題交鋒\n",
      "深澳漁港千萬海釣船起火  船員機警以滅火器15分鐘滅火\n",
      "新北交通罰單爆量 侯友宜：檢舉達人太多\n",
      "韋恩的食農生活》嬰幼兒用塑膠奶瓶，可能喝下100萬顆微塑膠？！\n",
      "女騎士自撞轎車昏迷 路人CPR救回一命\n",
      "MLB》聯盟親兒子？防守數據被林多海放、柯瑞亞竟入圍金手套\n",
      "難忍富二代男友太花心    美腿女神狠斬1年情\n",
      "否認對納瓦尼下毒 普廷：我下令讓他能夠出國治療\n",
      "怕騎士被掉落纜線勾到  員警路口冒雨持桿撐半小時\n",
      "上百萬元恐撞飛！路口不禮讓 「海神」瑪莎拉蒂與豐田車相撞\n",
      "高發會提出「壯世代」 盼社會不要對熟齡者標籤化\n",
      "藍營扯美豬和總統大選有關 陳時中：根本兩回事\n",
      "蘋果 iPhone 12 超受果粉歡迎！電信業估：有機會破蘋果歷史紀錄\n",
      "疫情改變辦公模式？調查：全球「永久」在家上班人數明年將增加1倍\n",
      "日職》中日龍王牌大野雄大 以前輩陳偉殷的速球為目標\n",
      "健保費將漲幾成？ 陳時中：還在討論中\n",
      "新北多元都更案核准率僅58％ 侯友宜：加速溝通效率\n",
      "「緊緊緊」來賞鳥 破百隻黑面琵鷺現身茄萣、永安濕地\n",
      "2020台灣公共行政聯合年會 黃偉哲：城巿治理須創新傳承\n",
      "舞小姐稱有他的骨肉 人夫包養10年買車送錢卻從沒見過孩子\n",
      "在野黨團互挺擋萊豬 8案遭院會否決\n"
     ]
    }
   ],
   "source": [
    "from bs4 import BeautifulSoup\n",
    "soup = BeautifulSoup(driver.page_source, 'lxml')\n",
    "for t in soup.select('.title'):\n",
    "    print(t.text)"
   ]
  },
  {
   "cell_type": "code",
   "execution_count": 185,
   "metadata": {},
   "outputs": [
    {
     "name": "stderr",
     "output_type": "stream",
     "text": [
      "/Users/davidchiu/.pyenv/versions/3.7.3/lib/python3.7/site-packages/ipykernel_launcher.py:5: DeprecationWarning: use options instead of chrome_options\n",
      "  \"\"\"\n"
     ]
    },
    {
     "name": "stdout",
     "output_type": "stream",
     "text": [
      "高雄湖內夜市違規販售醫用口罩 攤商被罰3萬元\n",
      "隆宸翰酗酒怒吼童星  洩金曲歌后私下育兒經\n",
      "新北市長官邸都更招商年底公告 未來將有高階職務宿舍\n",
      "拚學習歷程檔案竟要記過、補習  中市議員批太超過\n",
      "美國制裁奏效！華為Q3營收大幅放緩、僅成長3.7％\n",
      "國民黨號召民眾上街反美豬 陳吉仲：尊重\n",
      "打造特色公園 竹縣府赴北北宜取經\n",
      "限量2萬盒！明天來搶超商「牛仔玫瑰粉」口罩  比丹寧款更美\n",
      "已經燒了2737億...三菱重工擬停止開發噴氣式客機\n",
      "前美副國務卿：中國和平崛起變「戰狼外交」 會輸得很慘\n",
      "強國養魚法！抓來近1年不餵養 鯰魚竟餓成「蝌蚪」\n",
      "日月潭湖光山色為舞台  舞躍水沙連25日登場\n",
      "孩子總是坐不住是過動? 職能治療師：注意孩子3現象\n",
      "NBA》快艇新教頭泰倫魯 有信心留住雷納德、P.喬治\n",
      "台海軍情》叫板「天龍演習」？解放軍海南軍演  發射數十枚空對空飛彈\n",
      "國軍製投誠食品赫見「恆春仁壽派出所」 居民直呼：母湯！\n",
      "在野黨合作擋萊豬遭否決 蔣萬安嗆：國人會牢記這一刻\n",
      "9色iPhone 12直擊！「金色」驚艷更勝「太平洋藍」 「塑膠藍」洗冤屈\n",
      "未停妥公車就開車門致老翁摔出車外受傷  司機遭起訴\n",
      "MLB》洋基有望迎接「Didi」鳳還巢！ 但有最大競爭者\n"
     ]
    },
    {
     "data": {
      "text/plain": [
       "True"
      ]
     },
     "execution_count": 185,
     "metadata": {},
     "output_type": "execute_result"
    }
   ],
   "source": [
    "from selenium import webdriver\n",
    "from bs4 import BeautifulSoup\n",
    "options = webdriver.ChromeOptions()\n",
    "options.add_argument('--headless')  \n",
    "driver=webdriver.Chrome('/opt/local/common/chromedriver', chrome_options=options)\n",
    "driver.get('https://news.ltn.com.tw/list/breakingnews')\n",
    "\n",
    "soup = BeautifulSoup(driver.page_source, 'lxml')\n",
    "for t in soup.select('.title'):\n",
    "    print(t.text)\n",
    "    \n",
    "    \n",
    "driver.save_screenshot('ltn.png')"
   ]
  },
  {
   "cell_type": "code",
   "execution_count": 186,
   "metadata": {},
   "outputs": [
    {
     "data": {
      "image/png": "[encoded data removed]",
      "text/plain": [
       "<PIL.PngImagePlugin.PngImageFile image mode=RGBA size=800x600 at 0x11E99FBE0>"
      ]
     },
     "execution_count": 186,
     "metadata": {},
     "output_type": "execute_result"
    }
   ],
   "source": [
    "from PIL import Image\n",
    "Image.open('ltn.png')"
   ]
  },
  {
   "cell_type": "code",
   "execution_count": 187,
   "metadata": {},
   "outputs": [
    {
     "name": "stderr",
     "output_type": "stream",
     "text": [
      "/Users/davidchiu/.pyenv/versions/3.7.3/lib/python3.7/site-packages/ipykernel_launcher.py:5: DeprecationWarning: use options instead of chrome_options\n",
      "  \"\"\"\n"
     ]
    },
    {
     "name": "stdout",
     "output_type": "stream",
     "text": [
      "高雄湖內夜市違規販售醫用口罩 攤商被罰3萬元\n",
      "隆宸翰酗酒怒吼童星  洩金曲歌后私下育兒經\n",
      "新北市長官邸都更招商年底公告 未來將有高階職務宿舍\n",
      "拚學習歷程檔案竟要記過、補習  中市議員批太超過\n",
      "美國制裁奏效！華為Q3營收大幅放緩、僅成長3.7％\n",
      "國民黨號召民眾上街反美豬 陳吉仲：尊重\n",
      "打造特色公園 竹縣府赴北北宜取經\n",
      "限量2萬盒！明天來搶超商「牛仔玫瑰粉」口罩  比丹寧款更美\n",
      "已經燒了2737億...三菱重工擬停止開發噴氣式客機\n",
      "前美副國務卿：中國和平崛起變「戰狼外交」 會輸得很慘\n",
      "強國養魚法！抓來近1年不餵養 鯰魚竟餓成「蝌蚪」\n",
      "日月潭湖光山色為舞台  舞躍水沙連25日登場\n",
      "孩子總是坐不住是過動? 職能治療師：注意孩子3現象\n",
      "NBA》快艇新教頭泰倫魯 有信心留住雷納德、P.喬治\n",
      "台海軍情》叫板「天龍演習」？解放軍海南軍演  發射數十枚空對空飛彈\n",
      "國軍製投誠食品赫見「恆春仁壽派出所」 居民直呼：母湯！\n",
      "在野黨合作擋萊豬遭否決 蔣萬安嗆：國人會牢記這一刻\n",
      "9色iPhone 12直擊！「金色」驚艷更勝「太平洋藍」 「塑膠藍」洗冤屈\n",
      "未停妥公車就開車門致老翁摔出車外受傷  司機遭起訴\n",
      "MLB》洋基有望迎接「Didi」鳳還巢！ 但有最大競爭者\n"
     ]
    },
    {
     "data": {
      "text/plain": [
       "True"
      ]
     },
     "execution_count": 187,
     "metadata": {},
     "output_type": "execute_result"
    }
   ],
   "source": [
    "from selenium import webdriver\n",
    "from bs4 import BeautifulSoup\n",
    "options = webdriver.ChromeOptions()\n",
    "#options.add_argument('--headless')  \n",
    "driver=webdriver.Chrome('/opt/local/common/chromedriver', chrome_options=options)\n",
    "driver.get('https://news.ltn.com.tw/list/breakingnews')\n",
    "\n",
    "soup = BeautifulSoup(driver.page_source, 'lxml')\n",
    "for t in soup.select('.title'):\n",
    "    print(t.text)\n",
    "    \n",
    "    \n",
    "driver.save_screenshot('ltn.png')"
   ]
  },
  {
   "cell_type": "code",
   "execution_count": 206,
   "metadata": {},
   "outputs": [],
   "source": [
    "im = driver.find_element_by_css_selector('img.lazy_imgs_ltn')"
   ]
  },
  {
   "cell_type": "code",
   "execution_count": 207,
   "metadata": {},
   "outputs": [
    {
     "data": {
      "text/plain": [
       "{'x': 35, 'y': 282}"
      ]
     },
     "execution_count": 207,
     "metadata": {},
     "output_type": "execute_result"
    }
   ],
   "source": [
    "im.location"
   ]
  },
  {
   "cell_type": "code",
   "execution_count": 208,
   "metadata": {},
   "outputs": [
    {
     "data": {
      "text/plain": [
       "{'height': 120, 'width': 160}"
      ]
     },
     "execution_count": 208,
     "metadata": {},
     "output_type": "execute_result"
    }
   ],
   "source": [
    "im.size"
   ]
  },
  {
   "cell_type": "code",
   "execution_count": 209,
   "metadata": {},
   "outputs": [
    {
     "data": {
      "text/plain": [
       "True"
      ]
     },
     "execution_count": 209,
     "metadata": {},
     "output_type": "execute_result"
    }
   ],
   "source": [
    "driver.save_screenshot('ltn2.png')"
   ]
  },
  {
   "cell_type": "code",
   "execution_count": 210,
   "metadata": {},
   "outputs": [],
   "source": [
    "from PIL import Image\n",
    "im2 = Image.open('ltn2.png')"
   ]
  },
  {
   "cell_type": "code",
   "execution_count": 211,
   "metadata": {},
   "outputs": [],
   "source": [
    "left = im.location[\"x\"]\n",
    "top = im.location[\"y\"]\n",
    "right = im.location[\"x\"] + im.size[\"width\"]\n",
    "bottom = im.location[\"y\"] + im.size[\"height\"]\n",
    "im2 = Image.open('ltn2.png')\n",
    "im3 = im2.crop((left, top, right, bottom))"
   ]
  },
  {
   "cell_type": "code",
   "execution_count": 212,
   "metadata": {},
   "outputs": [
    {
     "data": {
      "image/png": "[encoded data removed]",
      "text/plain": [
       "<PIL.Image.Image image mode=RGBA size=160x120 at 0x1200A0860>"
      ]
     },
     "execution_count": 212,
     "metadata": {},
     "output_type": "execute_result"
    }
   ],
   "source": [
    "im3"
   ]
  },
  {
   "cell_type": "markdown",
   "metadata": {},
   "source": [
    "## Appium"
   ]
  },
  {
   "cell_type": "markdown",
   "metadata": {},
   "source": [
    "## PTT"
   ]
  },
  {
   "cell_type": "code",
   "execution_count": 333,
   "metadata": {},
   "outputs": [],
   "source": [
    "import requests\n",
    "res = requests.get('https://www.ptt.cc/bbs/MobileComm/index.html')\n",
    "#res.text"
   ]
  },
  {
   "cell_type": "code",
   "execution_count": 335,
   "metadata": {},
   "outputs": [],
   "source": [
    "from bs4 import BeautifulSoup\n",
    "soup = BeautifulSoup(res.text, 'lxml')"
   ]
  },
  {
   "cell_type": "code",
   "execution_count": 336,
   "metadata": {},
   "outputs": [
    {
     "data": {
      "text/plain": [
       "[<a href=\"/bbs/MobileComm/M.1603426544.A.AAE.html\">[閒聊] 感覺12有魔改上pro的潛力</a>,\n",
       " <a href=\"/bbs/MobileComm/M.1603426626.A.F32.html\">[問題] 亞太收訊手機影響</a>,\n",
       " <a href=\"/bbs/MobileComm/M.1603428096.A.A5C.html\">Re: [問題] Pixel5螢幕邊緣觸控反應較慢？</a>,\n",
       " <a href=\"/bbs/MobileComm/M.1603428932.A.6C3.html\">[討論] iphone 12/pro vs iphone 11 pro vs s20+</a>,\n",
       " <a href=\"/bbs/MobileComm/M.1603429775.A.1D2.html\">[心得] 注意台哥大合約綁Myvideo/music</a>,\n",
       " <a href=\"/bbs/MobileComm/M.1603430705.A.D46.html\">Re: [新聞] 中華電出招「48個月」綁 iPhone 12！官</a>,\n",
       " <a href=\"/bbs/MobileComm/M.1603432738.A.145.html\">Re: [閒聊] 去台哥大門市被店員弄到想跳槽</a>,\n",
       " <a href=\"/bbs/MobileComm/M.1603433024.A.4A6.html\">[閒聊] Desire 20 +</a>,\n",
       " <a href=\"/bbs/MobileComm/M.1603433971.A.951.html\">Re: [新聞] 中華電出招「48個月」綁 iPhone 12！官</a>,\n",
       " <a href=\"/bbs/MobileComm/M.1591369281.A.9AD.html\">[公告] MobileComm板規 20200605版</a>,\n",
       " <a href=\"/bbs/MobileComm/M.1601912245.A.E24.html\">[公告] 置底閒聊區3.0 </a>]"
      ]
     },
     "execution_count": 336,
     "metadata": {},
     "output_type": "execute_result"
    }
   ],
   "source": [
    "soup.select('.title a')"
   ]
  },
  {
   "cell_type": "code",
   "execution_count": 337,
   "metadata": {},
   "outputs": [],
   "source": [
    "import requests\n",
    "res = requests.get('https://www.ptt.cc/bbs/Gossiping/index.html')\n",
    "#res.text"
   ]
  },
  {
   "cell_type": "code",
   "execution_count": 339,
   "metadata": {},
   "outputs": [],
   "source": [
    "#res.text"
   ]
  },
  {
   "cell_type": "code",
   "execution_count": 341,
   "metadata": {},
   "outputs": [],
   "source": [
    "import requests\n",
    "cookies = {\n",
    "   'over18': '1' \n",
    "}\n",
    "res = requests.get('https://www.ptt.cc/bbs/Gossiping/index.html', cookies = cookies)\n",
    "#res.text"
   ]
  },
  {
   "cell_type": "code",
   "execution_count": 343,
   "metadata": {},
   "outputs": [],
   "source": [
    "#res.text"
   ]
  },
  {
   "cell_type": "markdown",
   "metadata": {},
   "source": [
    "## 財報狗"
   ]
  },
  {
   "cell_type": "code",
   "execution_count": null,
   "metadata": {},
   "outputs": [],
   "source": [
    "ginenec655@ptcji.com\n",
    "1qaz2wsx"
   ]
  },
  {
   "cell_type": "code",
   "execution_count": 346,
   "metadata": {},
   "outputs": [],
   "source": [
    "import requests\n",
    "headers = {\n",
    "  'cookie': 'buuid=TmZscVgzU0pWajM2cmowUmhsbmgvcG5pSEUrVnFhWG0vcUx5WElGay9zRTRiSjlhbUhNeFZFcml0YUVOb3Naby0tUnZxUkpETHIwbFNsQmtoNTlBMWF6Zz09--99e2029dc132338262765f469d21500037b7074a; easy_ab=c8aec8b6-2e1f-4894-b9b5-c15c5575d540; _ga=GA1.2.1347110091.1603435171; _gid=GA1.2.1906018800.1603435171; upgrade_browser=1; intercom-id-d5wdetwg=336321ec-9ba4-45bc-a6e3-4067af48c34f; remember_user_token=W1s1OTkxMTZdLCIkMmEkMTAkTFNMRXdyVjJBUHhLTVNYaTdudmJhTyIsIjE2MDM0MzUzMjguOTk3ODA1OCJd--6194d15e5658cd7972df3e45a84177f186a3fc32; _gat=1; intercom-session-d5wdetwg=L3ZsWmtuYVJrMlVHcG9Vb0JIQ2N3TjRMWEZ4TmJlYTZNc0hNQ0VwdDFVMUxXQ05WdkN5MGlYZUJ6TFozcGRpNy0tWS9WNUQ4UVppTS80bERqcFlTV28rUT09--142260f8232b580ea268cb9c2936579bb4fdf77c; _statementdog_session_v2=eWUxSE1kNm9UUVc3R1ZwSHZXdzF3ZEJUNHl0WnAwcDh2UUxreW9NSDRSRlo1b1RlYXJNT1p2bHJ3dFl2bXNTSmRCL2NKMkRnZUdrYUp3ek1JeG14WlZlaTN6Ty9UWVEraXAvYWtpeDZQdDdwclQwcS9HdmpOeFB0Q0JEYmRHUWlvQUdOVVd1MUxvbXRVbVJ1ejFzV2Y0NW9DUisveEYxL3N6ZWdpU01lRGNHRkVieWVEYVoraGJ5UmdQcHliclhGNExQV1JuSG5sN1JiUUZuSjRGYmNzUy9oMkcwK2ZhZkExUFdvZWN4ZWF1SnJGVGZTREV2aVRpVGttMXIvTWVOenZtUmYrcy8zNUdVcUEwbTRWaTVQd3kzcWc4dmNQdGkxLzZxcFlnbzRxRmU2N2U5d3VwTE5jaytaQS9DVnNZOFhyUnMyRUc3akY4Szg3dC81MGhFSnV3PT0tLWxXekJJTnpGQnRaWXFvMVBKMXNLd0E9PQ%3D%3D--47ff26ee6b3a5e6043318fe49394d00ae1b267b8; amplitude_id_0ab77a441fbc226251ef1a272380fcd7statementdog.com=eyJkZXZpY2VJZCI6IjkzNjhmYjU4LTliMDEtNGM5NS1iNmVlLTRkMDFhNDE2NWM0MFIiLCJ1c2VySWQiOiI1OTkxMTYiLCJvcHRPdXQiOmZhbHNlLCJzZXNzaW9uSWQiOjE2MDM0MzUxNzEyMjMsImxhc3RFdmVudFRpbWUiOjE2MDM0MzUzOTYzNzksImV2ZW50SWQiOjksImlkZW50aWZ5SWQiOjEwLCJzZXF1ZW5jZU51bWJlciI6MTl9'  \n",
    "}\n",
    "res = requests.get('https://statementdog.com/api/v1/feeds?&_=1603435397004', headers = headers)\n",
    "#res.json()"
   ]
  },
  {
   "cell_type": "code",
   "execution_count": 348,
   "metadata": {},
   "outputs": [],
   "source": [
    "import requests\n",
    "from bs4 import BeautifulSoup\n",
    "url = 'https://statementdog.com/users/sign_in'\n",
    "res = requests.get(url)\n",
    "soup = BeautifulSoup(res.text, 'lxml')"
   ]
  },
  {
   "cell_type": "code",
   "execution_count": 352,
   "metadata": {},
   "outputs": [],
   "source": [
    "token = soup.select_one('meta[name=\"csrf-token\"]').get('content')"
   ]
  },
  {
   "cell_type": "code",
   "execution_count": null,
   "metadata": {},
   "outputs": [],
   "source": [
    "payload = {\n",
    "'utf8': '✓',\n",
    "'authenticity_token': token,\n",
    "'user[email]': 'ginenec655@ptcji.com',\n",
    "'user[password]': '1qaz2wsx',\n",
    "'user[remember_me]': '1'    \n",
    "}\n",
    "requests.post(url = url, data = payload)"
   ]
  },
  {
   "cell_type": "code",
   "execution_count": 353,
   "metadata": {},
   "outputs": [],
   "source": [
    "import requests\n",
    "from bs4 import BeautifulSoup\n",
    "url = 'https://statementdog.com/users/sign_in'\n",
    "rs = requests.session()\n",
    "\n",
    "# get token\n",
    "res = rs.get(url)\n",
    "soup = BeautifulSoup(res.text, 'lxml')\n",
    "token = soup.select_one('meta[name=\"csrf-token\"]').get('content')\n",
    "\n",
    "payload = {\n",
    "'utf8': '✓',\n",
    "'authenticity_token': token,\n",
    "'user[email]': 'ginenec655@ptcji.com',\n",
    "'user[password]': '1qaz2wsx',\n",
    "'user[remember_me]': '1'    \n",
    "}\n",
    "# signin\n",
    "res2 = rs.post(url = url, data = payload)"
   ]
  },
  {
   "cell_type": "code",
   "execution_count": 354,
   "metadata": {},
   "outputs": [],
   "source": [
    "res3 = rs.get('https://statementdog.com/api/v1/feeds?&_=1603435397004')"
   ]
  },
  {
   "cell_type": "code",
   "execution_count": 356,
   "metadata": {},
   "outputs": [],
   "source": [
    "#res3.json()"
   ]
  },
  {
   "cell_type": "markdown",
   "metadata": {},
   "source": [
    "### 串接 Selenium 與 requests"
   ]
  },
  {
   "cell_type": "code",
   "execution_count": 358,
   "metadata": {},
   "outputs": [],
   "source": [
    "from selenium import webdriver\n",
    "driver = webdriver.Chrome('/opt/local/common/chromedriver')\n",
    "driver.get('https://statementdog.com/users/sign_in')"
   ]
  },
  {
   "cell_type": "code",
   "execution_count": 360,
   "metadata": {},
   "outputs": [],
   "source": [
    "driver.find_element_by_id('user_email').send_keys('ginenec655@ptcji.com')"
   ]
  },
  {
   "cell_type": "code",
   "execution_count": 361,
   "metadata": {},
   "outputs": [],
   "source": [
    "driver.find_element_by_id('user_password').send_keys('1qaz2wsx')"
   ]
  },
  {
   "cell_type": "code",
   "execution_count": 362,
   "metadata": {},
   "outputs": [],
   "source": [
    "driver.find_element_by_css_selector('button.submit-btn').click()"
   ]
  },
  {
   "cell_type": "code",
   "execution_count": 364,
   "metadata": {},
   "outputs": [],
   "source": [
    "cary = []\n",
    "for c in driver.get_cookies():\n",
    "    cary.append('{}={}'.format(c.get('name'), c.get('value')))"
   ]
  },
  {
   "cell_type": "code",
   "execution_count": 367,
   "metadata": {},
   "outputs": [],
   "source": [
    "headers = {'Cookie':';'.join(cary)}"
   ]
  },
  {
   "cell_type": "code",
   "execution_count": 369,
   "metadata": {},
   "outputs": [],
   "source": [
    "res = requests.get('https://statementdog.com/api/v1/feeds?&_=1603435397004', headers = headers)\n",
    "#res.json()"
   ]
  },
  {
   "cell_type": "markdown",
   "metadata": {},
   "source": [
    "## 高鐵範例"
   ]
  },
  {
   "cell_type": "code",
   "execution_count": 370,
   "metadata": {},
   "outputs": [],
   "source": [
    "import requests\n",
    "url = 'https://www.thsrc.com.tw/TimeTable/Search'\n",
    "payload = {'SearchType': 'S', 'Lang': 'TW', \n",
    "           'StartStation': 'TaiPei', \n",
    "           'EndStation': 'XinZhu', \n",
    "           'OutWardSearchDate': '2020/10/23', \n",
    "           'OutWardSearchTime': '17:00', \n",
    "           'ReturnSearchDate': '2020/10/23', 'ReturnSearchTime': '15:00'}\n",
    "res = requests.post(url, data = payload)"
   ]
  },
  {
   "cell_type": "code",
   "execution_count": 372,
   "metadata": {},
   "outputs": [],
   "source": [
    "#res.json()"
   ]
  },
  {
   "cell_type": "markdown",
   "metadata": {},
   "source": [
    "## 自由時報"
   ]
  },
  {
   "cell_type": "code",
   "execution_count": 373,
   "metadata": {},
   "outputs": [],
   "source": [
    "import requests\n",
    "res = requests.get('https://news.ltn.com.tw/list/breakingnews')"
   ]
  },
  {
   "cell_type": "code",
   "execution_count": 375,
   "metadata": {},
   "outputs": [],
   "source": [
    "from bs4 import BeautifulSoup\n",
    "soup = BeautifulSoup(res.text, 'lxml')\n"
   ]
  },
  {
   "cell_type": "code",
   "execution_count": 379,
   "metadata": {},
   "outputs": [
    {
     "name": "stdout",
     "output_type": "stream",
     "text": [
      "https://img.ltn.com.tw/Upload/news/250/2020/10/23/3330203_2_1.jpg\n",
      "https://img.ltn.com.tw/Upload/sports/page/400S/2020/10/23/phpC050tv.jpg\n",
      "https://img.ltn.com.tw/Upload/business/page/400S/2020/10/23/php1FxGDW.jpg\n",
      "https://img.ltn.com.tw/Upload/news/250/2020/10/23/3330188_1_1.jpg\n",
      "https://img.ltn.com.tw/Upload/news/250/2020/10/23/3330191_4_1.jpg\n",
      "https://img.ltn.com.tw/Upload/sports/page/400S/2020/10/23/phpd64dvF.jpg\n",
      "https://img.ltn.com.tw/Upload/sports/page/400S/2020/10/23/phpddaYiC.jpg\n",
      "https://img.ltn.com.tw/Upload/business/page/400S/2020/10/23/3330202_1.jpg\n",
      "https://img.ltn.com.tw/Upload/news/250/2020/10/23/3330174_1_1.jpg\n",
      "https://img.ltn.com.tw/Upload/news/250/2020/10/23/phpX1Igsc.jpg\n",
      "https://img.ltn.com.tw/Upload/3c/page/2020/10/23/300x200/201023-42112-1.png\n",
      "https://img.ltn.com.tw/Upload/business/page/400S/2020/10/23/3330197_1.jpg\n",
      "https://img.ltn.com.tw/Upload/ent/page/400S/2020/10/23/3330198_1.jpg\n",
      "https://img.ltn.com.tw/Upload/news/250/2020/10/23/phpYCYCxH.jpg\n",
      "https://img.ltn.com.tw/Upload/3c/page/2020/10/23/300x200/201023-42116-1.jpg\n",
      "https://img.ltn.com.tw/Upload/news/250/2020/10/23/3330171_1_1.jpg\n",
      "https://img.ltn.com.tw/Upload/style/page/2020/10/23/201023-14802-1-QoYpw.jpg\n",
      "https://img.ltn.com.tw/Upload/ent/page/400S/2020/10/23/3330151_1.jpg\n",
      "https://img.ltn.com.tw/Upload/ent/page/400S/2020/10/23/3330182_1.jpg\n",
      "https://img.ltn.com.tw/Upload/news/250/2020/10/23/3330172_1_1.jpg\n",
      "https://img.ltn.com.tw/Upload/suggest/140/14090012.jpg\n",
      "https://img.ltn.com.tw/Upload/suggest/367/36790774.gif\n",
      "https://img.ltn.com.tw/Upload/news/250/2020/10/23/3330171_1_1.jpg\n",
      "https://img.ltn.com.tw/Upload/style/page/2020/10/22/201022-14799-1-Qk9P3.jpg\n",
      "https://img.ltn.com.tw/Upload/news/250/2020/10/23/phpwdambz.jpg\n",
      "https://img.ltn.com.tw/Upload/news/250/2020/10/23/php9GqrDg.jpg\n",
      "https://img.ltn.com.tw/Upload/news/250/2020/10/23/3330106_1_1.jpg\n",
      "https://img.ltn.com.tw/Upload/news/250/2020/10/23/phpaFgz02.jpg\n",
      "https://img.ltn.com.tw/Upload/news/250/2020/10/23/php0lIP23.png\n",
      "https://img.ltn.com.tw/Upload/ent/page/400S/2020/10/23/3329962_1.jpg\n",
      "https://img.ltn.com.tw/Upload/news/250/2020/10/23/3329972_1_1.jpg\n",
      "https://img.ltn.com.tw/Upload/news/250/2020/10/23/phptK8b7h.jpg\n"
     ]
    }
   ],
   "source": [
    "for rec in soup.select('.lazy_imgs_ltn'):\n",
    "    print(rec.get('data-src'))"
   ]
  },
  {
   "cell_type": "markdown",
   "metadata": {},
   "source": [
    "<img alt=\"百萬Youtuber「放火」女子家過夜  遭強拍裸照勒索25萬\" class=\"lazy_imgs_ltn\" src=\"https://img.ltn.com.tw/Upload/news/250/2020/10/23/3330203_2_1.jpg\" title=\"百萬Youtuber「放火」女子家過夜  遭強拍裸照勒索25萬\"/>"
   ]
  },
  {
   "cell_type": "code",
   "execution_count": 380,
   "metadata": {},
   "outputs": [],
   "source": [
    "with open('1.jpg', 'wb') as f:\n",
    "    res = requests.get('https://img.ltn.com.tw/Upload/news/250/2020/10/23/3330203_2_1.jpg')\n",
    "    f.write(res.content)"
   ]
  },
  {
   "cell_type": "code",
   "execution_count": 381,
   "metadata": {},
   "outputs": [
    {
     "data": {
      "image/png": "[encoded data removed]",
      "text/plain": [
       "<PIL.JpegImagePlugin.JpegImageFile image mode=RGB size=200x250 at 0x121600F60>"
      ]
     },
     "execution_count": 381,
     "metadata": {},
     "output_type": "execute_result"
    }
   ],
   "source": [
    "from PIL import Image\n",
    "Image.open('1.jpg')"
   ]
  },
  {
   "cell_type": "code",
   "execution_count": 384,
   "metadata": {},
   "outputs": [],
   "source": [
    "for rec in soup.select('.lazy_imgs_ltn'):\n",
    "    url = rec.get('data-src')\n",
    "    fname = url.split('/')[-1]\n",
    "    with open(fname, 'wb') as f:\n",
    "        res = requests.get(url)\n",
    "        f.write(res.content)"
   ]
  },
  {
   "cell_type": "code",
   "execution_count": 385,
   "metadata": {},
   "outputs": [],
   "source": [
    "! open . "
   ]
  },
  {
   "cell_type": "markdown",
   "metadata": {},
   "source": [
    "## 中華電信預購方案\n",
    "- https://www.cht.com.tw/home/apple/iphone/index"
   ]
  },
  {
   "cell_type": "code",
   "execution_count": 387,
   "metadata": {},
   "outputs": [],
   "source": [
    "import requests\n",
    "res = requests.get('https://www.cht.com.tw/home/apple/iphone/index')\n",
    "#res.text"
   ]
  },
  {
   "cell_type": "markdown",
   "metadata": {},
   "source": [
    "<table>\n",
    "    <thead>\n",
    "        <tr><th>c1</th><th>c2</th></tr>\n",
    "    </thead>\n",
    "    <tbody>\n",
    "        <tr><td>v1</td><td>v2</td></tr>\n",
    "        <tr><td>v1</td><td>v2</td></tr>\n",
    "        <tr><td>v1</td><td>v2</td></tr>\n",
    "        <tr><td>v1</td><td>v2</td></tr>\n",
    "        <tr><td>v1</td><td>v2</td></tr>\n",
    "    </tbody>\n",
    "</table>"
   ]
  },
  {
   "cell_type": "code",
   "execution_count": 388,
   "metadata": {},
   "outputs": [],
   "source": [
    "from bs4 import BeautifulSoup\n",
    "soup = BeautifulSoup(res.text, 'lxml')"
   ]
  },
  {
   "cell_type": "code",
   "execution_count": 393,
   "metadata": {},
   "outputs": [],
   "source": [
    "ary = []\n",
    "for tr in soup.select('tr'):\n",
    "    dataary = []\n",
    "    th = tr.select('th')\n",
    "    if th:\n",
    "        for data in th:\n",
    "            dataary.append(data.text)\n",
    "    td = tr.select('td')\n",
    "    if td:\n",
    "        for data in td:\n",
    "            dataary.append(data.text)\n",
    "    ary.append(dataary)\n"
   ]
  },
  {
   "cell_type": "code",
   "execution_count": 395,
   "metadata": {},
   "outputs": [],
   "source": [
    "#ary"
   ]
  },
  {
   "cell_type": "code",
   "execution_count": 396,
   "metadata": {},
   "outputs": [],
   "source": [
    "import pandas\n",
    "dfs = pandas.read_html('https://www.cht.com.tw/home/apple/iphone/index')"
   ]
  },
  {
   "cell_type": "code",
   "execution_count": 398,
   "metadata": {},
   "outputs": [],
   "source": [
    "df = dfs[0]"
   ]
  },
  {
   "cell_type": "code",
   "execution_count": 402,
   "metadata": {},
   "outputs": [],
   "source": [
    "df['month'] = df['月繳金額.1'].str.extract('(\\d+)個月')"
   ]
  },
  {
   "cell_type": "code",
   "execution_count": 404,
   "metadata": {},
   "outputs": [],
   "source": [
    "df['month'].ffill(inplace=True)"
   ]
  },
  {
   "cell_type": "code",
   "execution_count": 407,
   "metadata": {},
   "outputs": [],
   "source": [
    "df2 = df[~df['月繳金額.1'].str.contains('個月')]"
   ]
  },
  {
   "cell_type": "code",
   "execution_count": 409,
   "metadata": {},
   "outputs": [
    {
     "name": "stderr",
     "output_type": "stream",
     "text": [
      "/Users/davidchiu/.pyenv/versions/3.7.3/lib/python3.7/site-packages/ipykernel_launcher.py:1: SettingWithCopyWarning: \n",
      "A value is trying to be set on a copy of a slice from a DataFrame\n",
      "\n",
      "See the caveats in the documentation: https://pandas.pydata.org/pandas-docs/stable/user_guide/indexing.html#returning-a-view-versus-a-copy\n",
      "  \"\"\"Entry point for launching an IPython kernel.\n"
     ]
    }
   ],
   "source": [
    "df2.dropna(inplace=True)"
   ]
  },
  {
   "cell_type": "code",
   "execution_count": 411,
   "metadata": {},
   "outputs": [
    {
     "data": {
      "text/plain": [
       "Index(['月繳金額', '月繳金額.1', '月繳金額.2', '$599', '$799', '$999', '$1199', '$1,399',\n",
       "       '$1,599', '$1,799', '$2,699', 'month'],\n",
       "      dtype='object')"
      ]
     },
     "execution_count": 411,
     "metadata": {},
     "output_type": "execute_result"
    }
   ],
   "source": [
    "df2.columns"
   ]
  },
  {
   "cell_type": "code",
   "execution_count": 413,
   "metadata": {},
   "outputs": [],
   "source": [
    "df2.columns = ['優惠價', '機型', '容量', '$599', '$799', '$999', '$1199', '$1,399',\n",
    "       '$1,599', '$1,799', '$2,699', 'month']"
   ]
  },
  {
   "cell_type": "code",
   "execution_count": 414,
   "metadata": {},
   "outputs": [
    {
     "data": {
      "text/html": [
       "<div>\n",
       "<style scoped>\n",
       "    .dataframe tbody tr th:only-of-type {\n",
       "        vertical-align: middle;\n",
       "    }\n",
       "\n",
       "    .dataframe tbody tr th {\n",
       "        vertical-align: top;\n",
       "    }\n",
       "\n",
       "    .dataframe thead th {\n",
       "        text-align: right;\n",
       "    }\n",
       "</style>\n",
       "<table border=\"1\" class=\"dataframe\">\n",
       "  <thead>\n",
       "    <tr style=\"text-align: right;\">\n",
       "      <th></th>\n",
       "      <th>優惠價</th>\n",
       "      <th>機型</th>\n",
       "      <th>容量</th>\n",
       "      <th>$599</th>\n",
       "      <th>$799</th>\n",
       "      <th>$999</th>\n",
       "      <th>$1199</th>\n",
       "      <th>$1,399</th>\n",
       "      <th>$1,599</th>\n",
       "      <th>$1,799</th>\n",
       "      <th>$2,699</th>\n",
       "      <th>month</th>\n",
       "    </tr>\n",
       "  </thead>\n",
       "  <tbody>\n",
       "    <tr>\n",
       "      <th>2</th>\n",
       "      <td>購機優惠價(元)</td>\n",
       "      <td>iPhone 12</td>\n",
       "      <td>64GB</td>\n",
       "      <td>-</td>\n",
       "      <td>-</td>\n",
       "      <td>13300</td>\n",
       "      <td>10800</td>\n",
       "      <td>0</td>\n",
       "      <td>0</td>\n",
       "      <td>0</td>\n",
       "      <td>0</td>\n",
       "      <td>48</td>\n",
       "    </tr>\n",
       "    <tr>\n",
       "      <th>3</th>\n",
       "      <td>購機優惠價(元)</td>\n",
       "      <td>iPhone 12</td>\n",
       "      <td>128GB</td>\n",
       "      <td>-</td>\n",
       "      <td>-</td>\n",
       "      <td>14900</td>\n",
       "      <td>12400</td>\n",
       "      <td>0</td>\n",
       "      <td>0</td>\n",
       "      <td>0</td>\n",
       "      <td>0</td>\n",
       "      <td>48</td>\n",
       "    </tr>\n",
       "    <tr>\n",
       "      <th>4</th>\n",
       "      <td>購機優惠價(元)</td>\n",
       "      <td>iPhone 12</td>\n",
       "      <td>256GB</td>\n",
       "      <td>-</td>\n",
       "      <td>-</td>\n",
       "      <td>18400</td>\n",
       "      <td>15900</td>\n",
       "      <td>4400</td>\n",
       "      <td>2400</td>\n",
       "      <td>400</td>\n",
       "      <td>0</td>\n",
       "      <td>48</td>\n",
       "    </tr>\n",
       "    <tr>\n",
       "      <th>6</th>\n",
       "      <td>購機優惠價(元)</td>\n",
       "      <td>iPhone 12 Pro</td>\n",
       "      <td>128GB</td>\n",
       "      <td>-</td>\n",
       "      <td>-</td>\n",
       "      <td>20300</td>\n",
       "      <td>17800</td>\n",
       "      <td>6300</td>\n",
       "      <td>4300</td>\n",
       "      <td>2300</td>\n",
       "      <td>0</td>\n",
       "      <td>48</td>\n",
       "    </tr>\n",
       "    <tr>\n",
       "      <th>7</th>\n",
       "      <td>購機優惠價(元)</td>\n",
       "      <td>iPhone 12 Pro</td>\n",
       "      <td>256GB</td>\n",
       "      <td>-</td>\n",
       "      <td>-</td>\n",
       "      <td>23800</td>\n",
       "      <td>21300</td>\n",
       "      <td>9800</td>\n",
       "      <td>7800</td>\n",
       "      <td>5800</td>\n",
       "      <td>0</td>\n",
       "      <td>48</td>\n",
       "    </tr>\n",
       "  </tbody>\n",
       "</table>\n",
       "</div>"
      ],
      "text/plain": [
       "        優惠價             機型     容量 $599 $799   $999  $1199 $1,399 $1,599  \\\n",
       "2  購機優惠價(元)      iPhone 12   64GB    -    -  13300  10800      0      0   \n",
       "3  購機優惠價(元)      iPhone 12  128GB    -    -  14900  12400      0      0   \n",
       "4  購機優惠價(元)      iPhone 12  256GB    -    -  18400  15900   4400   2400   \n",
       "6  購機優惠價(元)  iPhone 12 Pro  128GB    -    -  20300  17800   6300   4300   \n",
       "7  購機優惠價(元)  iPhone 12 Pro  256GB    -    -  23800  21300   9800   7800   \n",
       "\n",
       "  $1,799 $2,699 month  \n",
       "2      0      0    48  \n",
       "3      0      0    48  \n",
       "4    400      0    48  \n",
       "6   2300      0    48  \n",
       "7   5800      0    48  "
      ]
     },
     "execution_count": 414,
     "metadata": {},
     "output_type": "execute_result"
    }
   ],
   "source": [
    "df2.head()"
   ]
  },
  {
   "cell_type": "code",
   "execution_count": 417,
   "metadata": {},
   "outputs": [],
   "source": [
    "df3 = pandas.wide_to_long(df2, ['$'], i=['優惠價','機型', '容量',  'month'], j= 'price', suffix = '[\\d,]+')"
   ]
  },
  {
   "cell_type": "code",
   "execution_count": 418,
   "metadata": {},
   "outputs": [],
   "source": [
    "df3.reset_index(inplace=True)"
   ]
  },
  {
   "cell_type": "code",
   "execution_count": 419,
   "metadata": {},
   "outputs": [
    {
     "data": {
      "text/html": [
       "<div>\n",
       "<style scoped>\n",
       "    .dataframe tbody tr th:only-of-type {\n",
       "        vertical-align: middle;\n",
       "    }\n",
       "\n",
       "    .dataframe tbody tr th {\n",
       "        vertical-align: top;\n",
       "    }\n",
       "\n",
       "    .dataframe thead th {\n",
       "        text-align: right;\n",
       "    }\n",
       "</style>\n",
       "<table border=\"1\" class=\"dataframe\">\n",
       "  <thead>\n",
       "    <tr style=\"text-align: right;\">\n",
       "      <th></th>\n",
       "      <th>優惠價</th>\n",
       "      <th>機型</th>\n",
       "      <th>容量</th>\n",
       "      <th>month</th>\n",
       "      <th>price</th>\n",
       "      <th>$</th>\n",
       "    </tr>\n",
       "  </thead>\n",
       "  <tbody>\n",
       "    <tr>\n",
       "      <th>0</th>\n",
       "      <td>購機優惠價(元)</td>\n",
       "      <td>iPhone 12</td>\n",
       "      <td>64GB</td>\n",
       "      <td>48</td>\n",
       "      <td>599</td>\n",
       "      <td>-</td>\n",
       "    </tr>\n",
       "    <tr>\n",
       "      <th>1</th>\n",
       "      <td>購機優惠價(元)</td>\n",
       "      <td>iPhone 12</td>\n",
       "      <td>64GB</td>\n",
       "      <td>48</td>\n",
       "      <td>799</td>\n",
       "      <td>-</td>\n",
       "    </tr>\n",
       "    <tr>\n",
       "      <th>2</th>\n",
       "      <td>購機優惠價(元)</td>\n",
       "      <td>iPhone 12</td>\n",
       "      <td>64GB</td>\n",
       "      <td>48</td>\n",
       "      <td>999</td>\n",
       "      <td>13300</td>\n",
       "    </tr>\n",
       "    <tr>\n",
       "      <th>3</th>\n",
       "      <td>購機優惠價(元)</td>\n",
       "      <td>iPhone 12</td>\n",
       "      <td>64GB</td>\n",
       "      <td>48</td>\n",
       "      <td>1199</td>\n",
       "      <td>10800</td>\n",
       "    </tr>\n",
       "    <tr>\n",
       "      <th>4</th>\n",
       "      <td>購機優惠價(元)</td>\n",
       "      <td>iPhone 12</td>\n",
       "      <td>64GB</td>\n",
       "      <td>48</td>\n",
       "      <td>1,399</td>\n",
       "      <td>0</td>\n",
       "    </tr>\n",
       "  </tbody>\n",
       "</table>\n",
       "</div>"
      ],
      "text/plain": [
       "        優惠價         機型    容量 month  price      $\n",
       "0  購機優惠價(元)  iPhone 12  64GB    48    599      -\n",
       "1  購機優惠價(元)  iPhone 12  64GB    48    799      -\n",
       "2  購機優惠價(元)  iPhone 12  64GB    48    999  13300\n",
       "3  購機優惠價(元)  iPhone 12  64GB    48   1199  10800\n",
       "4  購機優惠價(元)  iPhone 12  64GB    48  1,399      0"
      ]
     },
     "execution_count": 419,
     "metadata": {},
     "output_type": "execute_result"
    }
   ],
   "source": [
    "df3.head()"
   ]
  },
  {
   "cell_type": "code",
   "execution_count": 421,
   "metadata": {},
   "outputs": [],
   "source": [
    "df4 = df3[df3['$'] != '-']"
   ]
  },
  {
   "cell_type": "code",
   "execution_count": 422,
   "metadata": {},
   "outputs": [
    {
     "data": {
      "text/html": [
       "<div>\n",
       "<style scoped>\n",
       "    .dataframe tbody tr th:only-of-type {\n",
       "        vertical-align: middle;\n",
       "    }\n",
       "\n",
       "    .dataframe tbody tr th {\n",
       "        vertical-align: top;\n",
       "    }\n",
       "\n",
       "    .dataframe thead th {\n",
       "        text-align: right;\n",
       "    }\n",
       "</style>\n",
       "<table border=\"1\" class=\"dataframe\">\n",
       "  <thead>\n",
       "    <tr style=\"text-align: right;\">\n",
       "      <th></th>\n",
       "      <th>優惠價</th>\n",
       "      <th>機型</th>\n",
       "      <th>容量</th>\n",
       "      <th>month</th>\n",
       "      <th>price</th>\n",
       "      <th>$</th>\n",
       "    </tr>\n",
       "  </thead>\n",
       "  <tbody>\n",
       "    <tr>\n",
       "      <th>2</th>\n",
       "      <td>購機優惠價(元)</td>\n",
       "      <td>iPhone 12</td>\n",
       "      <td>64GB</td>\n",
       "      <td>48</td>\n",
       "      <td>999</td>\n",
       "      <td>13300</td>\n",
       "    </tr>\n",
       "    <tr>\n",
       "      <th>3</th>\n",
       "      <td>購機優惠價(元)</td>\n",
       "      <td>iPhone 12</td>\n",
       "      <td>64GB</td>\n",
       "      <td>48</td>\n",
       "      <td>1199</td>\n",
       "      <td>10800</td>\n",
       "    </tr>\n",
       "    <tr>\n",
       "      <th>4</th>\n",
       "      <td>購機優惠價(元)</td>\n",
       "      <td>iPhone 12</td>\n",
       "      <td>64GB</td>\n",
       "      <td>48</td>\n",
       "      <td>1,399</td>\n",
       "      <td>0</td>\n",
       "    </tr>\n",
       "    <tr>\n",
       "      <th>5</th>\n",
       "      <td>購機優惠價(元)</td>\n",
       "      <td>iPhone 12</td>\n",
       "      <td>64GB</td>\n",
       "      <td>48</td>\n",
       "      <td>1,599</td>\n",
       "      <td>0</td>\n",
       "    </tr>\n",
       "    <tr>\n",
       "      <th>6</th>\n",
       "      <td>購機優惠價(元)</td>\n",
       "      <td>iPhone 12</td>\n",
       "      <td>64GB</td>\n",
       "      <td>48</td>\n",
       "      <td>1,799</td>\n",
       "      <td>0</td>\n",
       "    </tr>\n",
       "  </tbody>\n",
       "</table>\n",
       "</div>"
      ],
      "text/plain": [
       "        優惠價         機型    容量 month  price      $\n",
       "2  購機優惠價(元)  iPhone 12  64GB    48    999  13300\n",
       "3  購機優惠價(元)  iPhone 12  64GB    48   1199  10800\n",
       "4  購機優惠價(元)  iPhone 12  64GB    48  1,399      0\n",
       "5  購機優惠價(元)  iPhone 12  64GB    48  1,599      0\n",
       "6  購機優惠價(元)  iPhone 12  64GB    48  1,799      0"
      ]
     },
     "execution_count": 422,
     "metadata": {},
     "output_type": "execute_result"
    }
   ],
   "source": [
    "df4.head()"
   ]
  },
  {
   "cell_type": "code",
   "execution_count": 423,
   "metadata": {},
   "outputs": [
    {
     "name": "stderr",
     "output_type": "stream",
     "text": [
      "/Users/davidchiu/.pyenv/versions/3.7.3/lib/python3.7/site-packages/ipykernel_launcher.py:1: SettingWithCopyWarning: \n",
      "A value is trying to be set on a copy of a slice from a DataFrame.\n",
      "Try using .loc[row_indexer,col_indexer] = value instead\n",
      "\n",
      "See the caveats in the documentation: https://pandas.pydata.org/pandas-docs/stable/user_guide/indexing.html#returning-a-view-versus-a-copy\n",
      "  \"\"\"Entry point for launching an IPython kernel.\n"
     ]
    }
   ],
   "source": [
    "df4['month'] = df4['month'].astype(int)"
   ]
  },
  {
   "cell_type": "code",
   "execution_count": 424,
   "metadata": {},
   "outputs": [
    {
     "name": "stderr",
     "output_type": "stream",
     "text": [
      "/Users/davidchiu/.pyenv/versions/3.7.3/lib/python3.7/site-packages/ipykernel_launcher.py:1: SettingWithCopyWarning: \n",
      "A value is trying to be set on a copy of a slice from a DataFrame.\n",
      "Try using .loc[row_indexer,col_indexer] = value instead\n",
      "\n",
      "See the caveats in the documentation: https://pandas.pydata.org/pandas-docs/stable/user_guide/indexing.html#returning-a-view-versus-a-copy\n",
      "  \"\"\"Entry point for launching an IPython kernel.\n"
     ]
    }
   ],
   "source": [
    "df4['price'] = df4['price'].map(lambda e: int(e.replace(',','')))"
   ]
  },
  {
   "cell_type": "code",
   "execution_count": 425,
   "metadata": {},
   "outputs": [
    {
     "name": "stderr",
     "output_type": "stream",
     "text": [
      "/Users/davidchiu/.pyenv/versions/3.7.3/lib/python3.7/site-packages/ipykernel_launcher.py:1: SettingWithCopyWarning: \n",
      "A value is trying to be set on a copy of a slice from a DataFrame.\n",
      "Try using .loc[row_indexer,col_indexer] = value instead\n",
      "\n",
      "See the caveats in the documentation: https://pandas.pydata.org/pandas-docs/stable/user_guide/indexing.html#returning-a-view-versus-a-copy\n",
      "  \"\"\"Entry point for launching an IPython kernel.\n"
     ]
    }
   ],
   "source": [
    "df4['$'] = df4['$'].astype(int)"
   ]
  },
  {
   "cell_type": "code",
   "execution_count": 426,
   "metadata": {},
   "outputs": [
    {
     "data": {
      "text/html": [
       "<div>\n",
       "<style scoped>\n",
       "    .dataframe tbody tr th:only-of-type {\n",
       "        vertical-align: middle;\n",
       "    }\n",
       "\n",
       "    .dataframe tbody tr th {\n",
       "        vertical-align: top;\n",
       "    }\n",
       "\n",
       "    .dataframe thead th {\n",
       "        text-align: right;\n",
       "    }\n",
       "</style>\n",
       "<table border=\"1\" class=\"dataframe\">\n",
       "  <thead>\n",
       "    <tr style=\"text-align: right;\">\n",
       "      <th></th>\n",
       "      <th>優惠價</th>\n",
       "      <th>機型</th>\n",
       "      <th>容量</th>\n",
       "      <th>month</th>\n",
       "      <th>price</th>\n",
       "      <th>$</th>\n",
       "    </tr>\n",
       "  </thead>\n",
       "  <tbody>\n",
       "    <tr>\n",
       "      <th>2</th>\n",
       "      <td>購機優惠價(元)</td>\n",
       "      <td>iPhone 12</td>\n",
       "      <td>64GB</td>\n",
       "      <td>48</td>\n",
       "      <td>999</td>\n",
       "      <td>13300</td>\n",
       "    </tr>\n",
       "    <tr>\n",
       "      <th>3</th>\n",
       "      <td>購機優惠價(元)</td>\n",
       "      <td>iPhone 12</td>\n",
       "      <td>64GB</td>\n",
       "      <td>48</td>\n",
       "      <td>1199</td>\n",
       "      <td>10800</td>\n",
       "    </tr>\n",
       "    <tr>\n",
       "      <th>4</th>\n",
       "      <td>購機優惠價(元)</td>\n",
       "      <td>iPhone 12</td>\n",
       "      <td>64GB</td>\n",
       "      <td>48</td>\n",
       "      <td>1399</td>\n",
       "      <td>0</td>\n",
       "    </tr>\n",
       "    <tr>\n",
       "      <th>5</th>\n",
       "      <td>購機優惠價(元)</td>\n",
       "      <td>iPhone 12</td>\n",
       "      <td>64GB</td>\n",
       "      <td>48</td>\n",
       "      <td>1599</td>\n",
       "      <td>0</td>\n",
       "    </tr>\n",
       "    <tr>\n",
       "      <th>6</th>\n",
       "      <td>購機優惠價(元)</td>\n",
       "      <td>iPhone 12</td>\n",
       "      <td>64GB</td>\n",
       "      <td>48</td>\n",
       "      <td>1799</td>\n",
       "      <td>0</td>\n",
       "    </tr>\n",
       "  </tbody>\n",
       "</table>\n",
       "</div>"
      ],
      "text/plain": [
       "        優惠價         機型    容量  month  price      $\n",
       "2  購機優惠價(元)  iPhone 12  64GB     48    999  13300\n",
       "3  購機優惠價(元)  iPhone 12  64GB     48   1199  10800\n",
       "4  購機優惠價(元)  iPhone 12  64GB     48   1399      0\n",
       "5  購機優惠價(元)  iPhone 12  64GB     48   1599      0\n",
       "6  購機優惠價(元)  iPhone 12  64GB     48   1799      0"
      ]
     },
     "execution_count": 426,
     "metadata": {},
     "output_type": "execute_result"
    }
   ],
   "source": [
    "df4.head()"
   ]
  },
  {
   "cell_type": "code",
   "execution_count": 427,
   "metadata": {},
   "outputs": [
    {
     "name": "stderr",
     "output_type": "stream",
     "text": [
      "/Users/davidchiu/.pyenv/versions/3.7.3/lib/python3.7/site-packages/ipykernel_launcher.py:1: SettingWithCopyWarning: \n",
      "A value is trying to be set on a copy of a slice from a DataFrame.\n",
      "Try using .loc[row_indexer,col_indexer] = value instead\n",
      "\n",
      "See the caveats in the documentation: https://pandas.pydata.org/pandas-docs/stable/user_guide/indexing.html#returning-a-view-versus-a-copy\n",
      "  \"\"\"Entry point for launching an IPython kernel.\n"
     ]
    }
   ],
   "source": [
    "df4['total_price'] = df4['month'] * df4['price'] + df4['$']"
   ]
  },
  {
   "cell_type": "code",
   "execution_count": 429,
   "metadata": {},
   "outputs": [
    {
     "data": {
      "text/html": [
       "<div>\n",
       "<style scoped>\n",
       "    .dataframe tbody tr th:only-of-type {\n",
       "        vertical-align: middle;\n",
       "    }\n",
       "\n",
       "    .dataframe tbody tr th {\n",
       "        vertical-align: top;\n",
       "    }\n",
       "\n",
       "    .dataframe thead th {\n",
       "        text-align: right;\n",
       "    }\n",
       "</style>\n",
       "<table border=\"1\" class=\"dataframe\">\n",
       "  <thead>\n",
       "    <tr style=\"text-align: right;\">\n",
       "      <th></th>\n",
       "      <th>優惠價</th>\n",
       "      <th>機型</th>\n",
       "      <th>容量</th>\n",
       "      <th>month</th>\n",
       "      <th>price</th>\n",
       "      <th>$</th>\n",
       "      <th>total_price</th>\n",
       "    </tr>\n",
       "  </thead>\n",
       "  <tbody>\n",
       "    <tr>\n",
       "      <th>144</th>\n",
       "      <td>購機優惠價(元)</td>\n",
       "      <td>iPhone 12</td>\n",
       "      <td>64GB</td>\n",
       "      <td>24</td>\n",
       "      <td>599</td>\n",
       "      <td>22300</td>\n",
       "      <td>36676</td>\n",
       "    </tr>\n",
       "    <tr>\n",
       "      <th>152</th>\n",
       "      <td>購機優惠價(元)</td>\n",
       "      <td>iPhone 12</td>\n",
       "      <td>128GB</td>\n",
       "      <td>24</td>\n",
       "      <td>599</td>\n",
       "      <td>23900</td>\n",
       "      <td>38276</td>\n",
       "    </tr>\n",
       "    <tr>\n",
       "      <th>96</th>\n",
       "      <td>購機優惠價(元)</td>\n",
       "      <td>iPhone 12</td>\n",
       "      <td>64GB</td>\n",
       "      <td>30</td>\n",
       "      <td>599</td>\n",
       "      <td>21300</td>\n",
       "      <td>39270</td>\n",
       "    </tr>\n",
       "    <tr>\n",
       "      <th>145</th>\n",
       "      <td>購機優惠價(元)</td>\n",
       "      <td>iPhone 12</td>\n",
       "      <td>64GB</td>\n",
       "      <td>24</td>\n",
       "      <td>799</td>\n",
       "      <td>21300</td>\n",
       "      <td>40476</td>\n",
       "    </tr>\n",
       "    <tr>\n",
       "      <th>104</th>\n",
       "      <td>購機優惠價(元)</td>\n",
       "      <td>iPhone 12</td>\n",
       "      <td>128GB</td>\n",
       "      <td>30</td>\n",
       "      <td>599</td>\n",
       "      <td>22900</td>\n",
       "      <td>40870</td>\n",
       "    </tr>\n",
       "    <tr>\n",
       "      <th>...</th>\n",
       "      <td>...</td>\n",
       "      <td>...</td>\n",
       "      <td>...</td>\n",
       "      <td>...</td>\n",
       "      <td>...</td>\n",
       "      <td>...</td>\n",
       "      <td>...</td>\n",
       "    </tr>\n",
       "    <tr>\n",
       "      <th>7</th>\n",
       "      <td>購機優惠價(元)</td>\n",
       "      <td>iPhone 12</td>\n",
       "      <td>64GB</td>\n",
       "      <td>48</td>\n",
       "      <td>2699</td>\n",
       "      <td>0</td>\n",
       "      <td>129552</td>\n",
       "    </tr>\n",
       "    <tr>\n",
       "      <th>31</th>\n",
       "      <td>購機優惠價(元)</td>\n",
       "      <td>iPhone 12 Pro</td>\n",
       "      <td>128GB</td>\n",
       "      <td>48</td>\n",
       "      <td>2699</td>\n",
       "      <td>0</td>\n",
       "      <td>129552</td>\n",
       "    </tr>\n",
       "    <tr>\n",
       "      <th>39</th>\n",
       "      <td>購機優惠價(元)</td>\n",
       "      <td>iPhone 12 Pro</td>\n",
       "      <td>256GB</td>\n",
       "      <td>48</td>\n",
       "      <td>2699</td>\n",
       "      <td>0</td>\n",
       "      <td>129552</td>\n",
       "    </tr>\n",
       "    <tr>\n",
       "      <th>15</th>\n",
       "      <td>購機優惠價(元)</td>\n",
       "      <td>iPhone 12</td>\n",
       "      <td>128GB</td>\n",
       "      <td>48</td>\n",
       "      <td>2699</td>\n",
       "      <td>0</td>\n",
       "      <td>129552</td>\n",
       "    </tr>\n",
       "    <tr>\n",
       "      <th>47</th>\n",
       "      <td>購機優惠價(元)</td>\n",
       "      <td>iPhone 12 Pro</td>\n",
       "      <td>512GB</td>\n",
       "      <td>48</td>\n",
       "      <td>2699</td>\n",
       "      <td>1800</td>\n",
       "      <td>131352</td>\n",
       "    </tr>\n",
       "  </tbody>\n",
       "</table>\n",
       "<p>180 rows × 7 columns</p>\n",
       "</div>"
      ],
      "text/plain": [
       "          優惠價             機型     容量  month  price      $  total_price\n",
       "144  購機優惠價(元)      iPhone 12   64GB     24    599  22300        36676\n",
       "152  購機優惠價(元)      iPhone 12  128GB     24    599  23900        38276\n",
       "96   購機優惠價(元)      iPhone 12   64GB     30    599  21300        39270\n",
       "145  購機優惠價(元)      iPhone 12   64GB     24    799  21300        40476\n",
       "104  購機優惠價(元)      iPhone 12  128GB     30    599  22900        40870\n",
       "..        ...            ...    ...    ...    ...    ...          ...\n",
       "7    購機優惠價(元)      iPhone 12   64GB     48   2699      0       129552\n",
       "31   購機優惠價(元)  iPhone 12 Pro  128GB     48   2699      0       129552\n",
       "39   購機優惠價(元)  iPhone 12 Pro  256GB     48   2699      0       129552\n",
       "15   購機優惠價(元)      iPhone 12  128GB     48   2699      0       129552\n",
       "47   購機優惠價(元)  iPhone 12 Pro  512GB     48   2699   1800       131352\n",
       "\n",
       "[180 rows x 7 columns]"
      ]
     },
     "execution_count": 429,
     "metadata": {},
     "output_type": "execute_result"
    }
   ],
   "source": [
    "df4.sort_values('total_price')"
   ]
  },
  {
   "cell_type": "code",
   "execution_count": null,
   "metadata": {},
   "outputs": [],
   "source": []
  }
 ],
 "metadata": {
  "kernelspec": {
   "display_name": "Python 3",
   "language": "python",
   "name": "python3"
  },
  "language_info": {
   "codemirror_mode": {
    "name": "ipython",
    "version": 3
   },
   "file_extension": ".py",
   "mimetype": "text/x-python",
   "name": "python",
   "nbconvert_exporter": "python",
   "pygments_lexer": "ipython3",
   "version": "3.7.3"
  }
 },
 "nbformat": 4,
 "nbformat_minor": 4
}
