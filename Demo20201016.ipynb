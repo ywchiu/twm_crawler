{
 "cells": [
  {
   "cell_type": "markdown",
   "metadata": {},
   "source": [
    "## Python Basic"
   ]
  },
  {
   "cell_type": "code",
   "execution_count": 2,
   "metadata": {},
   "outputs": [
    {
     "data": {
      "text/plain": [
       "5"
      ]
     },
     "execution_count": 2,
     "metadata": {},
     "output_type": "execute_result"
    }
   ],
   "source": [
    "a = 3\n",
    "b = 2\n",
    "a + b"
   ]
  },
  {
   "cell_type": "markdown",
   "metadata": {},
   "source": [
    "## GET"
   ]
  },
  {
   "cell_type": "code",
   "execution_count": 3,
   "metadata": {},
   "outputs": [
    {
     "data": {
      "text/plain": [
       "<Response [404]>"
      ]
     },
     "execution_count": 3,
     "metadata": {},
     "output_type": "execute_result"
    }
   ],
   "source": [
    "import requests\n",
    "res = requests.get('https://www.mobile01.com/topiclist.php?f=18')\n",
    "res"
   ]
  },
  {
   "cell_type": "code",
   "execution_count": 4,
   "metadata": {},
   "outputs": [
    {
     "data": {
      "text/plain": [
       "'<!doctype html><meta charset=\"utf-8\"><meta name=viewport content=\"width=device-width, initial-scale=1\"><title>404</title>404 Not Found'"
      ]
     },
     "execution_count": 4,
     "metadata": {},
     "output_type": "execute_result"
    }
   ],
   "source": [
    "res.text"
   ]
  },
  {
   "cell_type": "code",
   "execution_count": 5,
   "metadata": {},
   "outputs": [
    {
     "data": {
      "text/plain": [
       "<Response [200]>"
      ]
     },
     "execution_count": 5,
     "metadata": {},
     "output_type": "execute_result"
    }
   ],
   "source": [
    "headers = {\n",
    "   'user-agent': 'Mozilla/5.0 (Windows NT 10.0; Win64; x64) AppleWebKit/537.36 (KHTML, like Gecko) Chrome/86.0.4240.75 Safari/537.36' \n",
    "}\n",
    "import requests\n",
    "res = requests.get('https://www.mobile01.com/topiclist.php?f=18', headers = headers)\n",
    "res"
   ]
  },
  {
   "cell_type": "code",
   "execution_count": 7,
   "metadata": {},
   "outputs": [],
   "source": [
    "#res.text"
   ]
  },
  {
   "cell_type": "code",
   "execution_count": null,
   "metadata": {},
   "outputs": [],
   "source": [
    "headers = {\n",
    "   'user-agent': 'Mozilla/5.0 (Windows NT 10.0; Win64; x64) AppleWebKit/537.36 (KHTML, like Gecko) Chrome/86.0.4240.75 Safari/537.36' \n",
    "}\n",
    "import requests\n",
    "res = requests.get('https://www.mobile01.com/topiclist.php?f=18', headers = headers, verify = False)\n",
    "res"
   ]
  },
  {
   "cell_type": "markdown",
   "metadata": {},
   "source": [
    "## 練習題\n",
    "- https://iphone-eshop.cdn.hinet.net/Next.html"
   ]
  },
  {
   "cell_type": "code",
   "execution_count": 8,
   "metadata": {},
   "outputs": [
    {
     "data": {
      "text/plain": [
       "<Response [200]>"
      ]
     },
     "execution_count": 8,
     "metadata": {},
     "output_type": "execute_result"
    }
   ],
   "source": [
    "import requests\n",
    "res = requests.get('https://iphone-eshop.cdn.hinet.net/Next.html')\n",
    "res"
   ]
  },
  {
   "cell_type": "code",
   "execution_count": 10,
   "metadata": {},
   "outputs": [
    {
     "data": {
      "text/plain": [
       "'ISO-8859-1'"
      ]
     },
     "execution_count": 10,
     "metadata": {},
     "output_type": "execute_result"
    }
   ],
   "source": [
    "res.encoding"
   ]
  },
  {
   "cell_type": "code",
   "execution_count": 11,
   "metadata": {},
   "outputs": [],
   "source": [
    "res.encoding = 'utf-8'"
   ]
  },
  {
   "cell_type": "code",
   "execution_count": 13,
   "metadata": {},
   "outputs": [],
   "source": [
    "#res.text"
   ]
  },
  {
   "cell_type": "code",
   "execution_count": 14,
   "metadata": {},
   "outputs": [
    {
     "data": {
      "text/plain": [
       "<Response [200]>"
      ]
     },
     "execution_count": 14,
     "metadata": {},
     "output_type": "execute_result"
    }
   ],
   "source": [
    "import requests\n",
    "res = requests.get('https://www.largitdata.com')\n",
    "res"
   ]
  },
  {
   "cell_type": "code",
   "execution_count": 15,
   "metadata": {},
   "outputs": [
    {
     "data": {
      "text/plain": [
       "<Response [200]>"
      ]
     },
     "execution_count": 15,
     "metadata": {},
     "output_type": "execute_result"
    }
   ],
   "source": [
    "import requests\n",
    "headers = {'user-agent': 'Mozilla/5.0 (Windows NT 10.0; Win64; x64) AppleWebKit/537.36 (KHTML, like Gecko) Chrome/86.0.4240.75 Safari/537.36' \n",
    "}\n",
    "res = requests.get('https://www.largitdata.com', headers = headers)\n",
    "res"
   ]
  },
  {
   "cell_type": "code",
   "execution_count": 16,
   "metadata": {},
   "outputs": [
    {
     "data": {
      "text/plain": [
       "<Response [200]>"
      ]
     },
     "execution_count": 16,
     "metadata": {},
     "output_type": "execute_result"
    }
   ],
   "source": [
    "import requests\n",
    "headers = {'user-agent': 'I Love LargitData' \n",
    "}\n",
    "res = requests.get('https://www.largitdata.com', headers = headers)\n",
    "res"
   ]
  },
  {
   "cell_type": "code",
   "execution_count": 17,
   "metadata": {},
   "outputs": [
    {
     "data": {
      "text/plain": [
       "<Response [200]>"
      ]
     },
     "execution_count": 17,
     "metadata": {},
     "output_type": "execute_result"
    }
   ],
   "source": [
    "headers = {\n",
    "   'user-agent': 'I Love Mobile01' \n",
    "}\n",
    "import requests\n",
    "res = requests.get('https://www.mobile01.com/topiclist.php?f=18', headers = headers)\n",
    "res"
   ]
  },
  {
   "cell_type": "code",
   "execution_count": 19,
   "metadata": {},
   "outputs": [],
   "source": [
    "#res.text"
   ]
  },
  {
   "cell_type": "markdown",
   "metadata": {},
   "source": [
    "## PCHOME"
   ]
  },
  {
   "cell_type": "code",
   "execution_count": 21,
   "metadata": {},
   "outputs": [],
   "source": [
    "import requests\n",
    "res = requests.get('https://24h.pchome.com.tw/prod/DGBJBH-19009M7WS?fq=/S/DGBJII')\n",
    "#res.text"
   ]
  },
  {
   "cell_type": "markdown",
   "metadata": {},
   "source": [
    "## POST"
   ]
  },
  {
   "cell_type": "code",
   "execution_count": 22,
   "metadata": {},
   "outputs": [
    {
     "name": "stderr",
     "output_type": "stream",
     "text": [
      "/Users/davidchiu/.pyenv/versions/3.7.3/lib/python3.7/site-packages/urllib3/connectionpool.py:986: InsecureRequestWarning: Unverified HTTPS request is being made to host 'www.thsrc.com.tw'. Adding certificate verification is strongly advised. See: https://urllib3.readthedocs.io/en/latest/advanced-usage.html#ssl-warnings\n",
      "  InsecureRequestWarning,\n"
     ]
    }
   ],
   "source": [
    "import requests\n",
    "url = 'https://www.thsrc.com.tw/TimeTable/Search'\n",
    "payload = {\n",
    "'SearchType': 'S',\n",
    "'Lang': 'TW',\n",
    "'StartStation': 'TaiPei',\n",
    "'EndStation': 'XinZhu',\n",
    "'OutWardSearchDate': '2020/10/16',\n",
    "'OutWardSearchTime': '18:00',\n",
    "'ReturnSearchDate': '2020/10/16',\n",
    "'ReturnSearchTime': '11:00'\n",
    "}\n",
    "res = requests.post(url, data = payload, verify=False )"
   ]
  },
  {
   "cell_type": "code",
   "execution_count": 23,
   "metadata": {},
   "outputs": [
    {
     "data": {
      "text/plain": [
       "<Response [200]>"
      ]
     },
     "execution_count": 23,
     "metadata": {},
     "output_type": "execute_result"
    }
   ],
   "source": [
    "res"
   ]
  },
  {
   "cell_type": "code",
   "execution_count": 26,
   "metadata": {},
   "outputs": [],
   "source": [
    "jd = res.json()"
   ]
  },
  {
   "cell_type": "markdown",
   "metadata": {},
   "source": [
    "## 練習題\n",
    "請告訴我如果要存取 109年/10月/12日 的通訊網路業的資料，請問我該是使用GET 或是POST 那我又應該存取哪個連結?\n",
    "- https://www.twse.com.tw/zh/page/trading/exchange/MI_INDEX.html"
   ]
  },
  {
   "cell_type": "code",
   "execution_count": 27,
   "metadata": {},
   "outputs": [
    {
     "data": {
      "text/plain": [
       "<Response [200]>"
      ]
     },
     "execution_count": 27,
     "metadata": {},
     "output_type": "execute_result"
    }
   ],
   "source": [
    "import requests\n",
    "res = requests.get('https://www.twse.com.tw/exchangeReport/MI_INDEX?response=json&date=20201012&type=27&_=1602819572692')\n",
    "res"
   ]
  },
  {
   "cell_type": "code",
   "execution_count": 35,
   "metadata": {},
   "outputs": [
    {
     "data": {
      "text/plain": [
       "requests.models.Response"
      ]
     },
     "execution_count": 35,
     "metadata": {},
     "output_type": "execute_result"
    }
   ],
   "source": [
    "type(res)"
   ]
  },
  {
   "cell_type": "code",
   "execution_count": 29,
   "metadata": {},
   "outputs": [],
   "source": [
    "#res.text"
   ]
  },
  {
   "cell_type": "code",
   "execution_count": 31,
   "metadata": {},
   "outputs": [],
   "source": [
    "jd = res.json()"
   ]
  },
  {
   "cell_type": "markdown",
   "metadata": {},
   "source": [
    "## BeautifulSoup"
   ]
  },
  {
   "cell_type": "markdown",
   "metadata": {},
   "source": [
    "<html> \n",
    " <body> \n",
    " <h1 id=\"title\">Hello World</h1> \n",
    " <a href=\"#\" class=\"link\">This is link1</a> \n",
    " <a href=\"# link2\" class=\"link\">This is link2</a> \n",
    " </body> \n",
    " </html>"
   ]
  },
  {
   "cell_type": "code",
   "execution_count": 32,
   "metadata": {},
   "outputs": [],
   "source": [
    "from bs4 import BeautifulSoup\n",
    "\n",
    "html_sample = ''' \n",
    "<html> \n",
    " <body> \n",
    " <h1 id=\"title\">Hello World</h1> \n",
    " <a href=\"#\" class=\"link\">This is link1</a> \n",
    " <a href=\"# link2\" class=\"link\">This is link2</a> \n",
    " </body> \n",
    " </html>'''\n",
    "\n",
    "soup = BeautifulSoup(html_sample, 'lxml')\n",
    "\n"
   ]
  },
  {
   "cell_type": "code",
   "execution_count": 34,
   "metadata": {},
   "outputs": [
    {
     "data": {
      "text/plain": [
       "bs4.BeautifulSoup"
      ]
     },
     "execution_count": 34,
     "metadata": {},
     "output_type": "execute_result"
    }
   ],
   "source": [
    "type(soup)"
   ]
  },
  {
   "cell_type": "code",
   "execution_count": 33,
   "metadata": {},
   "outputs": [
    {
     "name": "stdout",
     "output_type": "stream",
     "text": [
      "\n",
      "\n",
      "Hello World\n",
      "This is link1\n",
      "This is link2\n",
      "\n",
      "\n"
     ]
    }
   ],
   "source": [
    "print(soup.text)"
   ]
  },
  {
   "cell_type": "code",
   "execution_count": 36,
   "metadata": {},
   "outputs": [
    {
     "data": {
      "text/plain": [
       "<h1 id=\"title\">Hello World</h1>"
      ]
     },
     "execution_count": 36,
     "metadata": {},
     "output_type": "execute_result"
    }
   ],
   "source": [
    "soup.select_one('h1')"
   ]
  },
  {
   "cell_type": "code",
   "execution_count": 37,
   "metadata": {},
   "outputs": [
    {
     "data": {
      "text/plain": [
       "'Hello World'"
      ]
     },
     "execution_count": 37,
     "metadata": {},
     "output_type": "execute_result"
    }
   ],
   "source": [
    "soup.select_one('h1').text"
   ]
  },
  {
   "cell_type": "code",
   "execution_count": 38,
   "metadata": {},
   "outputs": [
    {
     "data": {
      "text/plain": [
       "<a class=\"link\" href=\"#\">This is link1</a>"
      ]
     },
     "execution_count": 38,
     "metadata": {},
     "output_type": "execute_result"
    }
   ],
   "source": [
    "soup.select_one('a')"
   ]
  },
  {
   "cell_type": "code",
   "execution_count": 39,
   "metadata": {},
   "outputs": [
    {
     "data": {
      "text/plain": [
       "[<a class=\"link\" href=\"#\">This is link1</a>,\n",
       " <a class=\"link\" href=\"# link2\">This is link2</a>]"
      ]
     },
     "execution_count": 39,
     "metadata": {},
     "output_type": "execute_result"
    }
   ],
   "source": [
    "soup.select('a')"
   ]
  },
  {
   "cell_type": "code",
   "execution_count": 40,
   "metadata": {},
   "outputs": [],
   "source": [
    "alink = soup.select('a')"
   ]
  },
  {
   "cell_type": "code",
   "execution_count": 41,
   "metadata": {},
   "outputs": [
    {
     "data": {
      "text/plain": [
       "<a class=\"link\" href=\"#\">This is link1</a>"
      ]
     },
     "execution_count": 41,
     "metadata": {},
     "output_type": "execute_result"
    }
   ],
   "source": [
    "alink[0]"
   ]
  },
  {
   "cell_type": "code",
   "execution_count": 42,
   "metadata": {},
   "outputs": [
    {
     "data": {
      "text/plain": [
       "'This is link1'"
      ]
     },
     "execution_count": 42,
     "metadata": {},
     "output_type": "execute_result"
    }
   ],
   "source": [
    "alink[0].text"
   ]
  },
  {
   "cell_type": "code",
   "execution_count": 43,
   "metadata": {},
   "outputs": [
    {
     "data": {
      "text/plain": [
       "<a class=\"link\" href=\"# link2\">This is link2</a>"
      ]
     },
     "execution_count": 43,
     "metadata": {},
     "output_type": "execute_result"
    }
   ],
   "source": [
    "alink[1]"
   ]
  },
  {
   "cell_type": "code",
   "execution_count": 44,
   "metadata": {},
   "outputs": [
    {
     "data": {
      "text/plain": [
       "'This is link2'"
      ]
     },
     "execution_count": 44,
     "metadata": {},
     "output_type": "execute_result"
    }
   ],
   "source": [
    "alink[1].text"
   ]
  },
  {
   "cell_type": "code",
   "execution_count": 46,
   "metadata": {},
   "outputs": [
    {
     "name": "stdout",
     "output_type": "stream",
     "text": [
      "This is link1\n",
      "This is link2\n"
     ]
    }
   ],
   "source": [
    "for link in alink:\n",
    "    #print(link)\n",
    "    print(link.text)"
   ]
  },
  {
   "cell_type": "code",
   "execution_count": 47,
   "metadata": {},
   "outputs": [
    {
     "data": {
      "text/plain": [
       "<h1 id=\"title\">Hello World</h1>"
      ]
     },
     "execution_count": 47,
     "metadata": {},
     "output_type": "execute_result"
    }
   ],
   "source": [
    "# id => #\n",
    "soup.select_one('#title')"
   ]
  },
  {
   "cell_type": "code",
   "execution_count": 48,
   "metadata": {},
   "outputs": [
    {
     "data": {
      "text/plain": [
       "<h1 id=\"title\">Hello World</h1>"
      ]
     },
     "execution_count": 48,
     "metadata": {},
     "output_type": "execute_result"
    }
   ],
   "source": [
    "soup.select_one('h1#title')"
   ]
  },
  {
   "cell_type": "code",
   "execution_count": 49,
   "metadata": {},
   "outputs": [
    {
     "data": {
      "text/plain": [
       "<h1 id=\"title\">Hello World</h1>"
      ]
     },
     "execution_count": 49,
     "metadata": {},
     "output_type": "execute_result"
    }
   ],
   "source": [
    "soup.select_one('body #title')"
   ]
  },
  {
   "cell_type": "code",
   "execution_count": 50,
   "metadata": {},
   "outputs": [
    {
     "data": {
      "text/plain": [
       "<h1 id=\"title\">Hello World</h1>"
      ]
     },
     "execution_count": 50,
     "metadata": {},
     "output_type": "execute_result"
    }
   ],
   "source": [
    "soup.select_one('body > #title')"
   ]
  },
  {
   "cell_type": "markdown",
   "metadata": {},
   "source": [
    "## CSS\n",
    "- https://www.w3schools.com/css/"
   ]
  },
  {
   "cell_type": "code",
   "execution_count": 51,
   "metadata": {},
   "outputs": [
    {
     "data": {
      "text/plain": [
       "[<a class=\"link\" href=\"#\">This is link1</a>,\n",
       " <a class=\"link\" href=\"# link2\">This is link2</a>]"
      ]
     },
     "execution_count": 51,
     "metadata": {},
     "output_type": "execute_result"
    }
   ],
   "source": [
    "soup.select('a')"
   ]
  },
  {
   "cell_type": "code",
   "execution_count": 52,
   "metadata": {},
   "outputs": [
    {
     "data": {
      "text/plain": [
       "[<a class=\"link\" href=\"#\">This is link1</a>,\n",
       " <a class=\"link\" href=\"# link2\">This is link2</a>]"
      ]
     },
     "execution_count": 52,
     "metadata": {},
     "output_type": "execute_result"
    }
   ],
   "source": [
    "# class => . \n",
    "soup.select('.link')"
   ]
  },
  {
   "cell_type": "code",
   "execution_count": 53,
   "metadata": {},
   "outputs": [
    {
     "data": {
      "text/plain": [
       "[<a class=\"link\" href=\"#\">This is link1</a>,\n",
       " <a class=\"link\" href=\"# link2\">This is link2</a>]"
      ]
     },
     "execution_count": 53,
     "metadata": {},
     "output_type": "execute_result"
    }
   ],
   "source": [
    "soup.select('a.link')"
   ]
  },
  {
   "cell_type": "code",
   "execution_count": 54,
   "metadata": {},
   "outputs": [
    {
     "data": {
      "text/plain": [
       "[<a class=\"link\" href=\"#\">This is link1</a>,\n",
       " <a class=\"link\" href=\"# link2\">This is link2</a>]"
      ]
     },
     "execution_count": 54,
     "metadata": {},
     "output_type": "execute_result"
    }
   ],
   "source": [
    "soup.select('body a.link')"
   ]
  },
  {
   "cell_type": "code",
   "execution_count": 55,
   "metadata": {},
   "outputs": [
    {
     "data": {
      "text/plain": [
       "[<a class=\"link\" href=\"#\">This is link1</a>,\n",
       " <a class=\"link\" href=\"# link2\">This is link2</a>]"
      ]
     },
     "execution_count": 55,
     "metadata": {},
     "output_type": "execute_result"
    }
   ],
   "source": [
    "soup.select('body > a.link')"
   ]
  },
  {
   "cell_type": "code",
   "execution_count": 56,
   "metadata": {},
   "outputs": [
    {
     "name": "stdout",
     "output_type": "stream",
     "text": [
      "This is link1\n",
      "This is link2\n"
     ]
    }
   ],
   "source": [
    "for link in soup.select('a'):\n",
    "    print(link.text)"
   ]
  },
  {
   "cell_type": "code",
   "execution_count": 57,
   "metadata": {},
   "outputs": [
    {
     "name": "stdout",
     "output_type": "stream",
     "text": [
      "#\n",
      "# link2\n"
     ]
    }
   ],
   "source": [
    "for link in soup.select('a'):\n",
    "    print(link.get('href'))"
   ]
  },
  {
   "cell_type": "markdown",
   "metadata": {},
   "source": [
    "## Mobile01 基本爬蟲"
   ]
  },
  {
   "cell_type": "code",
   "execution_count": 59,
   "metadata": {},
   "outputs": [
    {
     "name": "stderr",
     "output_type": "stream",
     "text": [
      "/Users/davidchiu/.pyenv/versions/3.7.3/lib/python3.7/site-packages/urllib3/connectionpool.py:986: InsecureRequestWarning: Unverified HTTPS request is being made to host 'www.mobile01.com'. Adding certificate verification is strongly advised. See: https://urllib3.readthedocs.io/en/latest/advanced-usage.html#ssl-warnings\n",
      "  InsecureRequestWarning,\n"
     ]
    },
    {
     "data": {
      "text/plain": [
       "<Response [200]>"
      ]
     },
     "execution_count": 59,
     "metadata": {},
     "output_type": "execute_result"
    }
   ],
   "source": [
    "import requests\n",
    "headers = {'user-agent': 'Mozilla/5.0 (Windows NT 10.0; Win64; x64) AppleWebKit/537.36 (KHTML, like Gecko) Chrome/86.0.4240.75 Safari/537.36'}\n",
    "res = requests.get('https://www.mobile01.com/topiclist.php?f=18', headers = headers, verify = False)\n",
    "res"
   ]
  },
  {
   "cell_type": "code",
   "execution_count": 61,
   "metadata": {},
   "outputs": [],
   "source": [
    "from bs4 import BeautifulSoup\n",
    "soup = BeautifulSoup(res.text, 'lxml')"
   ]
  },
  {
   "cell_type": "code",
   "execution_count": 62,
   "metadata": {},
   "outputs": [
    {
     "data": {
      "text/plain": [
       "<h1 class=\"t1\">電信業者與資費</h1>"
      ]
     },
     "execution_count": 62,
     "metadata": {},
     "output_type": "execute_result"
    }
   ],
   "source": [
    "soup.select_one('h1.t1')"
   ]
  },
  {
   "cell_type": "code",
   "execution_count": 63,
   "metadata": {},
   "outputs": [
    {
     "data": {
      "text/plain": [
       "'電信業者與資費'"
      ]
     },
     "execution_count": 63,
     "metadata": {},
     "output_type": "execute_result"
    }
   ],
   "source": [
    "soup.select_one('h1.t1').text"
   ]
  },
  {
   "cell_type": "code",
   "execution_count": 64,
   "metadata": {},
   "outputs": [
    {
     "data": {
      "text/plain": [
       "'\\n<a href=\"topicdetail.php?f=18&amp;t=6212622\" class=\"c-link u-ellipsis\">今年的 5G iphone 亞太的 5G mmwave 無法使用了⋯⋯😭</a>\\n'"
      ]
     },
     "execution_count": 64,
     "metadata": {},
     "output_type": "execute_result"
    }
   ],
   "source": [
    "'''\n",
    "<a href=\"topicdetail.php?f=18&amp;t=6212622\" class=\"c-link u-ellipsis\">今年的 5G iphone 亞太的 5G mmwave 無法使用了⋯⋯😭</a>\n",
    "'''"
   ]
  },
  {
   "cell_type": "code",
   "execution_count": 66,
   "metadata": {},
   "outputs": [
    {
     "name": "stdout",
     "output_type": "stream",
     "text": [
      "我被台灣之星陰了嗎，喬好免違約金解約，但最後一期出帳卻多了3000\n",
      "necomata\n",
      "riklin\n",
      "[消失的收據] 幫備份：這版有人被告公然侮辱了。開放登記免費雞排50份\n",
      "美酒斗十千\n",
      "01010100101\n",
      "今年的 5G iphone 亞太的 5G mmwave 無法使用了⋯⋯😭\n",
      "法客\n",
      "Ayumi_2004\n",
      "連手機熱點的設備能跑到100M嗎\n",
      "樂觀樂觀\n",
      "melody520520\n",
      "台哥大預付卡也是會自動延長的\n",
      "Elvis-EVO\n",
      "melody520520\n",
      "【分享】所以哪個通路買iPhone12卡便宜?\n",
      "蒂理珍妮\n",
      "melody520520\n",
      "4G的SIM卡用在3G的手機上可以通話及上網嗎?\n",
      "台灣NO1加油\n",
      "陌生的路\n",
      "有人會想辦嗎?台星599真不值，辦了會被笑吧?\n",
      "真的很抱歉\n",
      "yesstem22\n",
      "亞太電信 10/22 將宣佈 5G 正式開台\n",
      "Arthur0224\n",
      "Arthur0224\n",
      "<已解決>請問：不會打電話、上網，單純收認證簡訊用，目前哪種最便宜？\n",
      "nwcs\n",
      "chiou52\n",
      "5G時代來臨 wifi怎麼辦\n",
      "ally870506\n",
      "Auroras777\n",
      "台灣大哥大 優惠方案(攜碼)\n",
      "紫夏嵐\n",
      "star89095\n",
      "亞太這麼早就在衝1111了😳\n",
      "法客\n",
      "ty0918\n",
      "大家都還再等雙11優惠？\n",
      "小鬼☆\n",
      "陳鎧元\n",
      "現在中華4G 699退傭 最高還可以退多少\n",
      "python95613\n",
      "十月秋天\n",
      "中華電信母親節方案499即將到期,請問到期的朋友有找到代替方案了嗎?\n",
      "obicome\n",
      "bob0123\n",
      "中華 VS 遠傳 Speedtest PK\n",
      "LeeFred\n",
      "哀鳳十\n",
      "中華電信預付卡未儲值被停掉變空號疑問\n",
      "時尚的芭樂\n",
      "時尚的芭樂\n",
      "QQ帳號真的難申請(2019/9/19~09/25已解決)\n",
      "luck100joy\n",
      "next12345\n",
      "亞太新朋友資費\n",
      "若含哥哥\n",
      "125475368\n",
      "台灣之星店員說 2020 不會有雙11優惠4G方案\n",
      "mobile2009\n",
      "咖啡只加糖\n",
      "台星iPhone 12預約優惠 AirPods Pro半價\n",
      "glenn209\n",
      "W1025\n",
      "台哥大299吃到飽留客方案!\n",
      "阿智1517\n",
      "JAIN1975\n",
      "電信門號退租，員工扣業績？\n",
      "空巴A380\n",
      "rtype13\n",
      "台灣會跟進韓國退掉5G網路,回頭使用4G網路的風潮嗎？\n",
      "龜軟趴火\n",
      "Tom_Deng\n",
      "神奇的遠傳活動簡訊\n",
      "試用門號辦的試用帳號\n",
      "grason00\n",
      "期待699月租零元i12\n",
      "in30000\n",
      "cwc\n",
      "亞太期間限定88資費\n",
      "愛豬椅喔\n",
      "nwcs\n",
      "遠傳5G熱點分享2000G????\n",
      "konnia\n",
      "konnia\n",
      "亞太11又出現了\n",
      "dys289\n",
      "KOBE24LAKERS\n"
     ]
    }
   ],
   "source": [
    "for a in soup.select('a.c-link.u-ellipsis'):\n",
    "    print(a.text)"
   ]
  },
  {
   "cell_type": "code",
   "execution_count": 67,
   "metadata": {},
   "outputs": [
    {
     "name": "stdout",
     "output_type": "stream",
     "text": [
      "我被台灣之星陰了嗎，喬好免違約金解約，但最後一期出帳卻多了3000\n",
      "[消失的收據] 幫備份：這版有人被告公然侮辱了。開放登記免費雞排50份\n",
      "今年的 5G iphone 亞太的 5G mmwave 無法使用了⋯⋯😭\n",
      "連手機熱點的設備能跑到100M嗎\n",
      "台哥大預付卡也是會自動延長的\n",
      "【分享】所以哪個通路買iPhone12卡便宜?\n",
      "4G的SIM卡用在3G的手機上可以通話及上網嗎?\n",
      "有人會想辦嗎?台星599真不值，辦了會被笑吧?\n",
      "亞太電信 10/22 將宣佈 5G 正式開台\n",
      "<已解決>請問：不會打電話、上網，單純收認證簡訊用，目前哪種最便宜？\n",
      "5G時代來臨 wifi怎麼辦\n",
      "台灣大哥大 優惠方案(攜碼)\n",
      "亞太這麼早就在衝1111了😳\n",
      "大家都還再等雙11優惠？\n",
      "現在中華4G 699退傭 最高還可以退多少\n",
      "中華電信母親節方案499即將到期,請問到期的朋友有找到代替方案了嗎?\n",
      "中華 VS 遠傳 Speedtest PK\n",
      "中華電信預付卡未儲值被停掉變空號疑問\n",
      "QQ帳號真的難申請(2019/9/19~09/25已解決)\n",
      "亞太新朋友資費\n",
      "台灣之星店員說 2020 不會有雙11優惠4G方案\n",
      "台星iPhone 12預約優惠 AirPods Pro半價\n",
      "台哥大299吃到飽留客方案!\n",
      "電信門號退租，員工扣業績？\n",
      "台灣會跟進韓國退掉5G網路,回頭使用4G網路的風潮嗎？\n",
      "神奇的遠傳活動簡訊\n",
      "期待699月租零元i12\n",
      "亞太期間限定88資費\n",
      "遠傳5G熱點分享2000G????\n",
      "亞太11又出現了\n"
     ]
    }
   ],
   "source": [
    "for a in soup.select('.c-listTableTd__title a.c-link.u-ellipsis'):\n",
    "    print(a.text)"
   ]
  },
  {
   "cell_type": "code",
   "execution_count": 68,
   "metadata": {},
   "outputs": [
    {
     "data": {
      "text/plain": [
       "<h1 class=\"t1\">電信業者與資費</h1>"
      ]
     },
     "execution_count": 68,
     "metadata": {},
     "output_type": "execute_result"
    }
   ],
   "source": [
    "soup.select_one('.t1')"
   ]
  },
  {
   "cell_type": "code",
   "execution_count": 69,
   "metadata": {},
   "outputs": [
    {
     "data": {
      "text/plain": [
       "'電信業者與資費'"
      ]
     },
     "execution_count": 69,
     "metadata": {},
     "output_type": "execute_result"
    }
   ],
   "source": [
    "soup.select_one('.t1').text"
   ]
  },
  {
   "cell_type": "code",
   "execution_count": 70,
   "metadata": {},
   "outputs": [
    {
     "name": "stdout",
     "output_type": "stream",
     "text": [
      "我被台灣之星陰了嗎，喬好免違約金解約，但最後一期出帳卻多了3000\n",
      "[消失的收據] 幫備份：這版有人被告公然侮辱了。開放登記免費雞排50份\n",
      "今年的 5G iphone 亞太的 5G mmwave 無法使用了⋯⋯😭\n",
      "連手機熱點的設備能跑到100M嗎\n",
      "台哥大預付卡也是會自動延長的\n",
      "【分享】所以哪個通路買iPhone12卡便宜?\n",
      "4G的SIM卡用在3G的手機上可以通話及上網嗎?\n",
      "有人會想辦嗎?台星599真不值，辦了會被笑吧?\n",
      "亞太電信 10/22 將宣佈 5G 正式開台\n",
      "<已解決>請問：不會打電話、上網，單純收認證簡訊用，目前哪種最便宜？\n",
      "5G時代來臨 wifi怎麼辦\n",
      "台灣大哥大 優惠方案(攜碼)\n",
      "亞太這麼早就在衝1111了😳\n",
      "大家都還再等雙11優惠？\n",
      "現在中華4G 699退傭 最高還可以退多少\n",
      "中華電信母親節方案499即將到期,請問到期的朋友有找到代替方案了嗎?\n",
      "中華 VS 遠傳 Speedtest PK\n",
      "中華電信預付卡未儲值被停掉變空號疑問\n",
      "QQ帳號真的難申請(2019/9/19~09/25已解決)\n",
      "亞太新朋友資費\n",
      "台灣之星店員說 2020 不會有雙11優惠4G方案\n",
      "台星iPhone 12預約優惠 AirPods Pro半價\n",
      "台哥大299吃到飽留客方案!\n",
      "電信門號退租，員工扣業績？\n",
      "台灣會跟進韓國退掉5G網路,回頭使用4G網路的風潮嗎？\n",
      "神奇的遠傳活動簡訊\n",
      "期待699月租零元i12\n",
      "亞太期間限定88資費\n",
      "遠傳5G熱點分享2000G????\n",
      "亞太11又出現了\n"
     ]
    }
   ],
   "source": [
    "for link in soup.select('.c-listTableTd__title .u-ellipsis'):\n",
    "    print(link.text)"
   ]
  },
  {
   "cell_type": "code",
   "execution_count": 71,
   "metadata": {},
   "outputs": [
    {
     "name": "stdout",
     "output_type": "stream",
     "text": [
      "10\n",
      "193\n",
      "25\n",
      "13\n",
      "12\n",
      "4\n",
      "19\n",
      "2\n",
      "0\n",
      "26\n",
      "5\n",
      "458\n",
      "32\n",
      "9\n",
      "7\n",
      "38\n",
      "5\n",
      "16\n",
      "120\n",
      "34\n",
      "86\n",
      "10\n",
      "737\n",
      "32\n",
      "24\n",
      "7\n",
      "4\n",
      "26\n",
      "0\n",
      "170\n"
     ]
    }
   ],
   "source": [
    "for a in soup.select('.o-fMini'):\n",
    "    print(a.text)"
   ]
  },
  {
   "cell_type": "markdown",
   "metadata": {},
   "source": [
    "## 練習題\n",
    "- https://www.sogi.com.tw/article_categories/%E7%94%A2%E6%A5%AD%E5%8B%95%E6%85%8B/206"
   ]
  },
  {
   "cell_type": "code",
   "execution_count": null,
   "metadata": {},
   "outputs": [],
   "source": []
  }
 ],
 "metadata": {
  "kernelspec": {
   "display_name": "Python 3",
   "language": "python",
   "name": "python3"
  },
  "language_info": {
   "codemirror_mode": {
    "name": "ipython",
    "version": 3
   },
   "file_extension": ".py",
   "mimetype": "text/x-python",
   "name": "python",
   "nbconvert_exporter": "python",
   "pygments_lexer": "ipython3",
   "version": "3.7.3"
  }
 },
 "nbformat": 4,
 "nbformat_minor": 4
}
