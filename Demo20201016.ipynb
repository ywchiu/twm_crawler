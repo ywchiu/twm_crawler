{
 "cells": [
  {
   "cell_type": "markdown",
   "metadata": {},
   "source": [
    "## Python Basic"
   ]
  },
  {
   "cell_type": "code",
   "execution_count": 2,
   "metadata": {},
   "outputs": [
    {
     "data": {
      "text/plain": [
       "5"
      ]
     },
     "execution_count": 2,
     "metadata": {},
     "output_type": "execute_result"
    }
   ],
   "source": [
    "a = 3\n",
    "b = 2\n",
    "a + b"
   ]
  },
  {
   "cell_type": "markdown",
   "metadata": {},
   "source": [
    "## GET"
   ]
  },
  {
   "cell_type": "code",
   "execution_count": 3,
   "metadata": {},
   "outputs": [
    {
     "data": {
      "text/plain": [
       "<Response [404]>"
      ]
     },
     "execution_count": 3,
     "metadata": {},
     "output_type": "execute_result"
    }
   ],
   "source": [
    "import requests\n",
    "res = requests.get('https://www.mobile01.com/topiclist.php?f=18')\n",
    "res"
   ]
  },
  {
   "cell_type": "code",
   "execution_count": 4,
   "metadata": {},
   "outputs": [
    {
     "data": {
      "text/plain": [
       "'<!doctype html><meta charset=\"utf-8\"><meta name=viewport content=\"width=device-width, initial-scale=1\"><title>404</title>404 Not Found'"
      ]
     },
     "execution_count": 4,
     "metadata": {},
     "output_type": "execute_result"
    }
   ],
   "source": [
    "res.text"
   ]
  },
  {
   "cell_type": "code",
   "execution_count": 5,
   "metadata": {},
   "outputs": [
    {
     "data": {
      "text/plain": [
       "<Response [200]>"
      ]
     },
     "execution_count": 5,
     "metadata": {},
     "output_type": "execute_result"
    }
   ],
   "source": [
    "headers = {\n",
    "   'user-agent': 'Mozilla/5.0 (Windows NT 10.0; Win64; x64) AppleWebKit/537.36 (KHTML, like Gecko) Chrome/86.0.4240.75 Safari/537.36' \n",
    "}\n",
    "import requests\n",
    "res = requests.get('https://www.mobile01.com/topiclist.php?f=18', headers = headers)\n",
    "res"
   ]
  },
  {
   "cell_type": "code",
   "execution_count": 7,
   "metadata": {},
   "outputs": [],
   "source": [
    "#res.text"
   ]
  },
  {
   "cell_type": "code",
   "execution_count": null,
   "metadata": {},
   "outputs": [],
   "source": [
    "headers = {\n",
    "   'user-agent': 'Mozilla/5.0 (Windows NT 10.0; Win64; x64) AppleWebKit/537.36 (KHTML, like Gecko) Chrome/86.0.4240.75 Safari/537.36' \n",
    "}\n",
    "import requests\n",
    "res = requests.get('https://www.mobile01.com/topiclist.php?f=18', headers = headers, verify = False)\n",
    "res"
   ]
  },
  {
   "cell_type": "markdown",
   "metadata": {},
   "source": [
    "## 練習題\n",
    "- https://iphone-eshop.cdn.hinet.net/Next.html"
   ]
  },
  {
   "cell_type": "code",
   "execution_count": 8,
   "metadata": {},
   "outputs": [
    {
     "data": {
      "text/plain": [
       "<Response [200]>"
      ]
     },
     "execution_count": 8,
     "metadata": {},
     "output_type": "execute_result"
    }
   ],
   "source": [
    "import requests\n",
    "res = requests.get('https://iphone-eshop.cdn.hinet.net/Next.html')\n",
    "res"
   ]
  },
  {
   "cell_type": "code",
   "execution_count": 10,
   "metadata": {},
   "outputs": [
    {
     "data": {
      "text/plain": [
       "'ISO-8859-1'"
      ]
     },
     "execution_count": 10,
     "metadata": {},
     "output_type": "execute_result"
    }
   ],
   "source": [
    "res.encoding"
   ]
  },
  {
   "cell_type": "code",
   "execution_count": 11,
   "metadata": {},
   "outputs": [],
   "source": [
    "res.encoding = 'utf-8'"
   ]
  },
  {
   "cell_type": "code",
   "execution_count": 13,
   "metadata": {},
   "outputs": [],
   "source": [
    "#res.text"
   ]
  },
  {
   "cell_type": "code",
   "execution_count": 14,
   "metadata": {},
   "outputs": [
    {
     "data": {
      "text/plain": [
       "<Response [200]>"
      ]
     },
     "execution_count": 14,
     "metadata": {},
     "output_type": "execute_result"
    }
   ],
   "source": [
    "import requests\n",
    "res = requests.get('https://www.largitdata.com')\n",
    "res"
   ]
  },
  {
   "cell_type": "code",
   "execution_count": 15,
   "metadata": {},
   "outputs": [
    {
     "data": {
      "text/plain": [
       "<Response [200]>"
      ]
     },
     "execution_count": 15,
     "metadata": {},
     "output_type": "execute_result"
    }
   ],
   "source": [
    "import requests\n",
    "headers = {'user-agent': 'Mozilla/5.0 (Windows NT 10.0; Win64; x64) AppleWebKit/537.36 (KHTML, like Gecko) Chrome/86.0.4240.75 Safari/537.36' \n",
    "}\n",
    "res = requests.get('https://www.largitdata.com', headers = headers)\n",
    "res"
   ]
  },
  {
   "cell_type": "code",
   "execution_count": 16,
   "metadata": {},
   "outputs": [
    {
     "data": {
      "text/plain": [
       "<Response [200]>"
      ]
     },
     "execution_count": 16,
     "metadata": {},
     "output_type": "execute_result"
    }
   ],
   "source": [
    "import requests\n",
    "headers = {'user-agent': 'I Love LargitData' \n",
    "}\n",
    "res = requests.get('https://www.largitdata.com', headers = headers)\n",
    "res"
   ]
  },
  {
   "cell_type": "code",
   "execution_count": 17,
   "metadata": {},
   "outputs": [
    {
     "data": {
      "text/plain": [
       "<Response [200]>"
      ]
     },
     "execution_count": 17,
     "metadata": {},
     "output_type": "execute_result"
    }
   ],
   "source": [
    "headers = {\n",
    "   'user-agent': 'I Love Mobile01' \n",
    "}\n",
    "import requests\n",
    "res = requests.get('https://www.mobile01.com/topiclist.php?f=18', headers = headers)\n",
    "res"
   ]
  },
  {
   "cell_type": "code",
   "execution_count": 19,
   "metadata": {},
   "outputs": [],
   "source": [
    "#res.text"
   ]
  },
  {
   "cell_type": "markdown",
   "metadata": {},
   "source": [
    "## PCHOME"
   ]
  },
  {
   "cell_type": "code",
   "execution_count": 21,
   "metadata": {},
   "outputs": [],
   "source": [
    "import requests\n",
    "res = requests.get('https://24h.pchome.com.tw/prod/DGBJBH-19009M7WS?fq=/S/DGBJII')\n",
    "#res.text"
   ]
  },
  {
   "cell_type": "markdown",
   "metadata": {},
   "source": [
    "## POST"
   ]
  },
  {
   "cell_type": "code",
   "execution_count": 22,
   "metadata": {},
   "outputs": [
    {
     "name": "stderr",
     "output_type": "stream",
     "text": [
      "/Users/davidchiu/.pyenv/versions/3.7.3/lib/python3.7/site-packages/urllib3/connectionpool.py:986: InsecureRequestWarning: Unverified HTTPS request is being made to host 'www.thsrc.com.tw'. Adding certificate verification is strongly advised. See: https://urllib3.readthedocs.io/en/latest/advanced-usage.html#ssl-warnings\n",
      "  InsecureRequestWarning,\n"
     ]
    }
   ],
   "source": [
    "import requests\n",
    "url = 'https://www.thsrc.com.tw/TimeTable/Search'\n",
    "payload = {\n",
    "'SearchType': 'S',\n",
    "'Lang': 'TW',\n",
    "'StartStation': 'TaiPei',\n",
    "'EndStation': 'XinZhu',\n",
    "'OutWardSearchDate': '2020/10/16',\n",
    "'OutWardSearchTime': '18:00',\n",
    "'ReturnSearchDate': '2020/10/16',\n",
    "'ReturnSearchTime': '11:00'\n",
    "}\n",
    "res = requests.post(url, data = payload, verify=False )"
   ]
  },
  {
   "cell_type": "code",
   "execution_count": 23,
   "metadata": {},
   "outputs": [
    {
     "data": {
      "text/plain": [
       "<Response [200]>"
      ]
     },
     "execution_count": 23,
     "metadata": {},
     "output_type": "execute_result"
    }
   ],
   "source": [
    "res"
   ]
  },
  {
   "cell_type": "code",
   "execution_count": 26,
   "metadata": {},
   "outputs": [],
   "source": [
    "jd = res.json()"
   ]
  },
  {
   "cell_type": "markdown",
   "metadata": {},
   "source": [
    "## 練習題\n",
    "請告訴我如果要存取 109年/10月/12日 的通訊網路業的資料，請問我該是使用GET 或是POST 那我又應該存取哪個連結?\n",
    "- https://www.twse.com.tw/zh/page/trading/exchange/MI_INDEX.html"
   ]
  },
  {
   "cell_type": "code",
   "execution_count": 27,
   "metadata": {},
   "outputs": [
    {
     "data": {
      "text/plain": [
       "<Response [200]>"
      ]
     },
     "execution_count": 27,
     "metadata": {},
     "output_type": "execute_result"
    }
   ],
   "source": [
    "import requests\n",
    "res = requests.get('https://www.twse.com.tw/exchangeReport/MI_INDEX?response=json&date=20201012&type=27&_=1602819572692')\n",
    "res"
   ]
  },
  {
   "cell_type": "code",
   "execution_count": 35,
   "metadata": {},
   "outputs": [
    {
     "data": {
      "text/plain": [
       "requests.models.Response"
      ]
     },
     "execution_count": 35,
     "metadata": {},
     "output_type": "execute_result"
    }
   ],
   "source": [
    "type(res)"
   ]
  },
  {
   "cell_type": "code",
   "execution_count": 29,
   "metadata": {},
   "outputs": [],
   "source": [
    "#res.text"
   ]
  },
  {
   "cell_type": "code",
   "execution_count": 31,
   "metadata": {},
   "outputs": [],
   "source": [
    "jd = res.json()"
   ]
  },
  {
   "cell_type": "markdown",
   "metadata": {},
   "source": [
    "## BeautifulSoup"
   ]
  },
  {
   "cell_type": "markdown",
   "metadata": {},
   "source": [
    "<html> \n",
    " <body> \n",
    " <h1 id=\"title\">Hello World</h1> \n",
    " <a href=\"#\" class=\"link\">This is link1</a> \n",
    " <a href=\"# link2\" class=\"link\">This is link2</a> \n",
    " </body> \n",
    " </html>"
   ]
  },
  {
   "cell_type": "code",
   "execution_count": 32,
   "metadata": {},
   "outputs": [],
   "source": [
    "from bs4 import BeautifulSoup\n",
    "\n",
    "html_sample = ''' \n",
    "<html> \n",
    " <body> \n",
    " <h1 id=\"title\">Hello World</h1> \n",
    " <a href=\"#\" class=\"link\">This is link1</a> \n",
    " <a href=\"# link2\" class=\"link\">This is link2</a> \n",
    " </body> \n",
    " </html>'''\n",
    "\n",
    "soup = BeautifulSoup(html_sample, 'lxml')\n",
    "\n"
   ]
  },
  {
   "cell_type": "code",
   "execution_count": 34,
   "metadata": {},
   "outputs": [
    {
     "data": {
      "text/plain": [
       "bs4.BeautifulSoup"
      ]
     },
     "execution_count": 34,
     "metadata": {},
     "output_type": "execute_result"
    }
   ],
   "source": [
    "type(soup)"
   ]
  },
  {
   "cell_type": "code",
   "execution_count": 33,
   "metadata": {},
   "outputs": [
    {
     "name": "stdout",
     "output_type": "stream",
     "text": [
      "\n",
      "\n",
      "Hello World\n",
      "This is link1\n",
      "This is link2\n",
      "\n",
      "\n"
     ]
    }
   ],
   "source": [
    "print(soup.text)"
   ]
  },
  {
   "cell_type": "code",
   "execution_count": 36,
   "metadata": {},
   "outputs": [
    {
     "data": {
      "text/plain": [
       "<h1 id=\"title\">Hello World</h1>"
      ]
     },
     "execution_count": 36,
     "metadata": {},
     "output_type": "execute_result"
    }
   ],
   "source": [
    "soup.select_one('h1')"
   ]
  },
  {
   "cell_type": "code",
   "execution_count": 37,
   "metadata": {},
   "outputs": [
    {
     "data": {
      "text/plain": [
       "'Hello World'"
      ]
     },
     "execution_count": 37,
     "metadata": {},
     "output_type": "execute_result"
    }
   ],
   "source": [
    "soup.select_one('h1').text"
   ]
  },
  {
   "cell_type": "code",
   "execution_count": 38,
   "metadata": {},
   "outputs": [
    {
     "data": {
      "text/plain": [
       "<a class=\"link\" href=\"#\">This is link1</a>"
      ]
     },
     "execution_count": 38,
     "metadata": {},
     "output_type": "execute_result"
    }
   ],
   "source": [
    "soup.select_one('a')"
   ]
  },
  {
   "cell_type": "code",
   "execution_count": 39,
   "metadata": {},
   "outputs": [
    {
     "data": {
      "text/plain": [
       "[<a class=\"link\" href=\"#\">This is link1</a>,\n",
       " <a class=\"link\" href=\"# link2\">This is link2</a>]"
      ]
     },
     "execution_count": 39,
     "metadata": {},
     "output_type": "execute_result"
    }
   ],
   "source": [
    "soup.select('a')"
   ]
  },
  {
   "cell_type": "code",
   "execution_count": 40,
   "metadata": {},
   "outputs": [],
   "source": [
    "alink = soup.select('a')"
   ]
  },
  {
   "cell_type": "code",
   "execution_count": 41,
   "metadata": {},
   "outputs": [
    {
     "data": {
      "text/plain": [
       "<a class=\"link\" href=\"#\">This is link1</a>"
      ]
     },
     "execution_count": 41,
     "metadata": {},
     "output_type": "execute_result"
    }
   ],
   "source": [
    "alink[0]"
   ]
  },
  {
   "cell_type": "code",
   "execution_count": 42,
   "metadata": {},
   "outputs": [
    {
     "data": {
      "text/plain": [
       "'This is link1'"
      ]
     },
     "execution_count": 42,
     "metadata": {},
     "output_type": "execute_result"
    }
   ],
   "source": [
    "alink[0].text"
   ]
  },
  {
   "cell_type": "code",
   "execution_count": 43,
   "metadata": {},
   "outputs": [
    {
     "data": {
      "text/plain": [
       "<a class=\"link\" href=\"# link2\">This is link2</a>"
      ]
     },
     "execution_count": 43,
     "metadata": {},
     "output_type": "execute_result"
    }
   ],
   "source": [
    "alink[1]"
   ]
  },
  {
   "cell_type": "code",
   "execution_count": 44,
   "metadata": {},
   "outputs": [
    {
     "data": {
      "text/plain": [
       "'This is link2'"
      ]
     },
     "execution_count": 44,
     "metadata": {},
     "output_type": "execute_result"
    }
   ],
   "source": [
    "alink[1].text"
   ]
  },
  {
   "cell_type": "code",
   "execution_count": 46,
   "metadata": {},
   "outputs": [
    {
     "name": "stdout",
     "output_type": "stream",
     "text": [
      "This is link1\n",
      "This is link2\n"
     ]
    }
   ],
   "source": [
    "for link in alink:\n",
    "    #print(link)\n",
    "    print(link.text)"
   ]
  },
  {
   "cell_type": "code",
   "execution_count": 47,
   "metadata": {},
   "outputs": [
    {
     "data": {
      "text/plain": [
       "<h1 id=\"title\">Hello World</h1>"
      ]
     },
     "execution_count": 47,
     "metadata": {},
     "output_type": "execute_result"
    }
   ],
   "source": [
    "# id => #\n",
    "soup.select_one('#title')"
   ]
  },
  {
   "cell_type": "code",
   "execution_count": 48,
   "metadata": {},
   "outputs": [
    {
     "data": {
      "text/plain": [
       "<h1 id=\"title\">Hello World</h1>"
      ]
     },
     "execution_count": 48,
     "metadata": {},
     "output_type": "execute_result"
    }
   ],
   "source": [
    "soup.select_one('h1#title')"
   ]
  },
  {
   "cell_type": "code",
   "execution_count": 49,
   "metadata": {},
   "outputs": [
    {
     "data": {
      "text/plain": [
       "<h1 id=\"title\">Hello World</h1>"
      ]
     },
     "execution_count": 49,
     "metadata": {},
     "output_type": "execute_result"
    }
   ],
   "source": [
    "soup.select_one('body #title')"
   ]
  },
  {
   "cell_type": "code",
   "execution_count": 50,
   "metadata": {},
   "outputs": [
    {
     "data": {
      "text/plain": [
       "<h1 id=\"title\">Hello World</h1>"
      ]
     },
     "execution_count": 50,
     "metadata": {},
     "output_type": "execute_result"
    }
   ],
   "source": [
    "soup.select_one('body > #title')"
   ]
  },
  {
   "cell_type": "markdown",
   "metadata": {},
   "source": [
    "## CSS\n",
    "- https://www.w3schools.com/css/"
   ]
  },
  {
   "cell_type": "code",
   "execution_count": 51,
   "metadata": {},
   "outputs": [
    {
     "data": {
      "text/plain": [
       "[<a class=\"link\" href=\"#\">This is link1</a>,\n",
       " <a class=\"link\" href=\"# link2\">This is link2</a>]"
      ]
     },
     "execution_count": 51,
     "metadata": {},
     "output_type": "execute_result"
    }
   ],
   "source": [
    "soup.select('a')"
   ]
  },
  {
   "cell_type": "code",
   "execution_count": 52,
   "metadata": {},
   "outputs": [
    {
     "data": {
      "text/plain": [
       "[<a class=\"link\" href=\"#\">This is link1</a>,\n",
       " <a class=\"link\" href=\"# link2\">This is link2</a>]"
      ]
     },
     "execution_count": 52,
     "metadata": {},
     "output_type": "execute_result"
    }
   ],
   "source": [
    "# class => . \n",
    "soup.select('.link')"
   ]
  },
  {
   "cell_type": "code",
   "execution_count": 53,
   "metadata": {},
   "outputs": [
    {
     "data": {
      "text/plain": [
       "[<a class=\"link\" href=\"#\">This is link1</a>,\n",
       " <a class=\"link\" href=\"# link2\">This is link2</a>]"
      ]
     },
     "execution_count": 53,
     "metadata": {},
     "output_type": "execute_result"
    }
   ],
   "source": [
    "soup.select('a.link')"
   ]
  },
  {
   "cell_type": "code",
   "execution_count": 54,
   "metadata": {},
   "outputs": [
    {
     "data": {
      "text/plain": [
       "[<a class=\"link\" href=\"#\">This is link1</a>,\n",
       " <a class=\"link\" href=\"# link2\">This is link2</a>]"
      ]
     },
     "execution_count": 54,
     "metadata": {},
     "output_type": "execute_result"
    }
   ],
   "source": [
    "soup.select('body a.link')"
   ]
  },
  {
   "cell_type": "code",
   "execution_count": 55,
   "metadata": {},
   "outputs": [
    {
     "data": {
      "text/plain": [
       "[<a class=\"link\" href=\"#\">This is link1</a>,\n",
       " <a class=\"link\" href=\"# link2\">This is link2</a>]"
      ]
     },
     "execution_count": 55,
     "metadata": {},
     "output_type": "execute_result"
    }
   ],
   "source": [
    "soup.select('body > a.link')"
   ]
  },
  {
   "cell_type": "code",
   "execution_count": 56,
   "metadata": {},
   "outputs": [
    {
     "name": "stdout",
     "output_type": "stream",
     "text": [
      "This is link1\n",
      "This is link2\n"
     ]
    }
   ],
   "source": [
    "for link in soup.select('a'):\n",
    "    print(link.text)"
   ]
  },
  {
   "cell_type": "code",
   "execution_count": 57,
   "metadata": {},
   "outputs": [
    {
     "name": "stdout",
     "output_type": "stream",
     "text": [
      "#\n",
      "# link2\n"
     ]
    }
   ],
   "source": [
    "for link in soup.select('a'):\n",
    "    print(link.get('href'))"
   ]
  },
  {
   "cell_type": "markdown",
   "metadata": {},
   "source": [
    "## Mobile01 基本爬蟲"
   ]
  },
  {
   "cell_type": "code",
   "execution_count": 59,
   "metadata": {},
   "outputs": [
    {
     "name": "stderr",
     "output_type": "stream",
     "text": [
      "/Users/davidchiu/.pyenv/versions/3.7.3/lib/python3.7/site-packages/urllib3/connectionpool.py:986: InsecureRequestWarning: Unverified HTTPS request is being made to host 'www.mobile01.com'. Adding certificate verification is strongly advised. See: https://urllib3.readthedocs.io/en/latest/advanced-usage.html#ssl-warnings\n",
      "  InsecureRequestWarning,\n"
     ]
    },
    {
     "data": {
      "text/plain": [
       "<Response [200]>"
      ]
     },
     "execution_count": 59,
     "metadata": {},
     "output_type": "execute_result"
    }
   ],
   "source": [
    "import requests\n",
    "headers = {'user-agent': 'Mozilla/5.0 (Windows NT 10.0; Win64; x64) AppleWebKit/537.36 (KHTML, like Gecko) Chrome/86.0.4240.75 Safari/537.36'}\n",
    "res = requests.get('https://www.mobile01.com/topiclist.php?f=18', headers = headers, verify = False)\n",
    "res"
   ]
  },
  {
   "cell_type": "code",
   "execution_count": 61,
   "metadata": {},
   "outputs": [],
   "source": [
    "from bs4 import BeautifulSoup\n",
    "soup = BeautifulSoup(res.text, 'lxml')"
   ]
  },
  {
   "cell_type": "code",
   "execution_count": 62,
   "metadata": {},
   "outputs": [
    {
     "data": {
      "text/plain": [
       "<h1 class=\"t1\">電信業者與資費</h1>"
      ]
     },
     "execution_count": 62,
     "metadata": {},
     "output_type": "execute_result"
    }
   ],
   "source": [
    "soup.select_one('h1.t1')"
   ]
  },
  {
   "cell_type": "code",
   "execution_count": 63,
   "metadata": {},
   "outputs": [
    {
     "data": {
      "text/plain": [
       "'電信業者與資費'"
      ]
     },
     "execution_count": 63,
     "metadata": {},
     "output_type": "execute_result"
    }
   ],
   "source": [
    "soup.select_one('h1.t1').text"
   ]
  },
  {
   "cell_type": "code",
   "execution_count": 64,
   "metadata": {},
   "outputs": [
    {
     "data": {
      "text/plain": [
       "'\\n<a href=\"topicdetail.php?f=18&amp;t=6212622\" class=\"c-link u-ellipsis\">今年的 5G iphone 亞太的 5G mmwave 無法使用了⋯⋯😭</a>\\n'"
      ]
     },
     "execution_count": 64,
     "metadata": {},
     "output_type": "execute_result"
    }
   ],
   "source": [
    "'''\n",
    "<a href=\"topicdetail.php?f=18&amp;t=6212622\" class=\"c-link u-ellipsis\">今年的 5G iphone 亞太的 5G mmwave 無法使用了⋯⋯😭</a>\n",
    "'''"
   ]
  },
  {
   "cell_type": "code",
   "execution_count": 66,
   "metadata": {},
   "outputs": [
    {
     "name": "stdout",
     "output_type": "stream",
     "text": [
      "我被台灣之星陰了嗎，喬好免違約金解約，但最後一期出帳卻多了3000\n",
      "necomata\n",
      "riklin\n",
      "[消失的收據] 幫備份：這版有人被告公然侮辱了。開放登記免費雞排50份\n",
      "美酒斗十千\n",
      "01010100101\n",
      "今年的 5G iphone 亞太的 5G mmwave 無法使用了⋯⋯😭\n",
      "法客\n",
      "Ayumi_2004\n",
      "連手機熱點的設備能跑到100M嗎\n",
      "樂觀樂觀\n",
      "melody520520\n",
      "台哥大預付卡也是會自動延長的\n",
      "Elvis-EVO\n",
      "melody520520\n",
      "【分享】所以哪個通路買iPhone12卡便宜?\n",
      "蒂理珍妮\n",
      "melody520520\n",
      "4G的SIM卡用在3G的手機上可以通話及上網嗎?\n",
      "台灣NO1加油\n",
      "陌生的路\n",
      "有人會想辦嗎?台星599真不值，辦了會被笑吧?\n",
      "真的很抱歉\n",
      "yesstem22\n",
      "亞太電信 10/22 將宣佈 5G 正式開台\n",
      "Arthur0224\n",
      "Arthur0224\n",
      "<已解決>請問：不會打電話、上網，單純收認證簡訊用，目前哪種最便宜？\n",
      "nwcs\n",
      "chiou52\n",
      "5G時代來臨 wifi怎麼辦\n",
      "ally870506\n",
      "Auroras777\n",
      "台灣大哥大 優惠方案(攜碼)\n",
      "紫夏嵐\n",
      "star89095\n",
      "亞太這麼早就在衝1111了😳\n",
      "法客\n",
      "ty0918\n",
      "大家都還再等雙11優惠？\n",
      "小鬼☆\n",
      "陳鎧元\n",
      "現在中華4G 699退傭 最高還可以退多少\n",
      "python95613\n",
      "十月秋天\n",
      "中華電信母親節方案499即將到期,請問到期的朋友有找到代替方案了嗎?\n",
      "obicome\n",
      "bob0123\n",
      "中華 VS 遠傳 Speedtest PK\n",
      "LeeFred\n",
      "哀鳳十\n",
      "中華電信預付卡未儲值被停掉變空號疑問\n",
      "時尚的芭樂\n",
      "時尚的芭樂\n",
      "QQ帳號真的難申請(2019/9/19~09/25已解決)\n",
      "luck100joy\n",
      "next12345\n",
      "亞太新朋友資費\n",
      "若含哥哥\n",
      "125475368\n",
      "台灣之星店員說 2020 不會有雙11優惠4G方案\n",
      "mobile2009\n",
      "咖啡只加糖\n",
      "台星iPhone 12預約優惠 AirPods Pro半價\n",
      "glenn209\n",
      "W1025\n",
      "台哥大299吃到飽留客方案!\n",
      "阿智1517\n",
      "JAIN1975\n",
      "電信門號退租，員工扣業績？\n",
      "空巴A380\n",
      "rtype13\n",
      "台灣會跟進韓國退掉5G網路,回頭使用4G網路的風潮嗎？\n",
      "龜軟趴火\n",
      "Tom_Deng\n",
      "神奇的遠傳活動簡訊\n",
      "試用門號辦的試用帳號\n",
      "grason00\n",
      "期待699月租零元i12\n",
      "in30000\n",
      "cwc\n",
      "亞太期間限定88資費\n",
      "愛豬椅喔\n",
      "nwcs\n",
      "遠傳5G熱點分享2000G????\n",
      "konnia\n",
      "konnia\n",
      "亞太11又出現了\n",
      "dys289\n",
      "KOBE24LAKERS\n"
     ]
    }
   ],
   "source": [
    "for a in soup.select('a.c-link.u-ellipsis'):\n",
    "    print(a.text)"
   ]
  },
  {
   "cell_type": "code",
   "execution_count": 67,
   "metadata": {},
   "outputs": [
    {
     "name": "stdout",
     "output_type": "stream",
     "text": [
      "我被台灣之星陰了嗎，喬好免違約金解約，但最後一期出帳卻多了3000\n",
      "[消失的收據] 幫備份：這版有人被告公然侮辱了。開放登記免費雞排50份\n",
      "今年的 5G iphone 亞太的 5G mmwave 無法使用了⋯⋯😭\n",
      "連手機熱點的設備能跑到100M嗎\n",
      "台哥大預付卡也是會自動延長的\n",
      "【分享】所以哪個通路買iPhone12卡便宜?\n",
      "4G的SIM卡用在3G的手機上可以通話及上網嗎?\n",
      "有人會想辦嗎?台星599真不值，辦了會被笑吧?\n",
      "亞太電信 10/22 將宣佈 5G 正式開台\n",
      "<已解決>請問：不會打電話、上網，單純收認證簡訊用，目前哪種最便宜？\n",
      "5G時代來臨 wifi怎麼辦\n",
      "台灣大哥大 優惠方案(攜碼)\n",
      "亞太這麼早就在衝1111了😳\n",
      "大家都還再等雙11優惠？\n",
      "現在中華4G 699退傭 最高還可以退多少\n",
      "中華電信母親節方案499即將到期,請問到期的朋友有找到代替方案了嗎?\n",
      "中華 VS 遠傳 Speedtest PK\n",
      "中華電信預付卡未儲值被停掉變空號疑問\n",
      "QQ帳號真的難申請(2019/9/19~09/25已解決)\n",
      "亞太新朋友資費\n",
      "台灣之星店員說 2020 不會有雙11優惠4G方案\n",
      "台星iPhone 12預約優惠 AirPods Pro半價\n",
      "台哥大299吃到飽留客方案!\n",
      "電信門號退租，員工扣業績？\n",
      "台灣會跟進韓國退掉5G網路,回頭使用4G網路的風潮嗎？\n",
      "神奇的遠傳活動簡訊\n",
      "期待699月租零元i12\n",
      "亞太期間限定88資費\n",
      "遠傳5G熱點分享2000G????\n",
      "亞太11又出現了\n"
     ]
    }
   ],
   "source": [
    "for a in soup.select('.c-listTableTd__title a.c-link.u-ellipsis'):\n",
    "    print(a.text)"
   ]
  },
  {
   "cell_type": "code",
   "execution_count": 68,
   "metadata": {},
   "outputs": [
    {
     "data": {
      "text/plain": [
       "<h1 class=\"t1\">電信業者與資費</h1>"
      ]
     },
     "execution_count": 68,
     "metadata": {},
     "output_type": "execute_result"
    }
   ],
   "source": [
    "soup.select_one('.t1')"
   ]
  },
  {
   "cell_type": "code",
   "execution_count": 69,
   "metadata": {},
   "outputs": [
    {
     "data": {
      "text/plain": [
       "'電信業者與資費'"
      ]
     },
     "execution_count": 69,
     "metadata": {},
     "output_type": "execute_result"
    }
   ],
   "source": [
    "soup.select_one('.t1').text"
   ]
  },
  {
   "cell_type": "code",
   "execution_count": 70,
   "metadata": {},
   "outputs": [
    {
     "name": "stdout",
     "output_type": "stream",
     "text": [
      "我被台灣之星陰了嗎，喬好免違約金解約，但最後一期出帳卻多了3000\n",
      "[消失的收據] 幫備份：這版有人被告公然侮辱了。開放登記免費雞排50份\n",
      "今年的 5G iphone 亞太的 5G mmwave 無法使用了⋯⋯😭\n",
      "連手機熱點的設備能跑到100M嗎\n",
      "台哥大預付卡也是會自動延長的\n",
      "【分享】所以哪個通路買iPhone12卡便宜?\n",
      "4G的SIM卡用在3G的手機上可以通話及上網嗎?\n",
      "有人會想辦嗎?台星599真不值，辦了會被笑吧?\n",
      "亞太電信 10/22 將宣佈 5G 正式開台\n",
      "<已解決>請問：不會打電話、上網，單純收認證簡訊用，目前哪種最便宜？\n",
      "5G時代來臨 wifi怎麼辦\n",
      "台灣大哥大 優惠方案(攜碼)\n",
      "亞太這麼早就在衝1111了😳\n",
      "大家都還再等雙11優惠？\n",
      "現在中華4G 699退傭 最高還可以退多少\n",
      "中華電信母親節方案499即將到期,請問到期的朋友有找到代替方案了嗎?\n",
      "中華 VS 遠傳 Speedtest PK\n",
      "中華電信預付卡未儲值被停掉變空號疑問\n",
      "QQ帳號真的難申請(2019/9/19~09/25已解決)\n",
      "亞太新朋友資費\n",
      "台灣之星店員說 2020 不會有雙11優惠4G方案\n",
      "台星iPhone 12預約優惠 AirPods Pro半價\n",
      "台哥大299吃到飽留客方案!\n",
      "電信門號退租，員工扣業績？\n",
      "台灣會跟進韓國退掉5G網路,回頭使用4G網路的風潮嗎？\n",
      "神奇的遠傳活動簡訊\n",
      "期待699月租零元i12\n",
      "亞太期間限定88資費\n",
      "遠傳5G熱點分享2000G????\n",
      "亞太11又出現了\n"
     ]
    }
   ],
   "source": [
    "for link in soup.select('.c-listTableTd__title .u-ellipsis'):\n",
    "    print(link.text)"
   ]
  },
  {
   "cell_type": "code",
   "execution_count": 71,
   "metadata": {},
   "outputs": [
    {
     "name": "stdout",
     "output_type": "stream",
     "text": [
      "10\n",
      "193\n",
      "25\n",
      "13\n",
      "12\n",
      "4\n",
      "19\n",
      "2\n",
      "0\n",
      "26\n",
      "5\n",
      "458\n",
      "32\n",
      "9\n",
      "7\n",
      "38\n",
      "5\n",
      "16\n",
      "120\n",
      "34\n",
      "86\n",
      "10\n",
      "737\n",
      "32\n",
      "24\n",
      "7\n",
      "4\n",
      "26\n",
      "0\n",
      "170\n"
     ]
    }
   ],
   "source": [
    "for a in soup.select('.o-fMini'):\n",
    "    print(a.text)"
   ]
  },
  {
   "cell_type": "markdown",
   "metadata": {},
   "source": [
    "## 練習題\n",
    "- https://www.sogi.com.tw/article_categories/%E7%94%A2%E6%A5%AD%E5%8B%95%E6%85%8B/206"
   ]
  },
  {
   "cell_type": "code",
   "execution_count": 72,
   "metadata": {},
   "outputs": [
    {
     "data": {
      "text/plain": [
       "<Response [200]>"
      ]
     },
     "execution_count": 72,
     "metadata": {},
     "output_type": "execute_result"
    }
   ],
   "source": [
    "import requests\n",
    "res = requests.get('https://www.sogi.com.tw/article_categories/%E7%94%A2%E6%A5%AD%E5%8B%95%E6%85%8B/206')\n",
    "res"
   ]
  },
  {
   "cell_type": "code",
   "execution_count": 73,
   "metadata": {},
   "outputs": [],
   "source": [
    "from bs4 import BeautifulSoup\n",
    "soup = BeautifulSoup(res.text, 'lxml')"
   ]
  },
  {
   "cell_type": "code",
   "execution_count": 74,
   "metadata": {},
   "outputs": [
    {
     "data": {
      "text/plain": [
       "[<a class=\"text-black font-weight-bold text-row-2\" gaactionclick=\"click\" gacatagory=\"新聞分類頁_產業動態\" galabel=\"最新_6月手機排行iPhone SE最熱銷 vivo首次擠進台灣前4大\" href=\"/articles/apple_iphone_se/6255204\">\n",
       "             6月手機排行iPhone SE最熱銷 vivo首次擠進台灣前4大\n",
       " </a>,\n",
       " <a class=\"text-black font-weight-bold text-row-2\" gaactionclick=\"click\" gacatagory=\"新聞分類頁_產業動態\" galabel=\"最新_台灣4月手機銷售量創新低 iPhone SE上市熱銷\" href=\"/articles/apple_iphone_se_2/6254939\">\n",
       "             台灣4月手機銷售量創新低 iPhone SE上市熱銷\n",
       " </a>,\n",
       " <a class=\"text-black font-weight-bold text-row-2\" gaactionclick=\"click\" gacatagory=\"新聞分類頁_產業動態\" galabel=\"最新_Sony公布第一季手機銷量 全球出貨僅40萬台\" href=\"/articles/sony_mobile/6254906\">\n",
       "             Sony公布第一季手機銷量 全球出貨僅40萬台\n",
       " </a>,\n",
       " <a class=\"text-black font-weight-bold text-row-2\" gaactionclick=\"click\" gacatagory=\"新聞分類頁_產業動態\" galabel=\"熱門_蘋果5G手機iPhone 12與12 Pro系列 10/23起陸續上市\" href=\"/articles/apple_iphone_12_pro_max/6255522\">\n",
       "             蘋果5G手機iPhone 12與12 Pro系列 10/23起陸續上市\n",
       " </a>,\n",
       " <a class=\"text-black font-weight-bold text-row-2\" gaactionclick=\"click\" gacatagory=\"新聞分類頁_產業動態\" galabel=\"熱門_三星A42 5G平價手機規格公布 6.6吋螢幕搭配5千電量\" href=\"/articles/samsung_galaxy_a42_5g/6255516\">\n",
       "             三星A42 5G平價手機規格公布 6.6吋螢幕搭配5千電量\n",
       " </a>,\n",
       " <a class=\"text-black font-weight-bold text-row-2\" gaactionclick=\"click\" gacatagory=\"新聞分類頁_產業動態\" galabel=\"熱門_新iPhone變貴還是便宜？談i11與i12前後代價格比較\" href=\"/articles/apple_iphone_12/6255523\">\n",
       "             新iPhone變貴還是便宜？談i11與i12前後代價格比較\n",
       " </a>,\n",
       " <a class=\"text-black font-weight-bold text-row-2\" gaactionclick=\"click\" gacatagory=\"新聞分類頁_產業動態\" galabel=\"推薦_高質感商務旗艦筆電 HUAWEI MateBook X Pro開箱體驗\" href=\"/articles/huawei_matebook_x_pro/6255505\">\n",
       "             高質感商務旗艦筆電 HUAWEI MateBook X Pro開箱體驗\n",
       " </a>,\n",
       " <a class=\"text-black font-weight-bold text-row-2\" gaactionclick=\"click\" gacatagory=\"新聞分類頁_產業動態\" galabel=\"推薦_5G手機不再貴桑桑！高CP值vivo X50e開箱體驗\" href=\"/articles/vivo_x50e/6255521\">\n",
       "             5G手機不再貴桑桑！高CP值vivo X50e開箱體驗\n",
       " </a>,\n",
       " <a class=\"text-black font-weight-bold text-row-2\" gaactionclick=\"click\" gacatagory=\"新聞分類頁_產業動態\" galabel=\"推薦_正港MIT台灣製造 HTC U20 5G大螢幕手機體驗\" href=\"/articles/htc_u20_5g/6255503\">\n",
       "             正港MIT台灣製造 HTC U20 5G大螢幕手機體驗\n",
       " </a>,\n",
       " <a class=\"text-black font-weight-bold text-row-2\" gaactionclick=\"click\" gacatagory=\"新聞分類頁_產業動態\" galabel=\"全部_受NCC事件與肺炎疫情影響 4月台灣恐無新手機上市\" href=\"/articles/smartphone/6254688\">\n",
       "             受NCC事件與肺炎疫情影響 4月台灣恐無新手機上市\n",
       " </a>,\n",
       " <a class=\"text-black font-weight-bold text-row-2\" gaactionclick=\"click\" gacatagory=\"新聞分類頁_產業動態\" galabel=\"全部_台灣2月手機銷量僅50萬部 A51蟬聯熱銷中階機\" href=\"/articles/samsung_a51_a71/6254631\">\n",
       "             台灣2月手機銷量僅50萬部 A51蟬聯熱銷中階機\n",
       " </a>,\n",
       " <a class=\"text-black font-weight-bold text-row-2\" gaactionclick=\"click\" gacatagory=\"新聞分類頁_產業動態\" galabel=\"全部_台灣1月手機銷售排行 Redmi與realme表現逆勢成長\" href=\"/articles/redmi_realme/6254454\">\n",
       "             台灣1月手機銷售排行 Redmi與realme表現逆勢成長\n",
       " </a>,\n",
       " <a class=\"text-black font-weight-bold text-row-2\" gaactionclick=\"click\" gacatagory=\"新聞分類頁_產業動態\" galabel=\"全部_蘋果受武漢肺炎與中國市場影響 Q2營收恐無法達標\" href=\"/articles/apple_iphone/6254443\">\n",
       "             蘋果受武漢肺炎與中國市場影響 Q2營收恐無法達標\n",
       " </a>,\n",
       " <a class=\"text-black font-weight-bold text-row-2\" gaactionclick=\"click\" gacatagory=\"新聞分類頁_產業動態\" galabel=\"全部_武漢肺炎疫情、廠商撤展影響 MWC世界通訊展停辦\" href=\"/articles/gsma_mwc_2020/6254406\">\n",
       "             武漢肺炎疫情、廠商撤展影響 MWC世界通訊展停辦\n",
       " </a>,\n",
       " <a class=\"text-black font-weight-bold text-row-2\" gaactionclick=\"click\" gacatagory=\"新聞分類頁_產業動態\" galabel=\"全部_iPhone 11手機熱銷 帶動蘋果2020第一季營收創新高\" href=\"/articles/apple_iphone_11/6254336\">\n",
       "             iPhone 11手機熱銷 帶動蘋果2020第一季營收創新高\n",
       " </a>]"
      ]
     },
     "execution_count": 74,
     "metadata": {},
     "output_type": "execute_result"
    }
   ],
   "source": [
    "soup.select('a.text-black.font-weight-bold.text-row-2')"
   ]
  },
  {
   "cell_type": "code",
   "execution_count": 76,
   "metadata": {},
   "outputs": [
    {
     "name": "stdout",
     "output_type": "stream",
     "text": [
      "6月手機排行iPhone SE最熱銷 vivo首次擠進台灣前4大\n",
      "台灣4月手機銷售量創新低 iPhone SE上市熱銷\n",
      "Sony公布第一季手機銷量 全球出貨僅40萬台\n",
      "蘋果5G手機iPhone 12與12 Pro系列 10/23起陸續上市\n",
      "三星A42 5G平價手機規格公布 6.6吋螢幕搭配5千電量\n",
      "新iPhone變貴還是便宜？談i11與i12前後代價格比較\n",
      "高質感商務旗艦筆電 HUAWEI MateBook X Pro開箱體驗\n",
      "5G手機不再貴桑桑！高CP值vivo X50e開箱體驗\n",
      "正港MIT台灣製造 HTC U20 5G大螢幕手機體驗\n",
      "受NCC事件與肺炎疫情影響 4月台灣恐無新手機上市\n",
      "台灣2月手機銷量僅50萬部 A51蟬聯熱銷中階機\n",
      "台灣1月手機銷售排行 Redmi與realme表現逆勢成長\n",
      "蘋果受武漢肺炎與中國市場影響 Q2營收恐無法達標\n",
      "武漢肺炎疫情、廠商撤展影響 MWC世界通訊展停辦\n",
      "iPhone 11手機熱銷 帶動蘋果2020第一季營收創新高\n"
     ]
    }
   ],
   "source": [
    "for row in soup.select('.text-row-2'):\n",
    "    print(row.text.strip())"
   ]
  },
  {
   "cell_type": "markdown",
   "metadata": {},
   "source": [
    "## Mobile01 列表爬蟲"
   ]
  },
  {
   "cell_type": "code",
   "execution_count": 78,
   "metadata": {},
   "outputs": [
    {
     "name": "stderr",
     "output_type": "stream",
     "text": [
      "/Users/davidchiu/.pyenv/versions/3.7.3/lib/python3.7/site-packages/urllib3/connectionpool.py:986: InsecureRequestWarning: Unverified HTTPS request is being made to host 'www.mobile01.com'. Adding certificate verification is strongly advised. See: https://urllib3.readthedocs.io/en/latest/advanced-usage.html#ssl-warnings\n",
      "  InsecureRequestWarning,\n"
     ]
    },
    {
     "data": {
      "text/plain": [
       "<Response [200]>"
      ]
     },
     "execution_count": 78,
     "metadata": {},
     "output_type": "execute_result"
    }
   ],
   "source": [
    "import requests\n",
    "headers = {\n",
    "   'user-agent': 'Mozilla/5.0 (Windows NT 10.0; Win64; x64) AppleWebKit/537.36 (KHTML, like Gecko) Chrome/86.0.4240.75 Safari/537.36' \n",
    "}\n",
    "res = requests.get('https://www.mobile01.com/topiclist.php?f=18', headers = headers, verify=False)\n",
    "res"
   ]
  },
  {
   "cell_type": "code",
   "execution_count": 80,
   "metadata": {},
   "outputs": [],
   "source": [
    "from bs4 import BeautifulSoup\n",
    "soup = BeautifulSoup(res.text,'lxml')"
   ]
  },
  {
   "cell_type": "markdown",
   "metadata": {},
   "source": [
    "<table>\n",
    "    <tr><td>c1</td><td>c2</td></tr>\n",
    "    <tr><td>v1</td><td>v2</td></tr>\n",
    "    <tr><td>a1</td><td>a2</td></tr>\n",
    "    \n",
    "</table>"
   ]
  },
  {
   "cell_type": "code",
   "execution_count": 87,
   "metadata": {},
   "outputs": [
    {
     "name": "stdout",
     "output_type": "stream",
     "text": [
      "yes\n",
      "yes\n"
     ]
    }
   ],
   "source": [
    "a = 3\n",
    "if a > 2:\n",
    "    print('yes')\n",
    "    \n",
    "if a:\n",
    "    print('yes')\n",
    "    \n",
    "if None:\n",
    "    print('None')"
   ]
  },
  {
   "cell_type": "code",
   "execution_count": 95,
   "metadata": {},
   "outputs": [
    {
     "name": "stdout",
     "output_type": "stream",
     "text": [
      "[消失的收據] 幫備份：這版有人被告公然侮辱了。開放登記免費雞排50份 https://www.mobile01.com/topicdetail.php?f=18&t=6186791 195\n",
      "===============================\n",
      "大家都還再等雙11優惠？ https://www.mobile01.com/topicdetail.php?f=18&t=6214059 10\n",
      "===============================\n",
      "台哥大299吃到飽留客方案! https://www.mobile01.com/topicdetail.php?f=18&t=5797944 739\n",
      "===============================\n",
      "亞太電信5G記者會：10/22登場 https://www.mobile01.com/topicdetail.php?f=18&t=6214472 4\n",
      "===============================\n",
      "1111 三大的5G 599應該會下殺到499吧! https://www.mobile01.com/topicdetail.php?f=18&t=6207634 17\n",
      "===============================\n",
      "中華 VS 遠傳 Speedtest PK https://www.mobile01.com/topicdetail.php?f=18&t=6213586 6\n",
      "===============================\n",
      "【分享】所以哪個通路買iPhone12卡便宜? https://www.mobile01.com/topicdetail.php?f=18&t=6213908 5\n",
      "===============================\n",
      "台哥大預付卡也是會自動延長的 https://www.mobile01.com/topicdetail.php?f=18&t=5870149 14\n",
      "===============================\n",
      "我被台灣之星陰了嗎，喬好免違約金解約，但最後一期出帳卻多了3000 https://www.mobile01.com/topicdetail.php?f=18&t=6214113 11\n",
      "===============================\n",
      "遠傳iPhone 12資費出爐 月租999起跳 https://www.mobile01.com/topicdetail.php?f=18&t=6214458 2\n",
      "===============================\n",
      "電信門號退租，員工扣業績？ https://www.mobile01.com/topicdetail.php?f=18&t=6210195 33\n",
      "===============================\n",
      "亞太5G終於要開台! https://www.mobile01.com/topicdetail.php?f=18&t=6214462 1\n",
      "===============================\n",
      "今年的 5G iphone 亞太的 5G mmwave 無法使用了⋯⋯😭 https://www.mobile01.com/topicdetail.php?f=18&t=6212622 25\n",
      "===============================\n",
      "連手機熱點的設備能跑到100M嗎 https://www.mobile01.com/topicdetail.php?f=18&t=6208626 13\n",
      "===============================\n",
      "4G的SIM卡用在3G的手機上可以通話及上網嗎? https://www.mobile01.com/topicdetail.php?f=18&t=3938052 19\n",
      "===============================\n",
      "有人會想辦嗎?台星599真不值，辦了會被笑吧? https://www.mobile01.com/topicdetail.php?f=18&t=6214172 2\n",
      "===============================\n",
      "亞太電信 10/22 將宣佈 5G 正式開台 https://www.mobile01.com/topicdetail.php?f=18&t=6214415 0\n",
      "===============================\n",
      "<已解決>請問：不會打電話、上網，單純收認證簡訊用，目前哪種最便宜？ https://www.mobile01.com/topicdetail.php?f=18&t=6213680 26\n",
      "===============================\n",
      "5G時代來臨 wifi怎麼辦 https://www.mobile01.com/topicdetail.php?f=18&t=6213775 5\n",
      "===============================\n",
      "台灣大哥大 優惠方案(攜碼) https://www.mobile01.com/topicdetail.php?f=18&t=5799167 458\n",
      "===============================\n",
      "亞太這麼早就在衝1111了😳 https://www.mobile01.com/topicdetail.php?f=18&t=6213674 32\n",
      "===============================\n",
      "現在中華4G 699退傭 最高還可以退多少 https://www.mobile01.com/topicdetail.php?f=18&t=6206774 7\n",
      "===============================\n",
      "中華電信母親節方案499即將到期,請問到期的朋友有找到代替方案了嗎? https://www.mobile01.com/topicdetail.php?f=18&t=6212751 38\n",
      "===============================\n",
      "中華電信預付卡未儲值被停掉變空號疑問 https://www.mobile01.com/topicdetail.php?f=18&t=6211193 16\n",
      "===============================\n",
      "QQ帳號真的難申請(2019/9/19~09/25已解決) https://www.mobile01.com/topicdetail.php?f=18&t=5904439 120\n",
      "===============================\n",
      "亞太新朋友資費 https://www.mobile01.com/topicdetail.php?f=18&t=6211959 34\n",
      "===============================\n",
      "台灣之星店員說 2020 不會有雙11優惠4G方案 https://www.mobile01.com/topicdetail.php?f=18&t=6208135 86\n",
      "===============================\n",
      "台星iPhone 12預約優惠 AirPods Pro半價 https://www.mobile01.com/topicdetail.php?f=18&t=6213041 10\n",
      "===============================\n",
      "台灣會跟進韓國退掉5G網路,回頭使用4G網路的風潮嗎？ https://www.mobile01.com/topicdetail.php?f=18&t=6210861 23\n",
      "===============================\n",
      "神奇的遠傳活動簡訊 https://www.mobile01.com/topicdetail.php?f=18&t=6212468 7\n",
      "===============================\n"
     ]
    }
   ],
   "source": [
    "domain = 'https://www.mobile01.com/'\n",
    "for tr in soup.select('.l-listTable__tr'):\n",
    "    if tr.select_one('.c-listTableTd__title a'):\n",
    "        #print(tr)\n",
    "        link = domain + tr.select_one('.c-listTableTd__title a').get('href')\n",
    "        title = tr.select_one('.c-listTableTd__title a').text\n",
    "        cnt = tr.select_one('.o-fMini').text\n",
    "        print(title, link, cnt)\n",
    "        print('===============================')"
   ]
  },
  {
   "cell_type": "markdown",
   "metadata": {},
   "source": [
    "## 練習題\n",
    "- 請協助我抓取發布作者與時間？"
   ]
  },
  {
   "cell_type": "code",
   "execution_count": 104,
   "metadata": {},
   "outputs": [
    {
     "name": "stdout",
     "output_type": "stream",
     "text": [
      "[消失的收據] 幫備份：這版有人被告公然侮辱了。開放登記免費雞排50份 美酒斗十千 2020-09-10 8:53 https://www.mobile01.com/topicdetail.php?f=18&t=6186791 195\n",
      "===============================\n",
      "大家都還再等雙11優惠？ 小鬼☆ 2020-10-15 20:53 https://www.mobile01.com/topicdetail.php?f=18&t=6214059 10\n",
      "===============================\n",
      "台哥大299吃到飽留客方案! 阿智1517 2019-05-20 13:38 https://www.mobile01.com/topicdetail.php?f=18&t=5797944 739\n",
      "===============================\n",
      "亞太電信5G記者會：10/22登場 瑪姬* 2020-10-16 12:48 https://www.mobile01.com/topicdetail.php?f=18&t=6214472 4\n",
      "===============================\n",
      "1111 三大的5G 599應該會下殺到499吧! 125475368 2020-10-06 18:32 https://www.mobile01.com/topicdetail.php?f=18&t=6207634 17\n",
      "===============================\n",
      "中華 VS 遠傳 Speedtest PK LeeFred 2020-10-15 10:46 https://www.mobile01.com/topicdetail.php?f=18&t=6213586 6\n",
      "===============================\n",
      "【分享】所以哪個通路買iPhone12卡便宜? 蒂理珍妮 2020-10-15 16:40 https://www.mobile01.com/topicdetail.php?f=18&t=6213908 5\n",
      "===============================\n",
      "台哥大預付卡也是會自動延長的 Elvis-EVO 2019-08-13 17:15 https://www.mobile01.com/topicdetail.php?f=18&t=5870149 14\n",
      "===============================\n",
      "我被台灣之星陰了嗎，喬好免違約金解約，但最後一期出帳卻多了3000 necomata 2020-10-15 22:02 https://www.mobile01.com/topicdetail.php?f=18&t=6214113 11\n",
      "===============================\n",
      "遠傳iPhone 12資費出爐 月租999起跳 ElterRun 2020-10-16 12:27 https://www.mobile01.com/topicdetail.php?f=18&t=6214458 2\n",
      "===============================\n",
      "電信門號退租，員工扣業績？ 空巴A380 2020-10-10 16:06 https://www.mobile01.com/topicdetail.php?f=18&t=6210195 33\n",
      "===============================\n",
      "亞太5G終於要開台! braved 2020-10-16 12:31 https://www.mobile01.com/topicdetail.php?f=18&t=6214462 1\n",
      "===============================\n",
      "今年的 5G iphone 亞太的 5G mmwave 無法使用了⋯⋯😭 法客 2020-10-14 3:15 https://www.mobile01.com/topicdetail.php?f=18&t=6212622 25\n",
      "===============================\n",
      "連手機熱點的設備能跑到100M嗎 樂觀樂觀 2020-10-08 1:00 https://www.mobile01.com/topicdetail.php?f=18&t=6208626 13\n",
      "===============================\n",
      "4G的SIM卡用在3G的手機上可以通話及上網嗎? 台灣NO1加油 2014-06-06 16:01 https://www.mobile01.com/topicdetail.php?f=18&t=3938052 19\n",
      "===============================\n",
      "有人會想辦嗎?台星599真不值，辦了會被笑吧? 真的很抱歉 2020-10-16 0:14 https://www.mobile01.com/topicdetail.php?f=18&t=6214172 2\n",
      "===============================\n",
      "亞太電信 10/22 將宣佈 5G 正式開台 Arthur0224 2020-10-16 11:00 https://www.mobile01.com/topicdetail.php?f=18&t=6214415 0\n",
      "===============================\n",
      "<已解決>請問：不會打電話、上網，單純收認證簡訊用，目前哪種最便宜？ nwcs 2020-10-15 12:01 https://www.mobile01.com/topicdetail.php?f=18&t=6213680 26\n",
      "===============================\n",
      "5G時代來臨 wifi怎麼辦 ally870506 2020-10-15 13:57 https://www.mobile01.com/topicdetail.php?f=18&t=6213775 5\n",
      "===============================\n",
      "台灣大哥大 優惠方案(攜碼) 紫夏嵐 2019-05-21 19:42 https://www.mobile01.com/topicdetail.php?f=18&t=5799167 458\n",
      "===============================\n",
      "亞太這麼早就在衝1111了😳 法客 2020-10-15 11:57 https://www.mobile01.com/topicdetail.php?f=18&t=6213674 32\n",
      "===============================\n",
      "現在中華4G 699退傭 最高還可以退多少 python95613 2020-10-05 22:13 https://www.mobile01.com/topicdetail.php?f=18&t=6206774 7\n",
      "===============================\n",
      "中華電信母親節方案499即將到期,請問到期的朋友有找到代替方案了嗎? obicome 2020-10-14 10:19 https://www.mobile01.com/topicdetail.php?f=18&t=6212751 38\n",
      "===============================\n",
      "中華電信預付卡未儲值被停掉變空號疑問 時尚的芭樂 2020-10-12 10:41 https://www.mobile01.com/topicdetail.php?f=18&t=6211193 16\n",
      "===============================\n",
      "QQ帳號真的難申請(2019/9/19~09/25已解決) luck100joy 2019-09-19 19:47 https://www.mobile01.com/topicdetail.php?f=18&t=5904439 120\n",
      "===============================\n",
      "亞太新朋友資費 若含哥哥 2020-10-13 10:28 https://www.mobile01.com/topicdetail.php?f=18&t=6211959 34\n",
      "===============================\n",
      "台灣之星店員說 2020 不會有雙11優惠4G方案 mobile2009 2020-10-07 11:49 https://www.mobile01.com/topicdetail.php?f=18&t=6208135 86\n",
      "===============================\n",
      "台星iPhone 12預約優惠 AirPods Pro半價 glenn209 2020-10-14 16:25 https://www.mobile01.com/topicdetail.php?f=18&t=6213041 10\n",
      "===============================\n",
      "台灣會跟進韓國退掉5G網路,回頭使用4G網路的風潮嗎？ 龜軟趴火 2020-10-11 20:52 https://www.mobile01.com/topicdetail.php?f=18&t=6210861 23\n",
      "===============================\n",
      "神奇的遠傳活動簡訊 試用門號辦的試用帳號 2020-10-13 21:31 https://www.mobile01.com/topicdetail.php?f=18&t=6212468 7\n",
      "===============================\n"
     ]
    }
   ],
   "source": [
    "domain = 'https://www.mobile01.com/'\n",
    "for tr in soup.select('.l-listTable__tr'):\n",
    "    if tr.select_one('.c-listTableTd__title a'):\n",
    "        link = domain + tr.select_one('.c-listTableTd__title a').get('href')\n",
    "        title = tr.select_one('.c-listTableTd__title a').text\n",
    "        cnt = tr.select_one('.o-fMini').text\n",
    "        td = tr.select('.l-listTable__td.l-listTable__td--time')\n",
    "        author = td[0].select_one('a').text\n",
    "        dt = td[0].select_one('.o-fNotes').text\n",
    "        print(title, author, dt, link, cnt)\n",
    "        print('===============================')"
   ]
  },
  {
   "cell_type": "markdown",
   "metadata": {},
   "source": [
    "## 抓取內文資訊"
   ]
  },
  {
   "cell_type": "code",
   "execution_count": 107,
   "metadata": {},
   "outputs": [],
   "source": [
    "import requests\n",
    "headers = {\n",
    "   'user-agent': 'Mozilla/5.0 (Windows NT 10.0; Win64; x64) AppleWebKit/537.36 (KHTML, like Gecko) Chrome/86.0.4240.75 Safari/537.36' \n",
    "}\n",
    "res = requests.get('https://www.mobile01.com/topicdetail.php?f=18&t=5797944', headers = headers)\n",
    "#res.text"
   ]
  },
  {
   "cell_type": "code",
   "execution_count": 118,
   "metadata": {},
   "outputs": [],
   "source": [
    "from bs4 import BeautifulSoup\n",
    "soup = BeautifulSoup(res.text, 'lxml')"
   ]
  },
  {
   "cell_type": "code",
   "execution_count": 110,
   "metadata": {},
   "outputs": [
    {
     "data": {
      "text/plain": [
       "'台哥大299吃到飽留客方案!'"
      ]
     },
     "execution_count": 110,
     "metadata": {},
     "output_type": "execute_result"
    }
   ],
   "source": [
    "soup.select_one('.l-docking__title .t2').text"
   ]
  },
  {
   "cell_type": "code",
   "execution_count": 133,
   "metadata": {},
   "outputs": [
    {
     "name": "stdout",
     "output_type": "stream",
     "text": [
      "阿智1517 原本是用台哥大499 2年合約\n",
      "\n",
      "合約到期日只剩一個禮拜! 本來想這陣子NP去中華\n",
      "\n",
      "後來剛剛接到台哥大來電 說今天是520特殊節日 用299就可以上網吃到飽\n",
      "\n",
      "\n",
      "\n",
      "299網速無限速 網內通話前5分鐘免費 網外送30分鐘 市話沒送要另計費\n",
      "\n",
      "合約綁一年! 2019-05-20 13:38\n",
      "===================================\n",
      "navy95 啥?獲利王想開了? 上週電消都在324-349之間\n",
      "看來台星299有殺到一些吧 語音也送的夠多\n",
      "搶先不常打市話到可行 2019-05-20 13:46\n",
      "===================================\n",
      "jackc3697 也接到了，是原本499，每個月補貼200變299，只有1年約!! 2019-05-20 13:48\n",
      "===================================\n",
      "cust123456789 1小時前也接到電話...\n",
      "我是同意讓他綁一年啦.... 2019-05-20 14:02\n",
      "===================================\n",
      "sixcash 我也接到了,還有3個月2年約合約才到期,原本499吃到飽,\n",
      "可以提早續約299 綁約一年,之後回到原本的499的約,\n",
      "真的蠻多不錯的,考慮之後立馬回電續約\n",
      "沒接到電話的可以等等看,如果不在名單內,要到電話撥進去一樣會跟你說沒有這個方案,\n",
      "在名單內的打188進去,客服對完基本資料後,說要找剛撥電話給我299續約的小姐,\n",
      "因為我要問一些保約多久的問題,客服很有警覺心救回我說,他不清楚現在299方案的內容是甚麼,\n",
      "我請剛哪位小姐回電給你,\n",
      "\n",
      "所以別再私訊問有沒有哪個小姐的電話分機了...@@\n",
      "不過有請他幫老婆一樣499跟主管爭取一下,老婆不在299名單內 2019-05-20 14:04\n",
      "===================================\n",
      "橘菓子 剛問台哥大客服說目前沒收到相關促銷訊息\n",
      "\n",
      "請問各位可提供電銷人員的電話嗎 2019-05-20 14:08\n",
      "===================================\n",
      "Shirley599 橘菓子 wrote:\n",
      "剛問台哥大客服說目...(恕刪)\n",
      "\n",
      "\n",
      "我是今天攜碼台哥大299\n",
      "網內免費，4G飆速12G傳輸量免費，\n",
      "再送網外60分鐘+市話60分鐘。\n",
      "24個月\n",
      "\n",
      "電銷有留電話給我，有需要的可私訊 2019-05-20 14:42\n",
      "===================================\n",
      "junhechen02 挖靠 以前都299+399\n",
      "現在直接299\n",
      "這麼競爭阿 2019-05-20 14:48\n",
      "===================================\n",
      "cheb0411 sixcash wrote:\n",
      "我也接到了,還有3個...(恕刪)\n",
      "\n",
      "\n",
      "我是還有5個月，早上也接到電話蠻意外的\n",
      "反而我太太還有10天約到，我請對方一起綁，她說要請示主管\n",
      "據說此方案今天是第一天上路，而且不是隨便給的樣子(客服說詞)\n",
      "\n",
      "先前我太太是一直接到客服的電話是原條件繼續續約(398，限速21M吃到飽)\n",
      "我們還在觀望母親節檔期，所以一直沒有答應~\n",
      "\n",
      "想到要留老客戶，終於想通了\n",
      "不然我們是打算給退傭名店做業績去了~ 2019-05-20 14:56\n",
      "===================================\n",
      "tangbaby 今天也續約成功299網速無限速 網內通話前5分鐘免費 網外送30分鐘 市話沒送要另計費\n",
      "\n",
      "合約綁一年!.\n",
      "\n",
      "\n",
      "原約999路過 2019-05-20 15:07\n",
      "===================================\n"
     ]
    }
   ],
   "source": [
    "for comments in soup.select('.l-articlePage'):\n",
    "    #print(comments)\n",
    "    article = comments.select_one('article').text.strip()\n",
    "    author = comments.select_one('.c-authorInfo__id .u-ellipsis').text.strip()\n",
    "    dt = comments.select_one('.o-fNotes.o-fSubMini').text.strip()\n",
    "    #if comments.select_one('article'):\n",
    "    #    print(comments.select_one('article').text)\n",
    "    print(author, article, dt)\n",
    "    print('===================================')"
   ]
  },
  {
   "cell_type": "code",
   "execution_count": null,
   "metadata": {},
   "outputs": [],
   "source": [
    "https://www.mobile01.com/topicdetail.php?f=18&t=5797944\n",
    "https://www.mobile01.com/topicdetail.php?f=18&t=5797944&p=2"
   ]
  },
  {
   "cell_type": "code",
   "execution_count": 140,
   "metadata": {},
   "outputs": [],
   "source": [
    "last_page = int(soup.select('.l-navigation__item--min .c-pagination')[-1].text)"
   ]
  },
  {
   "cell_type": "code",
   "execution_count": 165,
   "metadata": {},
   "outputs": [],
   "source": [
    "from bs4 import BeautifulSoup\n",
    "headers = {\n",
    "   'user-agent': 'Mozilla/5.0 (Windows NT 10.0; Win64; x64) AppleWebKit/537.36 (KHTML, like Gecko) Chrome/86.0.4240.75 Safari/537.36' \n",
    "}\n",
    "\n",
    "def getPageComments(pageurl, title ,page):\n",
    "\n",
    "    res = requests.get(pageurl + '&p={}'.format(page), headers = headers)\n",
    "\n",
    "    soup = BeautifulSoup(res.text, 'lxml')\n",
    "    comments_ary = []\n",
    "    for comment in soup.select('.l-articlePage'):\n",
    "        # 如果該篇文章存在\n",
    "        if comment.select_one('.c-authorInfo__id a'):\n",
    "            dic = {}\n",
    "            dic['title'] = title\n",
    "            dic['author']= comment.select_one('.c-authorInfo__id a').text.strip()\n",
    "            dic['dt']    = comment.select_one('.o-fNotes.o-fSubMini').text\n",
    "            dic['comment']= comment.select_one('article').text.strip()\n",
    "            # 新增評論\n",
    "            comments_ary.append(dic)\n",
    "    return comments_ary\n"
   ]
  },
  {
   "cell_type": "code",
   "execution_count": 166,
   "metadata": {},
   "outputs": [],
   "source": [
    "title = soup.select_one('.l-docking__title .t2').text"
   ]
  },
  {
   "cell_type": "code",
   "execution_count": 167,
   "metadata": {},
   "outputs": [],
   "source": [
    "comments = getPageComments('https://www.mobile01.com/topicdetail.php?f=18&t=5797944', title ,3)"
   ]
  },
  {
   "cell_type": "code",
   "execution_count": 169,
   "metadata": {},
   "outputs": [],
   "source": [
    "#comments"
   ]
  },
  {
   "cell_type": "code",
   "execution_count": 170,
   "metadata": {},
   "outputs": [
    {
     "data": {
      "text/plain": [
       "74"
      ]
     },
     "execution_count": 170,
     "metadata": {},
     "output_type": "execute_result"
    }
   ],
   "source": [
    "last_page = int(soup.select('.l-navigation__item--min .c-pagination')[-1].text)\n",
    "last_page"
   ]
  },
  {
   "cell_type": "code",
   "execution_count": 171,
   "metadata": {},
   "outputs": [
    {
     "data": {
      "text/plain": [
       "[1, 2, 3, 2, 3, 4]"
      ]
     },
     "execution_count": 171,
     "metadata": {},
     "output_type": "execute_result"
    }
   ],
   "source": [
    "a = [1,2,3]\n",
    "b = [2,3,4]\n",
    "a + b"
   ]
  },
  {
   "cell_type": "code",
   "execution_count": 172,
   "metadata": {},
   "outputs": [],
   "source": [
    "comments_all = []\n",
    "for p in range(1,3+1):\n",
    "     comments_all =  comments_all + getPageComments('https://www.mobile01.com/topicdetail.php?f=18&t=5797944', title ,p)"
   ]
  },
  {
   "cell_type": "code",
   "execution_count": 174,
   "metadata": {},
   "outputs": [],
   "source": [
    "#comments_all"
   ]
  },
  {
   "cell_type": "markdown",
   "metadata": {},
   "source": [
    "## 取得所有評論"
   ]
  },
  {
   "cell_type": "code",
   "execution_count": null,
   "metadata": {},
   "outputs": [],
   "source": [
    "def getPageComments(pageurl, title ,page):\n",
    "\n",
    "    res = requests.get(pageurl + '&p={}'.format(page), headers = headers)\n",
    "\n",
    "    soup = BeautifulSoup(res.text, 'lxml')\n",
    "    comments_ary = []\n",
    "    for comment in soup.select('.l-articlePage'):\n",
    "        # 如果該篇文章存在\n",
    "        if comment.select_one('.c-authorInfo__id a'):\n",
    "            dic = {}\n",
    "            dic['title'] = title\n",
    "            dic['author']= comment.select_one('.c-authorInfo__id a').text.strip()\n",
    "            dic['dt']    = comment.select_one('.o-fNotes.o-fSubMini').text\n",
    "            dic['comment']= comment.select_one('article').text.strip()\n",
    "            # 新增評論\n",
    "            comments_ary.append(dic)\n",
    "    return comments_ary"
   ]
  },
  {
   "cell_type": "code",
   "execution_count": 198,
   "metadata": {},
   "outputs": [],
   "source": [
    "import requests\n",
    "from bs4 import BeautifulSoup\n",
    "\n",
    "headers = {\n",
    "   'user-agent': 'Mozilla/5.0 (Windows NT 10.0; Win64; x64) AppleWebKit/537.36 (KHTML, like Gecko) Chrome/86.0.4240.75 Safari/537.36' \n",
    "}\n",
    "pageurl = 'https://www.mobile01.com/topicdetail.php?f=18&t=5797944'\n",
    "\n",
    "def getAllComments(pageurl):\n",
    "    res = requests.get(pageurl, headers = headers)\n",
    "    soup = BeautifulSoup(res.text, 'lxml')\n",
    "\n",
    "    title = soup.select_one('.l-docking__title .t2').text\n",
    "    last_page = 1\n",
    "    if soup.select('.l-navigation__item--min .c-pagination'):\n",
    "        last_page = int(soup.select('.l-navigation__item--min .c-pagination')[-1].text)\n",
    "\n",
    "    comments_all = []\n",
    "    for p in range(1,last_page+1):\n",
    "         comments_all =  comments_all + getPageComments(pageurl, title ,p)\n",
    "    return comments_all\n"
   ]
  },
  {
   "cell_type": "code",
   "execution_count": 199,
   "metadata": {},
   "outputs": [],
   "source": [
    "allcomments = getAllComments('https://www.mobile01.com/topicdetail.php?f=18&t=6211826')"
   ]
  },
  {
   "cell_type": "code",
   "execution_count": 200,
   "metadata": {},
   "outputs": [
    {
     "data": {
      "text/plain": [
       "15"
      ]
     },
     "execution_count": 200,
     "metadata": {},
     "output_type": "execute_result"
    }
   ],
   "source": [
    "len(allcomments)"
   ]
  },
  {
   "cell_type": "markdown",
   "metadata": {},
   "source": [
    "## 完整抓取所有評論"
   ]
  },
  {
   "cell_type": "code",
   "execution_count": 201,
   "metadata": {},
   "outputs": [],
   "source": [
    "import requests\n",
    "from bs4 import BeautifulSoup\n",
    "headers = {\n",
    "   'user-agent': 'Mozilla/5.0 (Windows NT 10.0; Win64; x64) AppleWebKit/537.36 (KHTML, like Gecko) Chrome/86.0.4240.75 Safari/537.36' \n",
    "}\n",
    "res = requests.get('https://www.mobile01.com/topiclist.php?f=18', headers = headers)\n",
    "soup = BeautifulSoup(res.text, 'lxml')"
   ]
  },
  {
   "cell_type": "code",
   "execution_count": 202,
   "metadata": {},
   "outputs": [],
   "source": [
    "domain = 'https://www.mobile01.com/'\n",
    "comments_total = []\n",
    "for link in soup.select('.c-listTableTd__title .u-ellipsis'):\n",
    "    #print(domain + link.get('href'))\n",
    "    comments_total = comments_total + getAllComments(domain + link.get('href'))\n",
    "    break"
   ]
  },
  {
   "cell_type": "code",
   "execution_count": 203,
   "metadata": {},
   "outputs": [],
   "source": [
    "#comments_total"
   ]
  },
  {
   "cell_type": "markdown",
   "metadata": {},
   "source": [
    "## 練習題\n",
    "- 請修改上面程序，讓爬蟲能夠抓取多頁列表的所有主題內容？"
   ]
  },
  {
   "cell_type": "code",
   "execution_count": null,
   "metadata": {},
   "outputs": [],
   "source": [
    "https://www.mobile01.com/topiclist.php?f=18\n",
    "https://www.mobile01.com/topiclist.php?f=18&p=2"
   ]
  },
  {
   "cell_type": "code",
   "execution_count": 204,
   "metadata": {},
   "outputs": [
    {
     "name": "stdout",
     "output_type": "stream",
     "text": [
      "https://www.mobile01.com/topiclist.php?f=18&p=1\n",
      "https://www.mobile01.com/topiclist.php?f=18&p=2\n",
      "https://www.mobile01.com/topiclist.php?f=18&p=3\n",
      "https://www.mobile01.com/topiclist.php?f=18&p=4\n",
      "https://www.mobile01.com/topiclist.php?f=18&p=5\n"
     ]
    }
   ],
   "source": [
    "forumurl = 'https://www.mobile01.com/topiclist.php?f=18'\n",
    "for p in range(1,6):\n",
    "    print(forumurl + '&p={}'.format(p))"
   ]
  },
  {
   "cell_type": "code",
   "execution_count": 210,
   "metadata": {},
   "outputs": [],
   "source": [
    "import requests\n",
    "from bs4 import BeautifulSoup\n",
    "headers = {\n",
    "   'user-agent': 'Mozilla/5.0 (Windows NT 10.0; Win64; x64) AppleWebKit/537.36 (KHTML, like Gecko) Chrome/86.0.4240.75 Safari/537.36' \n",
    "}\n",
    "forumurl = 'https://www.mobile01.com/topiclist.php?f=18'\n",
    "domain = 'https://www.mobile01.com/'\n",
    "def getForumComments(forumurl):\n",
    "    comments_total = []\n",
    "    for p in range(1,2):\n",
    "        res = requests.get(forumurl + '&p={}'.format(p), headers = headers)\n",
    "        soup = BeautifulSoup(res.text, 'lxml')\n",
    "        for link in soup.select('.c-listTableTd__title .u-ellipsis')[0:5]:\n",
    "            comments_total = comments_total + getAllComments(domain + link.get('href'))\n",
    "    return comments_total"
   ]
  },
  {
   "cell_type": "code",
   "execution_count": 211,
   "metadata": {},
   "outputs": [],
   "source": [
    "forumComments = getForumComments('https://www.mobile01.com/topiclist.php?f=18')"
   ]
  },
  {
   "cell_type": "code",
   "execution_count": 213,
   "metadata": {},
   "outputs": [],
   "source": [
    "#forumComments"
   ]
  },
  {
   "cell_type": "markdown",
   "metadata": {},
   "source": [
    "## Pandas"
   ]
  },
  {
   "cell_type": "code",
   "execution_count": 214,
   "metadata": {},
   "outputs": [],
   "source": [
    "users =  [{'name': 'david', 'age': 18}, {'name': 'qoo', 'age':12}]"
   ]
  },
  {
   "cell_type": "code",
   "execution_count": 215,
   "metadata": {},
   "outputs": [],
   "source": [
    "import pandas\n",
    "df = pandas.DataFrame(users)"
   ]
  },
  {
   "cell_type": "code",
   "execution_count": 216,
   "metadata": {},
   "outputs": [
    {
     "data": {
      "text/html": [
       "<div>\n",
       "<style scoped>\n",
       "    .dataframe tbody tr th:only-of-type {\n",
       "        vertical-align: middle;\n",
       "    }\n",
       "\n",
       "    .dataframe tbody tr th {\n",
       "        vertical-align: top;\n",
       "    }\n",
       "\n",
       "    .dataframe thead th {\n",
       "        text-align: right;\n",
       "    }\n",
       "</style>\n",
       "<table border=\"1\" class=\"dataframe\">\n",
       "  <thead>\n",
       "    <tr style=\"text-align: right;\">\n",
       "      <th></th>\n",
       "      <th>name</th>\n",
       "      <th>age</th>\n",
       "    </tr>\n",
       "  </thead>\n",
       "  <tbody>\n",
       "    <tr>\n",
       "      <th>0</th>\n",
       "      <td>david</td>\n",
       "      <td>18</td>\n",
       "    </tr>\n",
       "    <tr>\n",
       "      <th>1</th>\n",
       "      <td>qoo</td>\n",
       "      <td>12</td>\n",
       "    </tr>\n",
       "  </tbody>\n",
       "</table>\n",
       "</div>"
      ],
      "text/plain": [
       "    name  age\n",
       "0  david   18\n",
       "1    qoo   12"
      ]
     },
     "execution_count": 216,
     "metadata": {},
     "output_type": "execute_result"
    }
   ],
   "source": [
    "df"
   ]
  },
  {
   "cell_type": "code",
   "execution_count": 217,
   "metadata": {},
   "outputs": [],
   "source": [
    "import pandas\n",
    "comments_df = pandas.DataFrame(forumComments)"
   ]
  },
  {
   "cell_type": "code",
   "execution_count": 219,
   "metadata": {},
   "outputs": [
    {
     "data": {
      "text/html": [
       "<div>\n",
       "<style scoped>\n",
       "    .dataframe tbody tr th:only-of-type {\n",
       "        vertical-align: middle;\n",
       "    }\n",
       "\n",
       "    .dataframe tbody tr th {\n",
       "        vertical-align: top;\n",
       "    }\n",
       "\n",
       "    .dataframe thead th {\n",
       "        text-align: right;\n",
       "    }\n",
       "</style>\n",
       "<table border=\"1\" class=\"dataframe\">\n",
       "  <thead>\n",
       "    <tr style=\"text-align: right;\">\n",
       "      <th></th>\n",
       "      <th>title</th>\n",
       "      <th>author</th>\n",
       "      <th>dt</th>\n",
       "      <th>comment</th>\n",
       "    </tr>\n",
       "  </thead>\n",
       "  <tbody>\n",
       "    <tr>\n",
       "      <th>0</th>\n",
       "      <td>台灣之星月租1199元 舊換新 0元換iPhone 12</td>\n",
       "      <td>MarilynCastle</td>\n",
       "      <td>2020-10-16 14:50</td>\n",
       "      <td>https://ec.ltn.com.tw/article/breakingnews/332...</td>\n",
       "    </tr>\n",
       "    <tr>\n",
       "      <th>1</th>\n",
       "      <td>台灣之星月租1199元 舊換新 0元換iPhone 12</td>\n",
       "      <td>咖啡只加糖</td>\n",
       "      <td>2020-10-16 16:35</td>\n",
       "      <td>1. 等雙11 看有沒有跟去年一樣的 599 0元入手\\n2.單門號188 +空機</td>\n",
       "    </tr>\n",
       "    <tr>\n",
       "      <th>2</th>\n",
       "      <td>遠傳iPhone 12資費出爐 月租999起跳</td>\n",
       "      <td>ElterRun</td>\n",
       "      <td>2020-10-16 12:27</td>\n",
       "      <td>遠傳iPhone 12資費出爐 月租999起跳\\n\\n\\n\\n遠傳今日公布iPhone 12...</td>\n",
       "    </tr>\n",
       "    <tr>\n",
       "      <th>3</th>\n",
       "      <td>遠傳iPhone 12資費出爐 月租999起跳</td>\n",
       "      <td>grason00</td>\n",
       "      <td>2020-10-16 12:59</td>\n",
       "      <td>最少要綁約3年...還有綁約4年的\\n綁約越來越久了</td>\n",
       "    </tr>\n",
       "    <tr>\n",
       "      <th>4</th>\n",
       "      <td>遠傳iPhone 12資費出爐 月租999起跳</td>\n",
       "      <td>小黑3428</td>\n",
       "      <td>2020-10-16 13:15</td>\n",
       "      <td>grason00 wrote:\\n最少要綁約3年...(恕刪)\\n\\n\\n如果能夠0元帶回家...</td>\n",
       "    </tr>\n",
       "  </tbody>\n",
       "</table>\n",
       "</div>"
      ],
      "text/plain": [
       "                          title         author                dt  \\\n",
       "0  台灣之星月租1199元 舊換新 0元換iPhone 12  MarilynCastle  2020-10-16 14:50   \n",
       "1  台灣之星月租1199元 舊換新 0元換iPhone 12          咖啡只加糖  2020-10-16 16:35   \n",
       "2       遠傳iPhone 12資費出爐 月租999起跳       ElterRun  2020-10-16 12:27   \n",
       "3       遠傳iPhone 12資費出爐 月租999起跳       grason00  2020-10-16 12:59   \n",
       "4       遠傳iPhone 12資費出爐 月租999起跳         小黑3428  2020-10-16 13:15   \n",
       "\n",
       "                                             comment  \n",
       "0  https://ec.ltn.com.tw/article/breakingnews/332...  \n",
       "1          1. 等雙11 看有沒有跟去年一樣的 599 0元入手\\n2.單門號188 +空機  \n",
       "2  遠傳iPhone 12資費出爐 月租999起跳\\n\\n\\n\\n遠傳今日公布iPhone 12...  \n",
       "3                         最少要綁約3年...還有綁約4年的\\n綁約越來越久了  \n",
       "4  grason00 wrote:\\n最少要綁約3年...(恕刪)\\n\\n\\n如果能夠0元帶回家...  "
      ]
     },
     "execution_count": 219,
     "metadata": {},
     "output_type": "execute_result"
    }
   ],
   "source": [
    "comments_df.head()"
   ]
  },
  {
   "cell_type": "code",
   "execution_count": 220,
   "metadata": {},
   "outputs": [],
   "source": [
    "comments_df.to_excel('mobile01.xlsx')"
   ]
  },
  {
   "cell_type": "code",
   "execution_count": 221,
   "metadata": {},
   "outputs": [],
   "source": [
    "! open mobile01.xlsx"
   ]
  },
  {
   "cell_type": "code",
   "execution_count": 222,
   "metadata": {},
   "outputs": [],
   "source": [
    "topic_ary = getAllComments('https://www.mobile01.com/topicdetail.php?f=18&t=5797944')"
   ]
  },
  {
   "cell_type": "code",
   "execution_count": 223,
   "metadata": {},
   "outputs": [
    {
     "data": {
      "text/plain": [
       "[{'title': '台哥大299吃到飽留客方案!',\n",
       "  'author': '阿智1517',\n",
       "  'dt': '2019-05-20 13:38',\n",
       "  'comment': '原本是用台哥大499 2年合約\\n\\n合約到期日只剩一個禮拜! 本來想這陣子NP去中華\\n\\n後來剛剛接到台哥大來電 說今天是520特殊節日 用299就可以上網吃到飽\\n\\n\\n\\n299網速無限速 網內通話前5分鐘免費 網外送30分鐘 市話沒送要另計費\\n\\n合約綁一年!'},\n",
       " {'title': '台哥大299吃到飽留客方案!',\n",
       "  'author': 'navy95',\n",
       "  'dt': '2019-05-20 13:46',\n",
       "  'comment': '啥?獲利王想開了? 上週電消都在324-349之間\\n看來台星299有殺到一些吧 語音也送的夠多\\n搶先不常打市話到可行'},\n",
       " {'title': '台哥大299吃到飽留客方案!',\n",
       "  'author': 'jackc3697',\n",
       "  'dt': '2019-05-20 13:48',\n",
       "  'comment': '也接到了，是原本499，每個月補貼200變299，只有1年約!!'}]"
      ]
     },
     "execution_count": 223,
     "metadata": {},
     "output_type": "execute_result"
    }
   ],
   "source": [
    "topic_ary[0:3]"
   ]
  },
  {
   "cell_type": "code",
   "execution_count": 224,
   "metadata": {},
   "outputs": [],
   "source": [
    "topic_df = pandas.DataFrame(topic_ary)"
   ]
  },
  {
   "cell_type": "code",
   "execution_count": 225,
   "metadata": {},
   "outputs": [
    {
     "data": {
      "text/html": [
       "<div>\n",
       "<style scoped>\n",
       "    .dataframe tbody tr th:only-of-type {\n",
       "        vertical-align: middle;\n",
       "    }\n",
       "\n",
       "    .dataframe tbody tr th {\n",
       "        vertical-align: top;\n",
       "    }\n",
       "\n",
       "    .dataframe thead th {\n",
       "        text-align: right;\n",
       "    }\n",
       "</style>\n",
       "<table border=\"1\" class=\"dataframe\">\n",
       "  <thead>\n",
       "    <tr style=\"text-align: right;\">\n",
       "      <th></th>\n",
       "      <th>title</th>\n",
       "      <th>author</th>\n",
       "      <th>dt</th>\n",
       "      <th>comment</th>\n",
       "    </tr>\n",
       "  </thead>\n",
       "  <tbody>\n",
       "    <tr>\n",
       "      <th>0</th>\n",
       "      <td>台哥大299吃到飽留客方案!</td>\n",
       "      <td>阿智1517</td>\n",
       "      <td>2019-05-20 13:38</td>\n",
       "      <td>原本是用台哥大499 2年合約\\n\\n合約到期日只剩一個禮拜! 本來想這陣子NP去中華\\n\\...</td>\n",
       "    </tr>\n",
       "    <tr>\n",
       "      <th>1</th>\n",
       "      <td>台哥大299吃到飽留客方案!</td>\n",
       "      <td>navy95</td>\n",
       "      <td>2019-05-20 13:46</td>\n",
       "      <td>啥?獲利王想開了? 上週電消都在324-349之間\\n看來台星299有殺到一些吧 語音也送的...</td>\n",
       "    </tr>\n",
       "    <tr>\n",
       "      <th>2</th>\n",
       "      <td>台哥大299吃到飽留客方案!</td>\n",
       "      <td>jackc3697</td>\n",
       "      <td>2019-05-20 13:48</td>\n",
       "      <td>也接到了，是原本499，每個月補貼200變299，只有1年約!!</td>\n",
       "    </tr>\n",
       "    <tr>\n",
       "      <th>3</th>\n",
       "      <td>台哥大299吃到飽留客方案!</td>\n",
       "      <td>cust123456789</td>\n",
       "      <td>2019-05-20 14:02</td>\n",
       "      <td>1小時前也接到電話...\\n我是同意讓他綁一年啦....</td>\n",
       "    </tr>\n",
       "    <tr>\n",
       "      <th>4</th>\n",
       "      <td>台哥大299吃到飽留客方案!</td>\n",
       "      <td>sixcash</td>\n",
       "      <td>2019-05-20 14:04</td>\n",
       "      <td>我也接到了,還有3個月2年約合約才到期,原本499吃到飽,\\n可以提早續約299 綁約一年,...</td>\n",
       "    </tr>\n",
       "  </tbody>\n",
       "</table>\n",
       "</div>"
      ],
      "text/plain": [
       "            title         author                dt  \\\n",
       "0  台哥大299吃到飽留客方案!         阿智1517  2019-05-20 13:38   \n",
       "1  台哥大299吃到飽留客方案!         navy95  2019-05-20 13:46   \n",
       "2  台哥大299吃到飽留客方案!      jackc3697  2019-05-20 13:48   \n",
       "3  台哥大299吃到飽留客方案!  cust123456789  2019-05-20 14:02   \n",
       "4  台哥大299吃到飽留客方案!        sixcash  2019-05-20 14:04   \n",
       "\n",
       "                                             comment  \n",
       "0  原本是用台哥大499 2年合約\\n\\n合約到期日只剩一個禮拜! 本來想這陣子NP去中華\\n\\...  \n",
       "1  啥?獲利王想開了? 上週電消都在324-349之間\\n看來台星299有殺到一些吧 語音也送的...  \n",
       "2                   也接到了，是原本499，每個月補貼200變299，只有1年約!!  \n",
       "3                       1小時前也接到電話...\\n我是同意讓他綁一年啦....  \n",
       "4  我也接到了,還有3個月2年約合約才到期,原本499吃到飽,\\n可以提早續約299 綁約一年,...  "
      ]
     },
     "execution_count": 225,
     "metadata": {},
     "output_type": "execute_result"
    }
   ],
   "source": [
    "topic_df.head()"
   ]
  },
  {
   "cell_type": "code",
   "execution_count": 227,
   "metadata": {},
   "outputs": [
    {
     "data": {
      "text/plain": [
       "740"
      ]
     },
     "execution_count": 227,
     "metadata": {},
     "output_type": "execute_result"
    }
   ],
   "source": [
    "len(topic_df)"
   ]
  },
  {
   "cell_type": "code",
   "execution_count": 228,
   "metadata": {},
   "outputs": [
    {
     "data": {
      "text/plain": [
       "226"
      ]
     },
     "execution_count": 228,
     "metadata": {},
     "output_type": "execute_result"
    }
   ],
   "source": [
    "len(topic_df[topic_df['comment'].str.contains('台哥大')])"
   ]
  },
  {
   "cell_type": "code",
   "execution_count": 229,
   "metadata": {},
   "outputs": [
    {
     "data": {
      "text/plain": [
       "73"
      ]
     },
     "execution_count": 229,
     "metadata": {},
     "output_type": "execute_result"
    }
   ],
   "source": [
    "len(topic_df[topic_df['comment'].str.contains('遠傳')])"
   ]
  },
  {
   "cell_type": "code",
   "execution_count": 230,
   "metadata": {},
   "outputs": [
    {
     "data": {
      "text/plain": [
       "67"
      ]
     },
     "execution_count": 230,
     "metadata": {},
     "output_type": "execute_result"
    }
   ],
   "source": [
    "len(topic_df[topic_df['comment'].str.contains('中華')])"
   ]
  },
  {
   "cell_type": "markdown",
   "metadata": {},
   "source": [
    "## 將資料存入到資料庫中"
   ]
  },
  {
   "cell_type": "code",
   "execution_count": 231,
   "metadata": {},
   "outputs": [],
   "source": [
    "import sqlite3 \n",
    "with sqlite3.connect('comments.sqlite') as con:\n",
    "    topic_df.to_sql('mobile01_comments', con= con)"
   ]
  },
  {
   "cell_type": "code",
   "execution_count": 233,
   "metadata": {},
   "outputs": [],
   "source": [
    "import sqlite3 \n",
    "with sqlite3.connect('comments.sqlite') as con:\n",
    "    df2 = pandas.read_sql_query('select * from mobile01_comments limit 3', con= con)"
   ]
  },
  {
   "cell_type": "code",
   "execution_count": 234,
   "metadata": {},
   "outputs": [
    {
     "data": {
      "text/html": [
       "<div>\n",
       "<style scoped>\n",
       "    .dataframe tbody tr th:only-of-type {\n",
       "        vertical-align: middle;\n",
       "    }\n",
       "\n",
       "    .dataframe tbody tr th {\n",
       "        vertical-align: top;\n",
       "    }\n",
       "\n",
       "    .dataframe thead th {\n",
       "        text-align: right;\n",
       "    }\n",
       "</style>\n",
       "<table border=\"1\" class=\"dataframe\">\n",
       "  <thead>\n",
       "    <tr style=\"text-align: right;\">\n",
       "      <th></th>\n",
       "      <th>index</th>\n",
       "      <th>title</th>\n",
       "      <th>author</th>\n",
       "      <th>dt</th>\n",
       "      <th>comment</th>\n",
       "    </tr>\n",
       "  </thead>\n",
       "  <tbody>\n",
       "    <tr>\n",
       "      <th>0</th>\n",
       "      <td>0</td>\n",
       "      <td>台哥大299吃到飽留客方案!</td>\n",
       "      <td>阿智1517</td>\n",
       "      <td>2019-05-20 13:38</td>\n",
       "      <td>原本是用台哥大499 2年合約\\n\\n合約到期日只剩一個禮拜! 本來想這陣子NP去中華\\n\\...</td>\n",
       "    </tr>\n",
       "    <tr>\n",
       "      <th>1</th>\n",
       "      <td>1</td>\n",
       "      <td>台哥大299吃到飽留客方案!</td>\n",
       "      <td>navy95</td>\n",
       "      <td>2019-05-20 13:46</td>\n",
       "      <td>啥?獲利王想開了? 上週電消都在324-349之間\\n看來台星299有殺到一些吧 語音也送的...</td>\n",
       "    </tr>\n",
       "    <tr>\n",
       "      <th>2</th>\n",
       "      <td>2</td>\n",
       "      <td>台哥大299吃到飽留客方案!</td>\n",
       "      <td>jackc3697</td>\n",
       "      <td>2019-05-20 13:48</td>\n",
       "      <td>也接到了，是原本499，每個月補貼200變299，只有1年約!!</td>\n",
       "    </tr>\n",
       "  </tbody>\n",
       "</table>\n",
       "</div>"
      ],
      "text/plain": [
       "   index           title     author                dt  \\\n",
       "0      0  台哥大299吃到飽留客方案!     阿智1517  2019-05-20 13:38   \n",
       "1      1  台哥大299吃到飽留客方案!     navy95  2019-05-20 13:46   \n",
       "2      2  台哥大299吃到飽留客方案!  jackc3697  2019-05-20 13:48   \n",
       "\n",
       "                                             comment  \n",
       "0  原本是用台哥大499 2年合約\\n\\n合約到期日只剩一個禮拜! 本來想這陣子NP去中華\\n\\...  \n",
       "1  啥?獲利王想開了? 上週電消都在324-349之間\\n看來台星299有殺到一些吧 語音也送的...  \n",
       "2                   也接到了，是原本499，每個月補貼200變299，只有1年約!!  "
      ]
     },
     "execution_count": 234,
     "metadata": {},
     "output_type": "execute_result"
    }
   ],
   "source": [
    "df2"
   ]
  },
  {
   "cell_type": "markdown",
   "metadata": {},
   "source": [
    "## 591 租屋網"
   ]
  },
  {
   "cell_type": "code",
   "execution_count": 241,
   "metadata": {},
   "outputs": [],
   "source": [
    "import requests\n",
    "headers = {\n",
    "  'Cookie': '__auc=00cfda7016ae4653031fbc4809e; _ga=GA1.3.452025852.1558609998; T591_TOKEN=dhpkd9mm88po4m14m7jfu3sv52; _fbp=fb.2.1558610004061.1211475366; is_new_index=1; is_new_index_redirect=1; __utma=82835026.452025852.1558609998.1566801170.1572601144.8; pt_28697119=uid=lyRMkppNvrACPo412FemhA&nid=0&vid=8EWTYzSWdP80BT9qC0FltA&vn=12&pvn=2&sact=1576573271044&to_flag=0&pl=Af0sEO7Vketzfmkgv4vKBw*pt*1576573271044; tw591__privacy_agree=1; lastSearchRequirement=a%3A14%3A%7Bs%3A4%3A%22type%22%3Bs%3A4%3A%22sale%22%3Bs%3A8%3A%22regionid%22%3Bi%3A4%3Bs%3A9%3A%22sectionid%22%3Bi%3A0%3Bs%3A4%3A%22kind%22%3Bi%3A0%3Bs%3A5%3A%22shape%22%3Bi%3A0%3Bs%3A4%3A%22room%22%3Bi%3A0%3Bs%3A4%3A%22area%22%3Bi%3A0%3Bs%3A9%3A%22cartplace%22%3Bi%3A0%3Bs%3A9%3A%22balcony_1%22%3Bi%3A0%3Bs%3A3%3A%22pet%22%3Bi%3A0%3Bs%3A4%3A%22cook%22%3Bi%3A0%3Bs%3A4%3A%22role%22%3Bi%3A0%3Bs%3A8%3A%22newfloor%22%3Bi%3A0%3Bs%3A8%3A%22houseage%22%3Bi%3A0%3B%7D; ba_cid=a%3A5%3A%7Bs%3A6%3A%22ba_cid%22%3Bs%3A32%3A%229aa4d4a0ca2b9ce63a23ccd37be07bdb%22%3Bs%3A7%3A%22page_ex%22%3Bs%3A55%3A%22https%3A%2F%2Fwww.591.com.tw%2FnewCommunity-sale.html%3Fcid%3D77731%22%3Bs%3A4%3A%22page%22%3Bs%3A55%3A%22https%3A%2F%2Fwww.591.com.tw%2FnewCommunity-index.html%3Fcid%3D1356%22%3Bs%3A7%3A%22time_ex%22%3Bi%3A1590132961%3Bs%3A4%3A%22time%22%3Bi%3A1590133528%3B%7D; user_index_role=1; user_browse_recent=a%3A5%3A%7Bi%3A0%3Ba%3A2%3A%7Bs%3A4%3A%22type%22%3Bi%3A1%3Bs%3A7%3A%22post_id%22%3Bs%3A7%3A%229661301%22%3B%7Di%3A1%3Ba%3A2%3A%7Bs%3A4%3A%22type%22%3Bi%3A1%3Bs%3A7%3A%22post_id%22%3Bs%3A7%3A%229653887%22%3B%7Di%3A2%3Ba%3A2%3A%7Bs%3A4%3A%22type%22%3Bi%3A1%3Bs%3A7%3A%22post_id%22%3Bs%3A7%3A%229624854%22%3B%7Di%3A3%3Ba%3A2%3A%7Bs%3A4%3A%22type%22%3Bi%3A2%3Bs%3A7%3A%22post_id%22%3Bi%3A7939357%3B%7Di%3A4%3Ba%3A2%3A%7Bs%3A4%3A%22type%22%3Bi%3A1%3Bs%3A7%3A%22post_id%22%3Bs%3A7%3A%229611149%22%3B%7D%7D; webp=1; PHPSESSID=qu9hqh9pt9f1avb84111aa1v16; urlJumpIp=1; urlJumpIpByTxt=%E5%8F%B0%E5%8C%97%E5%B8%82; new_rent_list_kind_test=1; c10f3143a018a0513ebe1e8d27b5391c=1; _gid=GA1.3.2128184859.1602839200; _ga=GA1.4.452025852.1558609998; _gid=GA1.4.2128184859.1602839200; _dc_gtm_UA-97423186-1=1; _gat_UA-97423186-1=1; XSRF-TOKEN=eyJpdiI6IjYwTnRuXC9BUTYySjRrd3BFUlIyM3pBPT0iLCJ2YWx1ZSI6InI5K1RcL0RtN3pTYjEyNmdcL3JxUlU2RGFnZlgya0pXSFdnTzBZZnNYRTR2TDZOTzErRHUzbTdDVXR5Um1za1AwdCszVmxwY0RMSEl3WkU1WkZ0a2JUeVE9PSIsIm1hYyI6IjQ1OTBjZDc1OGM1Y2JlMDljYmFiNjY3NTQ2ZjA0MzdkMDkyMjI1NWQ1YjJmNTI5MjFmNGJlYWIwOGQwNGU0YjUifQ%3D%3D; 591_new_session=eyJpdiI6ImZMbExQV2Z5Uk5xdnJMMUFQakRIemc9PSIsInZhbHVlIjoiTk9BblpyWXdOSEIzUG1Jd1hQK0pQSFJadUhCb3JKRzV3TjRTWWFSb1pQTnVxOEk3a0NlRzZoVmRteFdVa09VWXcwWVY3RFY3Nk94YmxUMXJBeUc2TXc9PSIsIm1hYyI6ImYxZTU4YzY0NWVmMTM3NmFmN2JiZjgwYzkyMmY5YWQ5ZTQ2ZGE2YzA3Zjg4NTdmZTJmODRjNjA2YzA3MWVkMDAifQ%3D%3D',  \n",
    "  'Referer': 'https://rent.591.com.tw/?kind=1&region=1&section=5', \n",
    "  'X-CSRF-TOKEN': 'rHa5a51dJdC5lN4N5v3ihqKB9eM7YPGZu2svg0Pq',\n",
    "  'X-Requested-With': 'XMLHttpRequest'  ,\n",
    "  'User-Agent': 'Mozilla/5.0 (Macintosh; Intel Mac OS X 10_14_6) AppleWebKit/537.36 (KHTML, like Gecko) Chrome/86.0.4240.75 Safari/537.36'  \n",
    "}\n",
    "res = requests.get('https://rent.591.com.tw/home/search/rsList?is_new_list=1&type=1&kind=1&searchtype=1&region=1&section=5&firstRow=30&totalRows=851', headers = headers)\n",
    "jd = res.json()"
   ]
  },
  {
   "cell_type": "code",
   "execution_count": 250,
   "metadata": {},
   "outputs": [],
   "source": [
    "#jd['data']['data']"
   ]
  },
  {
   "cell_type": "code",
   "execution_count": null,
   "metadata": {},
   "outputs": [],
   "source": [
    "https://rent.591.com.tw/home/search/rsList?is_new_list=1&type=1&kind=1&searchtype=1&region=1&section=5&firstRow=60&totalRows=852\n",
    "https://rent.591.com.tw/home/search/rsList?is_new_list=1&type=1&kind=1&searchtype=1&region=1&section=5&firstRow=90&totalRows=852"
   ]
  },
  {
   "cell_type": "code",
   "execution_count": 244,
   "metadata": {},
   "outputs": [
    {
     "data": {
      "text/plain": [
       "29"
      ]
     },
     "execution_count": 244,
     "metadata": {},
     "output_type": "execute_result"
    }
   ],
   "source": [
    "import math\n",
    "math.ceil(852 / 30 )"
   ]
  },
  {
   "cell_type": "code",
   "execution_count": 251,
   "metadata": {},
   "outputs": [],
   "source": [
    "import pandas\n",
    "house_ary = []\n",
    "for i in range(0, math.ceil(852 / 30 )):\n",
    "    res = requests.get('https://rent.591.com.tw/home/search/rsList?is_new_list=1&type=1&kind=1&searchtype=1&region=1&section=5&firstRow={}&totalRows=851'.format(i * 30), headers = headers)\n",
    "    jd = res.json()\n",
    "    df = pandas.DataFrame(jd['data']['data'])\n",
    "    house_ary.append(df)"
   ]
  },
  {
   "cell_type": "code",
   "execution_count": 253,
   "metadata": {},
   "outputs": [
    {
     "data": {
      "text/plain": [
       "29"
      ]
     },
     "execution_count": 253,
     "metadata": {},
     "output_type": "execute_result"
    }
   ],
   "source": [
    "len(house_ary)"
   ]
  },
  {
   "cell_type": "code",
   "execution_count": 256,
   "metadata": {},
   "outputs": [],
   "source": [
    "house_df = pandas.concat(house_ary)"
   ]
  },
  {
   "cell_type": "code",
   "execution_count": 257,
   "metadata": {},
   "outputs": [
    {
     "data": {
      "text/plain": [
       "852"
      ]
     },
     "execution_count": 257,
     "metadata": {},
     "output_type": "execute_result"
    }
   ],
   "source": [
    "len(house_df)"
   ]
  },
  {
   "cell_type": "code",
   "execution_count": 259,
   "metadata": {},
   "outputs": [],
   "source": [
    "house_df = house_df[['address', 'floor', 'allfloor', 'layout','area', 'price','browsenum_all']]\n"
   ]
  },
  {
   "cell_type": "code",
   "execution_count": 260,
   "metadata": {},
   "outputs": [
    {
     "data": {
      "text/html": [
       "<div>\n",
       "<style scoped>\n",
       "    .dataframe tbody tr th:only-of-type {\n",
       "        vertical-align: middle;\n",
       "    }\n",
       "\n",
       "    .dataframe tbody tr th {\n",
       "        vertical-align: top;\n",
       "    }\n",
       "\n",
       "    .dataframe thead th {\n",
       "        text-align: right;\n",
       "    }\n",
       "</style>\n",
       "<table border=\"1\" class=\"dataframe\">\n",
       "  <thead>\n",
       "    <tr style=\"text-align: right;\">\n",
       "      <th></th>\n",
       "      <th>address</th>\n",
       "      <th>floor</th>\n",
       "      <th>allfloor</th>\n",
       "      <th>layout</th>\n",
       "      <th>area</th>\n",
       "      <th>price</th>\n",
       "      <th>browsenum_all</th>\n",
       "    </tr>\n",
       "  </thead>\n",
       "  <tbody>\n",
       "    <tr>\n",
       "      <th>0</th>\n",
       "      <td>敦化南路二段81巷信義安和..</td>\n",
       "      <td>1</td>\n",
       "      <td>5</td>\n",
       "      <td>2房2廳1衛</td>\n",
       "      <td>20.0</td>\n",
       "      <td>40,000</td>\n",
       "      <td>1721</td>\n",
       "    </tr>\n",
       "    <tr>\n",
       "      <th>1</th>\n",
       "      <td>仁愛路四段300巷仁愛延吉..</td>\n",
       "      <td>3</td>\n",
       "      <td>7</td>\n",
       "      <td>2房1廳1衛</td>\n",
       "      <td>19.0</td>\n",
       "      <td>41,000</td>\n",
       "      <td>1054</td>\n",
       "    </tr>\n",
       "    <tr>\n",
       "      <th>2</th>\n",
       "      <td>仁愛路四段48巷仁愛..</td>\n",
       "      <td>2</td>\n",
       "      <td>4</td>\n",
       "      <td>3房2廳2衛</td>\n",
       "      <td>36.0</td>\n",
       "      <td>45,000</td>\n",
       "      <td>1975</td>\n",
       "    </tr>\n",
       "    <tr>\n",
       "      <th>3</th>\n",
       "      <td>建國南路一段全新裝潢近北..</td>\n",
       "      <td>4</td>\n",
       "      <td>12</td>\n",
       "      <td>3房2廳2衛</td>\n",
       "      <td>34.0</td>\n",
       "      <td>59,000</td>\n",
       "      <td>736</td>\n",
       "    </tr>\n",
       "    <tr>\n",
       "      <th>4</th>\n",
       "      <td>仁愛路三段住商信義安和店..</td>\n",
       "      <td>13</td>\n",
       "      <td>28</td>\n",
       "      <td>3房2廳4衛</td>\n",
       "      <td>88.8</td>\n",
       "      <td>400,000</td>\n",
       "      <td>1688</td>\n",
       "    </tr>\n",
       "  </tbody>\n",
       "</table>\n",
       "</div>"
      ],
      "text/plain": [
       "           address  floor  allfloor  layout  area    price  browsenum_all\n",
       "0  敦化南路二段81巷信義安和..      1         5  2房2廳1衛  20.0   40,000           1721\n",
       "1  仁愛路四段300巷仁愛延吉..      3         7  2房1廳1衛  19.0   41,000           1054\n",
       "2     仁愛路四段48巷仁愛..      2         4  3房2廳2衛  36.0   45,000           1975\n",
       "3   建國南路一段全新裝潢近北..      4        12  3房2廳2衛  34.0   59,000            736\n",
       "4   仁愛路三段住商信義安和店..     13        28  3房2廳4衛  88.8  400,000           1688"
      ]
     },
     "execution_count": 260,
     "metadata": {},
     "output_type": "execute_result"
    }
   ],
   "source": [
    "house_df.head()"
   ]
  },
  {
   "cell_type": "code",
   "execution_count": 261,
   "metadata": {},
   "outputs": [
    {
     "name": "stderr",
     "output_type": "stream",
     "text": [
      "/Users/davidchiu/.pyenv/versions/3.7.3/lib/python3.7/site-packages/ipykernel_launcher.py:1: SettingWithCopyWarning: \n",
      "A value is trying to be set on a copy of a slice from a DataFrame.\n",
      "Try using .loc[row_indexer,col_indexer] = value instead\n",
      "\n",
      "See the caveats in the documentation: https://pandas.pydata.org/pandas-docs/stable/user_guide/indexing.html#returning-a-view-versus-a-copy\n",
      "  \"\"\"Entry point for launching an IPython kernel.\n"
     ]
    }
   ],
   "source": [
    "house_df['price'] = house_df['price'].map(lambda e: int(e.replace(',','')) ) "
   ]
  },
  {
   "cell_type": "code",
   "execution_count": 263,
   "metadata": {},
   "outputs": [
    {
     "data": {
      "text/html": [
       "<div>\n",
       "<style scoped>\n",
       "    .dataframe tbody tr th:only-of-type {\n",
       "        vertical-align: middle;\n",
       "    }\n",
       "\n",
       "    .dataframe tbody tr th {\n",
       "        vertical-align: top;\n",
       "    }\n",
       "\n",
       "    .dataframe thead th {\n",
       "        text-align: right;\n",
       "    }\n",
       "</style>\n",
       "<table border=\"1\" class=\"dataframe\">\n",
       "  <thead>\n",
       "    <tr style=\"text-align: right;\">\n",
       "      <th></th>\n",
       "      <th>address</th>\n",
       "      <th>floor</th>\n",
       "      <th>allfloor</th>\n",
       "      <th>layout</th>\n",
       "      <th>area</th>\n",
       "      <th>price</th>\n",
       "      <th>browsenum_all</th>\n",
       "    </tr>\n",
       "  </thead>\n",
       "  <tbody>\n",
       "    <tr>\n",
       "      <th>8</th>\n",
       "      <td>仁愛路三段👑高樓景觀豪宅👑優..</td>\n",
       "      <td>13</td>\n",
       "      <td>28</td>\n",
       "      <td>3房2廳4衛</td>\n",
       "      <td>176.0</td>\n",
       "      <td>400000</td>\n",
       "      <td>408</td>\n",
       "    </tr>\n",
       "    <tr>\n",
       "      <th>25</th>\n",
       "      <td>仁愛路三段仲介費八折●仁愛帝..</td>\n",
       "      <td>13</td>\n",
       "      <td>28</td>\n",
       "      <td>4房2廳4衛</td>\n",
       "      <td>176.0</td>\n",
       "      <td>400000</td>\n",
       "      <td>491</td>\n",
       "    </tr>\n",
       "    <tr>\n",
       "      <th>3</th>\n",
       "      <td>仁愛路三段帝寶景觀頂級豪宅</td>\n",
       "      <td>13</td>\n",
       "      <td>28</td>\n",
       "      <td>4房2廳4衛</td>\n",
       "      <td>81.4</td>\n",
       "      <td>400000</td>\n",
       "      <td>153</td>\n",
       "    </tr>\n",
       "    <tr>\n",
       "      <th>26</th>\n",
       "      <td>仁愛路三段帝寶重新裝潢_我成..</td>\n",
       "      <td>13</td>\n",
       "      <td>28</td>\n",
       "      <td>3房2廳4衛</td>\n",
       "      <td>176.2</td>\n",
       "      <td>400000</td>\n",
       "      <td>541</td>\n",
       "    </tr>\n",
       "    <tr>\n",
       "      <th>4</th>\n",
       "      <td>仁愛路三段住商信義安和店..</td>\n",
       "      <td>13</td>\n",
       "      <td>28</td>\n",
       "      <td>3房2廳4衛</td>\n",
       "      <td>88.8</td>\n",
       "      <td>400000</td>\n",
       "      <td>1688</td>\n",
       "    </tr>\n",
       "    <tr>\n",
       "      <th>...</th>\n",
       "      <td>...</td>\n",
       "      <td>...</td>\n",
       "      <td>...</td>\n",
       "      <td>...</td>\n",
       "      <td>...</td>\n",
       "      <td>...</td>\n",
       "      <td>...</td>\n",
       "    </tr>\n",
       "    <tr>\n",
       "      <th>23</th>\n",
       "      <td>復興南路二段151巷成功國宅旁..</td>\n",
       "      <td>4</td>\n",
       "      <td>4</td>\n",
       "      <td>2房0廳1衛</td>\n",
       "      <td>12.0</td>\n",
       "      <td>18000</td>\n",
       "      <td>2360</td>\n",
       "    </tr>\n",
       "    <tr>\n",
       "      <th>13</th>\n",
       "      <td>和平東路二段96巷@科技大樓分..</td>\n",
       "      <td>5</td>\n",
       "      <td>5</td>\n",
       "      <td>開放式格局</td>\n",
       "      <td>5.0</td>\n",
       "      <td>16000</td>\n",
       "      <td>225</td>\n",
       "    </tr>\n",
       "    <tr>\n",
       "      <th>16</th>\n",
       "      <td>通化街101巷透天二樓出租</td>\n",
       "      <td>2</td>\n",
       "      <td>3</td>\n",
       "      <td>2房1廳1衛</td>\n",
       "      <td>12.0</td>\n",
       "      <td>16000</td>\n",
       "      <td>1657</td>\n",
       "    </tr>\n",
       "    <tr>\n",
       "      <th>26</th>\n",
       "      <td>光復南路676巷近通化夜市、捷..</td>\n",
       "      <td>100</td>\n",
       "      <td>4</td>\n",
       "      <td>1房1廳1衛</td>\n",
       "      <td>16.5</td>\n",
       "      <td>13000</td>\n",
       "      <td>979</td>\n",
       "    </tr>\n",
       "    <tr>\n",
       "      <th>11</th>\n",
       "      <td>通化街123巷通化街近信義安和..</td>\n",
       "      <td>4</td>\n",
       "      <td>4</td>\n",
       "      <td>1房2廳1衛</td>\n",
       "      <td>24.0</td>\n",
       "      <td>7000</td>\n",
       "      <td>820</td>\n",
       "    </tr>\n",
       "  </tbody>\n",
       "</table>\n",
       "<p>852 rows × 7 columns</p>\n",
       "</div>"
      ],
      "text/plain": [
       "              address  floor  allfloor  layout   area   price  browsenum_all\n",
       "8    仁愛路三段👑高樓景觀豪宅👑優..     13        28  3房2廳4衛  176.0  400000            408\n",
       "25   仁愛路三段仲介費八折●仁愛帝..     13        28  4房2廳4衛  176.0  400000            491\n",
       "3       仁愛路三段帝寶景觀頂級豪宅     13        28  4房2廳4衛   81.4  400000            153\n",
       "26   仁愛路三段帝寶重新裝潢_我成..     13        28  3房2廳4衛  176.2  400000            541\n",
       "4      仁愛路三段住商信義安和店..     13        28  3房2廳4衛   88.8  400000           1688\n",
       "..                ...    ...       ...     ...    ...     ...            ...\n",
       "23  復興南路二段151巷成功國宅旁..      4         4  2房0廳1衛   12.0   18000           2360\n",
       "13  和平東路二段96巷@科技大樓分..      5         5   開放式格局    5.0   16000            225\n",
       "16      通化街101巷透天二樓出租      2         3  2房1廳1衛   12.0   16000           1657\n",
       "26  光復南路676巷近通化夜市、捷..    100         4  1房1廳1衛   16.5   13000            979\n",
       "11  通化街123巷通化街近信義安和..      4         4  1房2廳1衛   24.0    7000            820\n",
       "\n",
       "[852 rows x 7 columns]"
      ]
     },
     "execution_count": 263,
     "metadata": {},
     "output_type": "execute_result"
    }
   ],
   "source": [
    "house_df.sort_values('price', ascending = False)"
   ]
  },
  {
   "cell_type": "code",
   "execution_count": 265,
   "metadata": {},
   "outputs": [
    {
     "name": "stderr",
     "output_type": "stream",
     "text": [
      "/Users/davidchiu/.pyenv/versions/3.7.3/lib/python3.7/site-packages/ipykernel_launcher.py:1: SettingWithCopyWarning: \n",
      "A value is trying to be set on a copy of a slice from a DataFrame.\n",
      "Try using .loc[row_indexer,col_indexer] = value instead\n",
      "\n",
      "See the caveats in the documentation: https://pandas.pydata.org/pandas-docs/stable/user_guide/indexing.html#returning-a-view-versus-a-copy\n",
      "  \"\"\"Entry point for launching an IPython kernel.\n"
     ]
    }
   ],
   "source": [
    "house_df['unit_price'] = house_df['price'] / house_df['area']"
   ]
  },
  {
   "cell_type": "code",
   "execution_count": 266,
   "metadata": {},
   "outputs": [
    {
     "data": {
      "text/html": [
       "<div>\n",
       "<style scoped>\n",
       "    .dataframe tbody tr th:only-of-type {\n",
       "        vertical-align: middle;\n",
       "    }\n",
       "\n",
       "    .dataframe tbody tr th {\n",
       "        vertical-align: top;\n",
       "    }\n",
       "\n",
       "    .dataframe thead th {\n",
       "        text-align: right;\n",
       "    }\n",
       "</style>\n",
       "<table border=\"1\" class=\"dataframe\">\n",
       "  <thead>\n",
       "    <tr style=\"text-align: right;\">\n",
       "      <th></th>\n",
       "      <th>address</th>\n",
       "      <th>floor</th>\n",
       "      <th>allfloor</th>\n",
       "      <th>layout</th>\n",
       "      <th>area</th>\n",
       "      <th>price</th>\n",
       "      <th>browsenum_all</th>\n",
       "      <th>unit_price</th>\n",
       "    </tr>\n",
       "  </thead>\n",
       "  <tbody>\n",
       "    <tr>\n",
       "      <th>9</th>\n",
       "      <td>新生南路三段11巷§旺德美客§..</td>\n",
       "      <td>6</td>\n",
       "      <td>7</td>\n",
       "      <td>2房2廳2衛</td>\n",
       "      <td>15.0</td>\n",
       "      <td>76000</td>\n",
       "      <td>71</td>\n",
       "      <td>5066.666667</td>\n",
       "    </tr>\n",
       "    <tr>\n",
       "      <th>0</th>\n",
       "      <td>建國南路一段捷運大安森林公園..</td>\n",
       "      <td>5</td>\n",
       "      <td>14</td>\n",
       "      <td>開放式格局</td>\n",
       "      <td>6.6</td>\n",
       "      <td>33000</td>\n",
       "      <td>241</td>\n",
       "      <td>5000.000000</td>\n",
       "    </tr>\n",
       "    <tr>\n",
       "      <th>3</th>\n",
       "      <td>仁愛路三段帝寶景觀頂級豪宅</td>\n",
       "      <td>13</td>\n",
       "      <td>28</td>\n",
       "      <td>4房2廳4衛</td>\n",
       "      <td>81.4</td>\n",
       "      <td>400000</td>\n",
       "      <td>153</td>\n",
       "      <td>4914.004914</td>\n",
       "    </tr>\n",
       "    <tr>\n",
       "      <th>4</th>\n",
       "      <td>仁愛路三段住商信義安和店..</td>\n",
       "      <td>13</td>\n",
       "      <td>28</td>\n",
       "      <td>3房2廳4衛</td>\n",
       "      <td>88.8</td>\n",
       "      <td>400000</td>\n",
       "      <td>1688</td>\n",
       "      <td>4504.504505</td>\n",
       "    </tr>\n",
       "    <tr>\n",
       "      <th>10</th>\n",
       "      <td>市民大道三段★高樓景觀名邸★..</td>\n",
       "      <td>22</td>\n",
       "      <td>23</td>\n",
       "      <td>3房2廳2衛</td>\n",
       "      <td>56.0</td>\n",
       "      <td>250000</td>\n",
       "      <td>276</td>\n",
       "      <td>4464.285714</td>\n",
       "    </tr>\n",
       "    <tr>\n",
       "      <th>...</th>\n",
       "      <td>...</td>\n",
       "      <td>...</td>\n",
       "      <td>...</td>\n",
       "      <td>...</td>\n",
       "      <td>...</td>\n",
       "      <td>...</td>\n",
       "      <td>...</td>\n",
       "      <td>...</td>\n",
       "    </tr>\n",
       "    <tr>\n",
       "      <th>17</th>\n",
       "      <td>臨江街2巷信義安和、101雙捷..</td>\n",
       "      <td>5</td>\n",
       "      <td>5</td>\n",
       "      <td>2房1廳1衛</td>\n",
       "      <td>23.0</td>\n",
       "      <td>18000</td>\n",
       "      <td>565</td>\n",
       "      <td>782.608696</td>\n",
       "    </tr>\n",
       "    <tr>\n",
       "      <th>27</th>\n",
       "      <td>新生南路一段157巷大安林..</td>\n",
       "      <td>4</td>\n",
       "      <td>5</td>\n",
       "      <td>4房2廳2衛</td>\n",
       "      <td>50.0</td>\n",
       "      <td>35000</td>\n",
       "      <td>421</td>\n",
       "      <td>700.000000</td>\n",
       "    </tr>\n",
       "    <tr>\n",
       "      <th>2</th>\n",
       "      <td>新生南路一段157巷大安林..</td>\n",
       "      <td>4</td>\n",
       "      <td>5</td>\n",
       "      <td>4房2廳2衛</td>\n",
       "      <td>50.0</td>\n",
       "      <td>35000</td>\n",
       "      <td>421</td>\n",
       "      <td>700.000000</td>\n",
       "    </tr>\n",
       "    <tr>\n",
       "      <th>16</th>\n",
       "      <td>辛亥路三段157巷大安國小頂家</td>\n",
       "      <td>5</td>\n",
       "      <td>5</td>\n",
       "      <td>4房2廳2衛</td>\n",
       "      <td>50.0</td>\n",
       "      <td>33000</td>\n",
       "      <td>879</td>\n",
       "      <td>660.000000</td>\n",
       "    </tr>\n",
       "    <tr>\n",
       "      <th>11</th>\n",
       "      <td>通化街123巷通化街近信義安和..</td>\n",
       "      <td>4</td>\n",
       "      <td>4</td>\n",
       "      <td>1房2廳1衛</td>\n",
       "      <td>24.0</td>\n",
       "      <td>7000</td>\n",
       "      <td>820</td>\n",
       "      <td>291.666667</td>\n",
       "    </tr>\n",
       "  </tbody>\n",
       "</table>\n",
       "<p>852 rows × 8 columns</p>\n",
       "</div>"
      ],
      "text/plain": [
       "              address  floor  allfloor  layout  area   price  browsenum_all  \\\n",
       "9   新生南路三段11巷§旺德美客§..      6         7  2房2廳2衛  15.0   76000             71   \n",
       "0    建國南路一段捷運大安森林公園..      5        14   開放式格局   6.6   33000            241   \n",
       "3       仁愛路三段帝寶景觀頂級豪宅     13        28  4房2廳4衛  81.4  400000            153   \n",
       "4      仁愛路三段住商信義安和店..     13        28  3房2廳4衛  88.8  400000           1688   \n",
       "10   市民大道三段★高樓景觀名邸★..     22        23  3房2廳2衛  56.0  250000            276   \n",
       "..                ...    ...       ...     ...   ...     ...            ...   \n",
       "17  臨江街2巷信義安和、101雙捷..      5         5  2房1廳1衛  23.0   18000            565   \n",
       "27    新生南路一段157巷大安林..      4         5  4房2廳2衛  50.0   35000            421   \n",
       "2     新生南路一段157巷大安林..      4         5  4房2廳2衛  50.0   35000            421   \n",
       "16    辛亥路三段157巷大安國小頂家      5         5  4房2廳2衛  50.0   33000            879   \n",
       "11  通化街123巷通化街近信義安和..      4         4  1房2廳1衛  24.0    7000            820   \n",
       "\n",
       "     unit_price  \n",
       "9   5066.666667  \n",
       "0   5000.000000  \n",
       "3   4914.004914  \n",
       "4   4504.504505  \n",
       "10  4464.285714  \n",
       "..          ...  \n",
       "17   782.608696  \n",
       "27   700.000000  \n",
       "2    700.000000  \n",
       "16   660.000000  \n",
       "11   291.666667  \n",
       "\n",
       "[852 rows x 8 columns]"
      ]
     },
     "execution_count": 266,
     "metadata": {},
     "output_type": "execute_result"
    }
   ],
   "source": [
    "house_df.sort_values('unit_price', ascending = False)"
   ]
  },
  {
   "cell_type": "code",
   "execution_count": 267,
   "metadata": {},
   "outputs": [
    {
     "data": {
      "text/plain": [
       "1631.5577194549278"
      ]
     },
     "execution_count": 267,
     "metadata": {},
     "output_type": "execute_result"
    }
   ],
   "source": [
    "house_df['unit_price'].median()"
   ]
  },
  {
   "cell_type": "markdown",
   "metadata": {},
   "source": [
    "## 回家練習題\n",
    "-  請抓取自由時報即時新聞 (https://news.ltn.com.tw/list/breakingnews) 的標題、連結與時間"
   ]
  },
  {
   "cell_type": "code",
   "execution_count": 270,
   "metadata": {},
   "outputs": [],
   "source": [
    "import requests\n",
    "res = requests.get('https://rent.591.com.tw/?kind=1&region=1&section=5')\n",
    "#res.text"
   ]
  },
  {
   "cell_type": "code",
   "execution_count": null,
   "metadata": {},
   "outputs": [],
   "source": []
  }
 ],
 "metadata": {
  "kernelspec": {
   "display_name": "Python 3",
   "language": "python",
   "name": "python3"
  },
  "language_info": {
   "codemirror_mode": {
    "name": "ipython",
    "version": 3
   },
   "file_extension": ".py",
   "mimetype": "text/x-python",
   "name": "python",
   "nbconvert_exporter": "python",
   "pygments_lexer": "ipython3",
   "version": "3.7.3"
  }
 },
 "nbformat": 4,
 "nbformat_minor": 4
}
